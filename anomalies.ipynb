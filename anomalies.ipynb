{
 "cells": [
  {
   "cell_type": "code",
   "execution_count": 1,
   "metadata": {},
   "outputs": [],
   "source": [
    "from db.helpers import new_sales_collection"
   ]
  },
  {
   "cell_type": "code",
   "execution_count": 2,
   "metadata": {},
   "outputs": [],
   "source": [
    "def generate_pipeline(year: str):\n",
    "    return {\n",
    "        f\"{year}\": {\n",
    "            \"$sum\": {\n",
    "                \"$cond\": [{\"$eq\": [\"$Sales_Year\", int(year)]}, \"$Monthly_Sales\", 0]\n",
    "            }\n",
    "        },\n",
    "        f\"{year}_month\": {\n",
    "            \"$sum\": {\"$cond\": [{\"$eq\": [\"$Sales_Year\", int(year)]}, 1, 0]}\n",
    "        },\n",
    "    }\n",
    "\n",
    "\n",
    "def calculate_growth(value1, value2):\n",
    "    if value1 == 0:\n",
    "        return None\n",
    "    else:\n",
    "        growth = (value2 - value1) / value1\n",
    "        return growth\n",
    "\n",
    "\n",
    "def year_to_year_growth():\n",
    "    data = new_sales_collection.aggregate(\n",
    "        [\n",
    "            {\n",
    "                \"$group\": {\n",
    "                    \"_id\": \"$Reference_Full_ID\",\n",
    "                    **generate_pipeline(\"2018\"),\n",
    "                    **generate_pipeline(\"2019\"),\n",
    "                    **generate_pipeline(\"2020\"),\n",
    "                    **generate_pipeline(\"2021\"),\n",
    "                    **generate_pipeline(\"2022\"),\n",
    "                    **generate_pipeline(\"2023\"),\n",
    "                }\n",
    "            }\n",
    "        ]\n",
    "    )\n",
    "    data = list(data)\n",
    "    return data\n",
    "\n",
    "\n",
    "def average_outlet_sales_generated_vs_actual():\n",
    "    data = new_sales_collection.aggregate(\n",
    "        [\n",
    "            {\"$match\": {\"Monthly_Sales\": {\"$nin\": [None, 0]}}},\n",
    "            {\n",
    "                \"$group\": {\n",
    "                    \"_id\": \"$Reference_Full_ID\",\n",
    "                    \"generated\": {\n",
    "                        \"$avg\": {\n",
    "                            \"$cond\": [\n",
    "                                {\"$eq\": [\"$Researcher\", \"Mahmoud\"]},\n",
    "                                \"$Monthly_Sales\",\n",
    "                                0,\n",
    "                            ]\n",
    "                        }\n",
    "                    },\n",
    "                    \"actual\": {\n",
    "                        \"$avg\": {\n",
    "                            \"$cond\": [\n",
    "                                {\"$ne\": [\"$Researcher\", \"Mahmoud\"]},\n",
    "                                \"$Monthly_Sales\",\n",
    "                                0,\n",
    "                            ]\n",
    "                        }\n",
    "                    },\n",
    "                }\n",
    "            },\n",
    "            {\"$match\": {\"actual\": {\"$ne\": 0}, \"generated\": {\"$ne\": 0}}},\n",
    "        ]\n",
    "    )\n",
    "    data = list(data)\n",
    "    return data\n",
    "\n",
    "\n",
    "def anomalies():\n",
    "    reference_ids = set()\n",
    "    for record in year_to_year_growth():\n",
    "        reference_full_id = record[\"_id\"]\n",
    "        growth = calculate_growth(record[\"2020\"], record[\"2021\"])\n",
    "        if growth and abs(growth) > 2:\n",
    "            reference_ids.add(reference_full_id)\n",
    "    for record in average_outlet_sales_generated_vs_actual():\n",
    "        reference_full_id = record[\"_id\"]\n",
    "        growth = calculate_growth(record[\"generated\"], record[\"actual\"])\n",
    "        if growth and abs(growth) > 2:\n",
    "            reference_ids.add(reference_full_id)\n",
    "    return list(reference_ids)"
   ]
  },
  {
   "cell_type": "code",
   "execution_count": 3,
   "metadata": {},
   "outputs": [
    {
     "name": "stderr",
     "output_type": "stream",
     "text": [
      "/home/rageq8/.local/lib/python3.10/site-packages/tqdm/auto.py:21: TqdmWarning: IProgress not found. Please update jupyter and ipywidgets. See https://ipywidgets.readthedocs.io/en/stable/user_install.html\n",
      "  from .autonotebook import tqdm as notebook_tqdm\n",
      "09:14:28 - cmdstanpy - INFO - Chain [1] start processing\n"
     ]
    },
    {
     "name": "stdout",
     "output_type": "stream",
     "text": [
      "Foodservice 136085\n"
     ]
    },
    {
     "name": "stderr",
     "output_type": "stream",
     "text": [
      "09:14:29 - cmdstanpy - INFO - Chain [1] done processing\n",
      "/home/rageq8/.local/lib/python3.10/site-packages/_plotly_utils/basevalidators.py:105: FutureWarning: The behavior of DatetimeProperties.to_pydatetime is deprecated, in a future version this will return a Series containing python datetime objects instead of an ndarray. To retain the old behavior, call `np.array` on the result\n",
      "  v = v.dt.to_pydatetime()\n"
     ]
    },
    {
     "data": {
      "text/plain": [
       "'\\nin this example there are gaps in \\n- Weekday_Delivery_Sales\\n- Weekend_Store_Sales\\n- Weekend_Delivery_Sales\\n'"
      ]
     },
     "execution_count": 3,
     "metadata": {},
     "output_type": "execute_result"
    }
   ],
   "source": [
    "from prophet.plot import plot_plotly\n",
    "import pandas as pd\n",
    "from prophet import Prophet\n",
    "\n",
    "\n",
    "def prophet_forecast_model(df: pd.DataFrame, key):\n",
    "    tmp = df[[key, \"Sales_Period\"]].copy()\n",
    "    tmp = tmp.set_index(\"Sales_Period\")\n",
    "    tmp = tmp.reset_index()[[\"Sales_Period\", key]].rename(\n",
    "        columns={\"Sales_Period\": \"ds\", key: \"y\"}\n",
    "    )\n",
    "    model = Prophet(\n",
    "        # seasonality_mode=\"multiplicative\",\n",
    "        # weekly_seasonality=True,\n",
    "        yearly_seasonality=25,\n",
    "        # seasonality_prior_scale=30,\n",
    "    )\n",
    "    return model.fit(tmp)\n",
    "\n",
    "\n",
    "def get_prediction(model: Prophet, number_of_months):\n",
    "    future_dates = model.make_future_dataframe(periods=number_of_months, freq=\"MS\")\n",
    "    predictions = model.predict(future_dates)\n",
    "    return predictions\n",
    "\n",
    "\n",
    "reference_ids = anomalies()\n",
    "# for i in reference_ids:\n",
    "id = reference_ids[0]\n",
    "print(id)\n",
    "data = list(new_sales_collection.find({\"Reference_Full_ID\": id}))\n",
    "df = pd.DataFrame(data)\n",
    "model = prophet_forecast_model(df, \"Monthly_Sales\")\n",
    "forecast = get_prediction(model, 1)\n",
    "plot_plotly(model, forecast)\n",
    "# break\n",
    "\"\"\"\n",
    "in this example there are gaps in \n",
    "- Weekday_Delivery_Sales\n",
    "- Weekend_Store_Sales\n",
    "- Weekend_Delivery_Sales\n",
    "\"\"\""
   ]
  }
 ],
 "metadata": {
  "kernelspec": {
   "display_name": "Python 3",
   "language": "python",
   "name": "python3"
  },
  "language_info": {
   "codemirror_mode": {
    "name": "ipython",
    "version": 3
   },
   "file_extension": ".py",
   "mimetype": "text/x-python",
   "name": "python",
   "nbconvert_exporter": "python",
   "pygments_lexer": "ipython3",
   "version": "3.10.12"
  }
 },
 "nbformat": 4,
 "nbformat_minor": 2
}
