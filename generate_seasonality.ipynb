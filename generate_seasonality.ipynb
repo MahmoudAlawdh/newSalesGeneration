{
 "cells": [
  {
   "cell_type": "code",
   "execution_count": 1,
   "metadata": {},
   "outputs": [],
   "source": [
    "from db.helpers import new_sales_collection \n",
    "import pandas as pd\n",
    "from datetime import datetime\n",
    "from dateutil.relativedelta import relativedelta\n",
    "from helpers.tables import industry_table,area_table\n",
    "import numpy as np"
   ]
  },
  {
   "cell_type": "code",
   "execution_count": 21,
   "metadata": {},
   "outputs": [],
   "source": [
    "keys = ['Weekday_Store_Sales','Weekday_Delivery_Sales','Weekend_Store_Sales','Weekend_Delivery_Sales']\n",
    "\n",
    "def calculate_growth(value1, value2):\n",
    "    if value1 == 0:\n",
    "        return None \n",
    "    else:\n",
    "        growth = ((value2 - value1) / value1) \n",
    "        return growth\n",
    "\n",
    "def group_sales(group_id,match):\n",
    "    # issue here\n",
    "    raise Error(\"sdf\")\n",
    "    pipeline = [\n",
    "        {'$match': {**match,\"Level_1_Area\":\"Kuwait\",    \n",
    "                \"$or\": [\n",
    "                        {\n",
    "                            \"Weekday_Store_Sales\": {\"$ne\": None},\n",
    "                        },\n",
    "                        {\n",
    "                            \"Weekend_Store_Sales\": {\"$ne\": None},\n",
    "                        },\n",
    "                        {\n",
    "                            \"Weekday_Delivery_Sales\": {\"$ne\": None},\n",
    "                        },\n",
    "                        {\n",
    "                            \"Weekend_Delivery_Sales\": {\"$ne\": None},\n",
    "                        },\n",
    "                    ],\"Source\":{'$ne':'Algorithm'}}},\n",
    "    {\n",
    "        '$group': {\n",
    "            '_id': {**group_id,\"year\":\"$Sales_Year\",\"month\":\"$Sales_Month\"}, \n",
    "            'Weekday_Store_Sales': {\n",
    "                '$sum': '$Weekday_Store_Sales'\n",
    "            }, \n",
    "            'Weekday_Delivery_Sales': {\n",
    "                '$sum': '$Weekday_Delivery_Sales'\n",
    "            }, \n",
    "            'Weekend_Store_Sales': {\n",
    "                '$sum': '$Weekend_Store_Sales'\n",
    "            }, \n",
    "            'Weekend_Delivery_Sales': {\n",
    "                '$sum': '$Weekend_Delivery_Sales'\n",
    "            },\n",
    "                \"numberOfOutlets\":{\"$sum\":1}\n",
    "        }\n",
    "    },\n",
    "    {   \"$sort\":{\n",
    "            \"_id.year\":1,\n",
    "             \"_id.month\":1\n",
    "        }\n",
    "    },\n",
    "]\n",
    "    display(pipeline)\n",
    "    return new_sales_collection.aggregate(pipeline)\n",
    "\n",
    "def generate_seasonality_record(base,data):\n",
    "    result = {**base}\n",
    "    keys = ['Weekday_Store_Sales','Weekday_Delivery_Sales','Weekend_Store_Sales','Weekend_Delivery_Sales']\n",
    "    for key in keys: \n",
    "        if len(data) != 2:\n",
    "            result[key] = None\n",
    "            continue\n",
    "        growth = calculate_growth(data[0][key]/data[0]['numberOfOutlets'],data[1][key]/data[1]['numberOfOutlets'])\n",
    "        if growth:\n",
    "            if (growth < 2 and growth > -1):\n",
    "                result[key] = growth\n",
    "    return result\n",
    "\n",
    "\n",
    "def getDates(start_date:datetime=datetime(2016, 1, 1),end_date:datetime=datetime(2023, 12, 1)):\n",
    "    date = start_date\n",
    "    while date <= end_date:\n",
    "        yield date\n",
    "        date += relativedelta(months=1)\n",
    "\n",
    "def filter_sales(data:list,date_1:datetime,date_2:datetime):\n",
    "    return [record for record in data if (record['_id']['year'] == date_1.year and record['_id']['month'] == date_1.month) or (record['_id']['year'] == date_2.year  and record['_id']['month']== date_2.month)]"
   ]
  },
  {
   "cell_type": "code",
   "execution_count": 3,
   "metadata": {},
   "outputs": [],
   "source": [
    "# remove for loop for years and moths and use getDates "
   ]
  },
  {
   "cell_type": "markdown",
   "metadata": {},
   "source": [
    "generate Location Type Seasonality"
   ]
  },
  {
   "cell_type": "code",
   "execution_count": 22,
   "metadata": {},
   "outputs": [
    {
     "data": {
      "text/plain": [
       "[{'$match': {'Location_Type': 'Airport',\n",
       "   'Sales_Month': {'$in': [1, 12]},\n",
       "   'Sales_Year': {'$in': [2016, 2015]},\n",
       "   'Level_1_Area': 'Kuwait',\n",
       "   '$or': [{'Weekday_Store_Sales': {'$ne': None}},\n",
       "    {'Weekend_Store_Sales': {'$ne': None}},\n",
       "    {'Weekday_Delivery_Sales': {'$ne': None}},\n",
       "    {'Weekend_Delivery_Sales': {'$ne': None}}],\n",
       "   'Source': {'$ne': 'Algorithm'}}},\n",
       " {'$group': {'_id': {'Location_Type': '$Location_Type',\n",
       "    'year': '$Sales_Year',\n",
       "    'month': '$Sales_Month'},\n",
       "   'Weekday_Store_Sales': {'$sum': '$Weekday_Store_Sales'},\n",
       "   'Weekday_Delivery_Sales': {'$sum': '$Weekday_Delivery_Sales'},\n",
       "   'Weekend_Store_Sales': {'$sum': '$Weekend_Store_Sales'},\n",
       "   'Weekend_Delivery_Sales': {'$sum': '$Weekend_Delivery_Sales'},\n",
       "   'numberOfOutlets': {'$sum': 1}}},\n",
       " {'$sort': {'_id.year': 1, '_id.month': 1}}]"
      ]
     },
     "metadata": {},
     "output_type": "display_data"
    },
    {
     "data": {
      "text/plain": [
       "[{'$match': {'Location_Type': 'Airport',\n",
       "   'Sales_Month': {'$in': [2, 1]},\n",
       "   'Sales_Year': {'$in': [2016, 2016]},\n",
       "   'Level_1_Area': 'Kuwait',\n",
       "   '$or': [{'Weekday_Store_Sales': {'$ne': None}},\n",
       "    {'Weekend_Store_Sales': {'$ne': None}},\n",
       "    {'Weekday_Delivery_Sales': {'$ne': None}},\n",
       "    {'Weekend_Delivery_Sales': {'$ne': None}}],\n",
       "   'Source': {'$ne': 'Algorithm'}}},\n",
       " {'$group': {'_id': {'Location_Type': '$Location_Type',\n",
       "    'year': '$Sales_Year',\n",
       "    'month': '$Sales_Month'},\n",
       "   'Weekday_Store_Sales': {'$sum': '$Weekday_Store_Sales'},\n",
       "   'Weekday_Delivery_Sales': {'$sum': '$Weekday_Delivery_Sales'},\n",
       "   'Weekend_Store_Sales': {'$sum': '$Weekend_Store_Sales'},\n",
       "   'Weekend_Delivery_Sales': {'$sum': '$Weekend_Delivery_Sales'},\n",
       "   'numberOfOutlets': {'$sum': 1}}},\n",
       " {'$sort': {'_id.year': 1, '_id.month': 1}}]"
      ]
     },
     "metadata": {},
     "output_type": "display_data"
    },
    {
     "data": {
      "text/plain": [
       "[{'$match': {'Location_Type': 'Airport',\n",
       "   'Sales_Month': {'$in': [3, 2]},\n",
       "   'Sales_Year': {'$in': [2016, 2016]},\n",
       "   'Level_1_Area': 'Kuwait',\n",
       "   '$or': [{'Weekday_Store_Sales': {'$ne': None}},\n",
       "    {'Weekend_Store_Sales': {'$ne': None}},\n",
       "    {'Weekday_Delivery_Sales': {'$ne': None}},\n",
       "    {'Weekend_Delivery_Sales': {'$ne': None}}],\n",
       "   'Source': {'$ne': 'Algorithm'}}},\n",
       " {'$group': {'_id': {'Location_Type': '$Location_Type',\n",
       "    'year': '$Sales_Year',\n",
       "    'month': '$Sales_Month'},\n",
       "   'Weekday_Store_Sales': {'$sum': '$Weekday_Store_Sales'},\n",
       "   'Weekday_Delivery_Sales': {'$sum': '$Weekday_Delivery_Sales'},\n",
       "   'Weekend_Store_Sales': {'$sum': '$Weekend_Store_Sales'},\n",
       "   'Weekend_Delivery_Sales': {'$sum': '$Weekend_Delivery_Sales'},\n",
       "   'numberOfOutlets': {'$sum': 1}}},\n",
       " {'$sort': {'_id.year': 1, '_id.month': 1}}]"
      ]
     },
     "metadata": {},
     "output_type": "display_data"
    },
    {
     "data": {
      "text/plain": [
       "[{'$match': {'Location_Type': 'Airport',\n",
       "   'Sales_Month': {'$in': [4, 3]},\n",
       "   'Sales_Year': {'$in': [2016, 2016]},\n",
       "   'Level_1_Area': 'Kuwait',\n",
       "   '$or': [{'Weekday_Store_Sales': {'$ne': None}},\n",
       "    {'Weekend_Store_Sales': {'$ne': None}},\n",
       "    {'Weekday_Delivery_Sales': {'$ne': None}},\n",
       "    {'Weekend_Delivery_Sales': {'$ne': None}}],\n",
       "   'Source': {'$ne': 'Algorithm'}}},\n",
       " {'$group': {'_id': {'Location_Type': '$Location_Type',\n",
       "    'year': '$Sales_Year',\n",
       "    'month': '$Sales_Month'},\n",
       "   'Weekday_Store_Sales': {'$sum': '$Weekday_Store_Sales'},\n",
       "   'Weekday_Delivery_Sales': {'$sum': '$Weekday_Delivery_Sales'},\n",
       "   'Weekend_Store_Sales': {'$sum': '$Weekend_Store_Sales'},\n",
       "   'Weekend_Delivery_Sales': {'$sum': '$Weekend_Delivery_Sales'},\n",
       "   'numberOfOutlets': {'$sum': 1}}},\n",
       " {'$sort': {'_id.year': 1, '_id.month': 1}}]"
      ]
     },
     "metadata": {},
     "output_type": "display_data"
    },
    {
     "data": {
      "text/plain": [
       "[{'$match': {'Location_Type': 'Airport',\n",
       "   'Sales_Month': {'$in': [5, 4]},\n",
       "   'Sales_Year': {'$in': [2016, 2016]},\n",
       "   'Level_1_Area': 'Kuwait',\n",
       "   '$or': [{'Weekday_Store_Sales': {'$ne': None}},\n",
       "    {'Weekend_Store_Sales': {'$ne': None}},\n",
       "    {'Weekday_Delivery_Sales': {'$ne': None}},\n",
       "    {'Weekend_Delivery_Sales': {'$ne': None}}],\n",
       "   'Source': {'$ne': 'Algorithm'}}},\n",
       " {'$group': {'_id': {'Location_Type': '$Location_Type',\n",
       "    'year': '$Sales_Year',\n",
       "    'month': '$Sales_Month'},\n",
       "   'Weekday_Store_Sales': {'$sum': '$Weekday_Store_Sales'},\n",
       "   'Weekday_Delivery_Sales': {'$sum': '$Weekday_Delivery_Sales'},\n",
       "   'Weekend_Store_Sales': {'$sum': '$Weekend_Store_Sales'},\n",
       "   'Weekend_Delivery_Sales': {'$sum': '$Weekend_Delivery_Sales'},\n",
       "   'numberOfOutlets': {'$sum': 1}}},\n",
       " {'$sort': {'_id.year': 1, '_id.month': 1}}]"
      ]
     },
     "metadata": {},
     "output_type": "display_data"
    },
    {
     "data": {
      "text/plain": [
       "[{'$match': {'Location_Type': 'Airport',\n",
       "   'Sales_Month': {'$in': [6, 5]},\n",
       "   'Sales_Year': {'$in': [2016, 2016]},\n",
       "   'Level_1_Area': 'Kuwait',\n",
       "   '$or': [{'Weekday_Store_Sales': {'$ne': None}},\n",
       "    {'Weekend_Store_Sales': {'$ne': None}},\n",
       "    {'Weekday_Delivery_Sales': {'$ne': None}},\n",
       "    {'Weekend_Delivery_Sales': {'$ne': None}}],\n",
       "   'Source': {'$ne': 'Algorithm'}}},\n",
       " {'$group': {'_id': {'Location_Type': '$Location_Type',\n",
       "    'year': '$Sales_Year',\n",
       "    'month': '$Sales_Month'},\n",
       "   'Weekday_Store_Sales': {'$sum': '$Weekday_Store_Sales'},\n",
       "   'Weekday_Delivery_Sales': {'$sum': '$Weekday_Delivery_Sales'},\n",
       "   'Weekend_Store_Sales': {'$sum': '$Weekend_Store_Sales'},\n",
       "   'Weekend_Delivery_Sales': {'$sum': '$Weekend_Delivery_Sales'},\n",
       "   'numberOfOutlets': {'$sum': 1}}},\n",
       " {'$sort': {'_id.year': 1, '_id.month': 1}}]"
      ]
     },
     "metadata": {},
     "output_type": "display_data"
    },
    {
     "data": {
      "text/plain": [
       "[{'$match': {'Location_Type': 'Airport',\n",
       "   'Sales_Month': {'$in': [7, 6]},\n",
       "   'Sales_Year': {'$in': [2016, 2016]},\n",
       "   'Level_1_Area': 'Kuwait',\n",
       "   '$or': [{'Weekday_Store_Sales': {'$ne': None}},\n",
       "    {'Weekend_Store_Sales': {'$ne': None}},\n",
       "    {'Weekday_Delivery_Sales': {'$ne': None}},\n",
       "    {'Weekend_Delivery_Sales': {'$ne': None}}],\n",
       "   'Source': {'$ne': 'Algorithm'}}},\n",
       " {'$group': {'_id': {'Location_Type': '$Location_Type',\n",
       "    'year': '$Sales_Year',\n",
       "    'month': '$Sales_Month'},\n",
       "   'Weekday_Store_Sales': {'$sum': '$Weekday_Store_Sales'},\n",
       "   'Weekday_Delivery_Sales': {'$sum': '$Weekday_Delivery_Sales'},\n",
       "   'Weekend_Store_Sales': {'$sum': '$Weekend_Store_Sales'},\n",
       "   'Weekend_Delivery_Sales': {'$sum': '$Weekend_Delivery_Sales'},\n",
       "   'numberOfOutlets': {'$sum': 1}}},\n",
       " {'$sort': {'_id.year': 1, '_id.month': 1}}]"
      ]
     },
     "metadata": {},
     "output_type": "display_data"
    },
    {
     "data": {
      "text/plain": [
       "[{'$match': {'Location_Type': 'Airport',\n",
       "   'Sales_Month': {'$in': [8, 7]},\n",
       "   'Sales_Year': {'$in': [2016, 2016]},\n",
       "   'Level_1_Area': 'Kuwait',\n",
       "   '$or': [{'Weekday_Store_Sales': {'$ne': None}},\n",
       "    {'Weekend_Store_Sales': {'$ne': None}},\n",
       "    {'Weekday_Delivery_Sales': {'$ne': None}},\n",
       "    {'Weekend_Delivery_Sales': {'$ne': None}}],\n",
       "   'Source': {'$ne': 'Algorithm'}}},\n",
       " {'$group': {'_id': {'Location_Type': '$Location_Type',\n",
       "    'year': '$Sales_Year',\n",
       "    'month': '$Sales_Month'},\n",
       "   'Weekday_Store_Sales': {'$sum': '$Weekday_Store_Sales'},\n",
       "   'Weekday_Delivery_Sales': {'$sum': '$Weekday_Delivery_Sales'},\n",
       "   'Weekend_Store_Sales': {'$sum': '$Weekend_Store_Sales'},\n",
       "   'Weekend_Delivery_Sales': {'$sum': '$Weekend_Delivery_Sales'},\n",
       "   'numberOfOutlets': {'$sum': 1}}},\n",
       " {'$sort': {'_id.year': 1, '_id.month': 1}}]"
      ]
     },
     "metadata": {},
     "output_type": "display_data"
    },
    {
     "data": {
      "text/plain": [
       "[{'$match': {'Location_Type': 'Airport',\n",
       "   'Sales_Month': {'$in': [9, 8]},\n",
       "   'Sales_Year': {'$in': [2016, 2016]},\n",
       "   'Level_1_Area': 'Kuwait',\n",
       "   '$or': [{'Weekday_Store_Sales': {'$ne': None}},\n",
       "    {'Weekend_Store_Sales': {'$ne': None}},\n",
       "    {'Weekday_Delivery_Sales': {'$ne': None}},\n",
       "    {'Weekend_Delivery_Sales': {'$ne': None}}],\n",
       "   'Source': {'$ne': 'Algorithm'}}},\n",
       " {'$group': {'_id': {'Location_Type': '$Location_Type',\n",
       "    'year': '$Sales_Year',\n",
       "    'month': '$Sales_Month'},\n",
       "   'Weekday_Store_Sales': {'$sum': '$Weekday_Store_Sales'},\n",
       "   'Weekday_Delivery_Sales': {'$sum': '$Weekday_Delivery_Sales'},\n",
       "   'Weekend_Store_Sales': {'$sum': '$Weekend_Store_Sales'},\n",
       "   'Weekend_Delivery_Sales': {'$sum': '$Weekend_Delivery_Sales'},\n",
       "   'numberOfOutlets': {'$sum': 1}}},\n",
       " {'$sort': {'_id.year': 1, '_id.month': 1}}]"
      ]
     },
     "metadata": {},
     "output_type": "display_data"
    },
    {
     "data": {
      "text/plain": [
       "[{'$match': {'Location_Type': 'Airport',\n",
       "   'Sales_Month': {'$in': [10, 9]},\n",
       "   'Sales_Year': {'$in': [2016, 2016]},\n",
       "   'Level_1_Area': 'Kuwait',\n",
       "   '$or': [{'Weekday_Store_Sales': {'$ne': None}},\n",
       "    {'Weekend_Store_Sales': {'$ne': None}},\n",
       "    {'Weekday_Delivery_Sales': {'$ne': None}},\n",
       "    {'Weekend_Delivery_Sales': {'$ne': None}}],\n",
       "   'Source': {'$ne': 'Algorithm'}}},\n",
       " {'$group': {'_id': {'Location_Type': '$Location_Type',\n",
       "    'year': '$Sales_Year',\n",
       "    'month': '$Sales_Month'},\n",
       "   'Weekday_Store_Sales': {'$sum': '$Weekday_Store_Sales'},\n",
       "   'Weekday_Delivery_Sales': {'$sum': '$Weekday_Delivery_Sales'},\n",
       "   'Weekend_Store_Sales': {'$sum': '$Weekend_Store_Sales'},\n",
       "   'Weekend_Delivery_Sales': {'$sum': '$Weekend_Delivery_Sales'},\n",
       "   'numberOfOutlets': {'$sum': 1}}},\n",
       " {'$sort': {'_id.year': 1, '_id.month': 1}}]"
      ]
     },
     "metadata": {},
     "output_type": "display_data"
    },
    {
     "data": {
      "text/plain": [
       "[{'$match': {'Location_Type': 'Airport',\n",
       "   'Sales_Month': {'$in': [11, 10]},\n",
       "   'Sales_Year': {'$in': [2016, 2016]},\n",
       "   'Level_1_Area': 'Kuwait',\n",
       "   '$or': [{'Weekday_Store_Sales': {'$ne': None}},\n",
       "    {'Weekend_Store_Sales': {'$ne': None}},\n",
       "    {'Weekday_Delivery_Sales': {'$ne': None}},\n",
       "    {'Weekend_Delivery_Sales': {'$ne': None}}],\n",
       "   'Source': {'$ne': 'Algorithm'}}},\n",
       " {'$group': {'_id': {'Location_Type': '$Location_Type',\n",
       "    'year': '$Sales_Year',\n",
       "    'month': '$Sales_Month'},\n",
       "   'Weekday_Store_Sales': {'$sum': '$Weekday_Store_Sales'},\n",
       "   'Weekday_Delivery_Sales': {'$sum': '$Weekday_Delivery_Sales'},\n",
       "   'Weekend_Store_Sales': {'$sum': '$Weekend_Store_Sales'},\n",
       "   'Weekend_Delivery_Sales': {'$sum': '$Weekend_Delivery_Sales'},\n",
       "   'numberOfOutlets': {'$sum': 1}}},\n",
       " {'$sort': {'_id.year': 1, '_id.month': 1}}]"
      ]
     },
     "metadata": {},
     "output_type": "display_data"
    },
    {
     "data": {
      "text/plain": [
       "[{'$match': {'Location_Type': 'Airport',\n",
       "   'Sales_Month': {'$in': [12, 11]},\n",
       "   'Sales_Year': {'$in': [2016, 2016]},\n",
       "   'Level_1_Area': 'Kuwait',\n",
       "   '$or': [{'Weekday_Store_Sales': {'$ne': None}},\n",
       "    {'Weekend_Store_Sales': {'$ne': None}},\n",
       "    {'Weekday_Delivery_Sales': {'$ne': None}},\n",
       "    {'Weekend_Delivery_Sales': {'$ne': None}}],\n",
       "   'Source': {'$ne': 'Algorithm'}}},\n",
       " {'$group': {'_id': {'Location_Type': '$Location_Type',\n",
       "    'year': '$Sales_Year',\n",
       "    'month': '$Sales_Month'},\n",
       "   'Weekday_Store_Sales': {'$sum': '$Weekday_Store_Sales'},\n",
       "   'Weekday_Delivery_Sales': {'$sum': '$Weekday_Delivery_Sales'},\n",
       "   'Weekend_Store_Sales': {'$sum': '$Weekend_Store_Sales'},\n",
       "   'Weekend_Delivery_Sales': {'$sum': '$Weekend_Delivery_Sales'},\n",
       "   'numberOfOutlets': {'$sum': 1}}},\n",
       " {'$sort': {'_id.year': 1, '_id.month': 1}}]"
      ]
     },
     "metadata": {},
     "output_type": "display_data"
    },
    {
     "data": {
      "text/plain": [
       "[{'$match': {'Location_Type': 'Airport',\n",
       "   'Sales_Month': {'$in': [1, 12]},\n",
       "   'Sales_Year': {'$in': [2017, 2016]},\n",
       "   'Level_1_Area': 'Kuwait',\n",
       "   '$or': [{'Weekday_Store_Sales': {'$ne': None}},\n",
       "    {'Weekend_Store_Sales': {'$ne': None}},\n",
       "    {'Weekday_Delivery_Sales': {'$ne': None}},\n",
       "    {'Weekend_Delivery_Sales': {'$ne': None}}],\n",
       "   'Source': {'$ne': 'Algorithm'}}},\n",
       " {'$group': {'_id': {'Location_Type': '$Location_Type',\n",
       "    'year': '$Sales_Year',\n",
       "    'month': '$Sales_Month'},\n",
       "   'Weekday_Store_Sales': {'$sum': '$Weekday_Store_Sales'},\n",
       "   'Weekday_Delivery_Sales': {'$sum': '$Weekday_Delivery_Sales'},\n",
       "   'Weekend_Store_Sales': {'$sum': '$Weekend_Store_Sales'},\n",
       "   'Weekend_Delivery_Sales': {'$sum': '$Weekend_Delivery_Sales'},\n",
       "   'numberOfOutlets': {'$sum': 1}}},\n",
       " {'$sort': {'_id.year': 1, '_id.month': 1}}]"
      ]
     },
     "metadata": {},
     "output_type": "display_data"
    },
    {
     "data": {
      "text/plain": [
       "[{'$match': {'Location_Type': 'Airport',\n",
       "   'Sales_Month': {'$in': [2, 1]},\n",
       "   'Sales_Year': {'$in': [2017, 2017]},\n",
       "   'Level_1_Area': 'Kuwait',\n",
       "   '$or': [{'Weekday_Store_Sales': {'$ne': None}},\n",
       "    {'Weekend_Store_Sales': {'$ne': None}},\n",
       "    {'Weekday_Delivery_Sales': {'$ne': None}},\n",
       "    {'Weekend_Delivery_Sales': {'$ne': None}}],\n",
       "   'Source': {'$ne': 'Algorithm'}}},\n",
       " {'$group': {'_id': {'Location_Type': '$Location_Type',\n",
       "    'year': '$Sales_Year',\n",
       "    'month': '$Sales_Month'},\n",
       "   'Weekday_Store_Sales': {'$sum': '$Weekday_Store_Sales'},\n",
       "   'Weekday_Delivery_Sales': {'$sum': '$Weekday_Delivery_Sales'},\n",
       "   'Weekend_Store_Sales': {'$sum': '$Weekend_Store_Sales'},\n",
       "   'Weekend_Delivery_Sales': {'$sum': '$Weekend_Delivery_Sales'},\n",
       "   'numberOfOutlets': {'$sum': 1}}},\n",
       " {'$sort': {'_id.year': 1, '_id.month': 1}}]"
      ]
     },
     "metadata": {},
     "output_type": "display_data"
    },
    {
     "data": {
      "text/plain": [
       "[{'$match': {'Location_Type': 'Airport',\n",
       "   'Sales_Month': {'$in': [3, 2]},\n",
       "   'Sales_Year': {'$in': [2017, 2017]},\n",
       "   'Level_1_Area': 'Kuwait',\n",
       "   '$or': [{'Weekday_Store_Sales': {'$ne': None}},\n",
       "    {'Weekend_Store_Sales': {'$ne': None}},\n",
       "    {'Weekday_Delivery_Sales': {'$ne': None}},\n",
       "    {'Weekend_Delivery_Sales': {'$ne': None}}],\n",
       "   'Source': {'$ne': 'Algorithm'}}},\n",
       " {'$group': {'_id': {'Location_Type': '$Location_Type',\n",
       "    'year': '$Sales_Year',\n",
       "    'month': '$Sales_Month'},\n",
       "   'Weekday_Store_Sales': {'$sum': '$Weekday_Store_Sales'},\n",
       "   'Weekday_Delivery_Sales': {'$sum': '$Weekday_Delivery_Sales'},\n",
       "   'Weekend_Store_Sales': {'$sum': '$Weekend_Store_Sales'},\n",
       "   'Weekend_Delivery_Sales': {'$sum': '$Weekend_Delivery_Sales'},\n",
       "   'numberOfOutlets': {'$sum': 1}}},\n",
       " {'$sort': {'_id.year': 1, '_id.month': 1}}]"
      ]
     },
     "metadata": {},
     "output_type": "display_data"
    },
    {
     "data": {
      "text/plain": [
       "[{'$match': {'Location_Type': 'Airport',\n",
       "   'Sales_Month': {'$in': [4, 3]},\n",
       "   'Sales_Year': {'$in': [2017, 2017]},\n",
       "   'Level_1_Area': 'Kuwait',\n",
       "   '$or': [{'Weekday_Store_Sales': {'$ne': None}},\n",
       "    {'Weekend_Store_Sales': {'$ne': None}},\n",
       "    {'Weekday_Delivery_Sales': {'$ne': None}},\n",
       "    {'Weekend_Delivery_Sales': {'$ne': None}}],\n",
       "   'Source': {'$ne': 'Algorithm'}}},\n",
       " {'$group': {'_id': {'Location_Type': '$Location_Type',\n",
       "    'year': '$Sales_Year',\n",
       "    'month': '$Sales_Month'},\n",
       "   'Weekday_Store_Sales': {'$sum': '$Weekday_Store_Sales'},\n",
       "   'Weekday_Delivery_Sales': {'$sum': '$Weekday_Delivery_Sales'},\n",
       "   'Weekend_Store_Sales': {'$sum': '$Weekend_Store_Sales'},\n",
       "   'Weekend_Delivery_Sales': {'$sum': '$Weekend_Delivery_Sales'},\n",
       "   'numberOfOutlets': {'$sum': 1}}},\n",
       " {'$sort': {'_id.year': 1, '_id.month': 1}}]"
      ]
     },
     "metadata": {},
     "output_type": "display_data"
    },
    {
     "data": {
      "text/plain": [
       "[{'$match': {'Location_Type': 'Airport',\n",
       "   'Sales_Month': {'$in': [5, 4]},\n",
       "   'Sales_Year': {'$in': [2017, 2017]},\n",
       "   'Level_1_Area': 'Kuwait',\n",
       "   '$or': [{'Weekday_Store_Sales': {'$ne': None}},\n",
       "    {'Weekend_Store_Sales': {'$ne': None}},\n",
       "    {'Weekday_Delivery_Sales': {'$ne': None}},\n",
       "    {'Weekend_Delivery_Sales': {'$ne': None}}],\n",
       "   'Source': {'$ne': 'Algorithm'}}},\n",
       " {'$group': {'_id': {'Location_Type': '$Location_Type',\n",
       "    'year': '$Sales_Year',\n",
       "    'month': '$Sales_Month'},\n",
       "   'Weekday_Store_Sales': {'$sum': '$Weekday_Store_Sales'},\n",
       "   'Weekday_Delivery_Sales': {'$sum': '$Weekday_Delivery_Sales'},\n",
       "   'Weekend_Store_Sales': {'$sum': '$Weekend_Store_Sales'},\n",
       "   'Weekend_Delivery_Sales': {'$sum': '$Weekend_Delivery_Sales'},\n",
       "   'numberOfOutlets': {'$sum': 1}}},\n",
       " {'$sort': {'_id.year': 1, '_id.month': 1}}]"
      ]
     },
     "metadata": {},
     "output_type": "display_data"
    },
    {
     "data": {
      "text/plain": [
       "[{'$match': {'Location_Type': 'Airport',\n",
       "   'Sales_Month': {'$in': [6, 5]},\n",
       "   'Sales_Year': {'$in': [2017, 2017]},\n",
       "   'Level_1_Area': 'Kuwait',\n",
       "   '$or': [{'Weekday_Store_Sales': {'$ne': None}},\n",
       "    {'Weekend_Store_Sales': {'$ne': None}},\n",
       "    {'Weekday_Delivery_Sales': {'$ne': None}},\n",
       "    {'Weekend_Delivery_Sales': {'$ne': None}}],\n",
       "   'Source': {'$ne': 'Algorithm'}}},\n",
       " {'$group': {'_id': {'Location_Type': '$Location_Type',\n",
       "    'year': '$Sales_Year',\n",
       "    'month': '$Sales_Month'},\n",
       "   'Weekday_Store_Sales': {'$sum': '$Weekday_Store_Sales'},\n",
       "   'Weekday_Delivery_Sales': {'$sum': '$Weekday_Delivery_Sales'},\n",
       "   'Weekend_Store_Sales': {'$sum': '$Weekend_Store_Sales'},\n",
       "   'Weekend_Delivery_Sales': {'$sum': '$Weekend_Delivery_Sales'},\n",
       "   'numberOfOutlets': {'$sum': 1}}},\n",
       " {'$sort': {'_id.year': 1, '_id.month': 1}}]"
      ]
     },
     "metadata": {},
     "output_type": "display_data"
    },
    {
     "data": {
      "text/plain": [
       "[{'$match': {'Location_Type': 'Airport',\n",
       "   'Sales_Month': {'$in': [7, 6]},\n",
       "   'Sales_Year': {'$in': [2017, 2017]},\n",
       "   'Level_1_Area': 'Kuwait',\n",
       "   '$or': [{'Weekday_Store_Sales': {'$ne': None}},\n",
       "    {'Weekend_Store_Sales': {'$ne': None}},\n",
       "    {'Weekday_Delivery_Sales': {'$ne': None}},\n",
       "    {'Weekend_Delivery_Sales': {'$ne': None}}],\n",
       "   'Source': {'$ne': 'Algorithm'}}},\n",
       " {'$group': {'_id': {'Location_Type': '$Location_Type',\n",
       "    'year': '$Sales_Year',\n",
       "    'month': '$Sales_Month'},\n",
       "   'Weekday_Store_Sales': {'$sum': '$Weekday_Store_Sales'},\n",
       "   'Weekday_Delivery_Sales': {'$sum': '$Weekday_Delivery_Sales'},\n",
       "   'Weekend_Store_Sales': {'$sum': '$Weekend_Store_Sales'},\n",
       "   'Weekend_Delivery_Sales': {'$sum': '$Weekend_Delivery_Sales'},\n",
       "   'numberOfOutlets': {'$sum': 1}}},\n",
       " {'$sort': {'_id.year': 1, '_id.month': 1}}]"
      ]
     },
     "metadata": {},
     "output_type": "display_data"
    },
    {
     "data": {
      "text/plain": [
       "[{'$match': {'Location_Type': 'Airport',\n",
       "   'Sales_Month': {'$in': [8, 7]},\n",
       "   'Sales_Year': {'$in': [2017, 2017]},\n",
       "   'Level_1_Area': 'Kuwait',\n",
       "   '$or': [{'Weekday_Store_Sales': {'$ne': None}},\n",
       "    {'Weekend_Store_Sales': {'$ne': None}},\n",
       "    {'Weekday_Delivery_Sales': {'$ne': None}},\n",
       "    {'Weekend_Delivery_Sales': {'$ne': None}}],\n",
       "   'Source': {'$ne': 'Algorithm'}}},\n",
       " {'$group': {'_id': {'Location_Type': '$Location_Type',\n",
       "    'year': '$Sales_Year',\n",
       "    'month': '$Sales_Month'},\n",
       "   'Weekday_Store_Sales': {'$sum': '$Weekday_Store_Sales'},\n",
       "   'Weekday_Delivery_Sales': {'$sum': '$Weekday_Delivery_Sales'},\n",
       "   'Weekend_Store_Sales': {'$sum': '$Weekend_Store_Sales'},\n",
       "   'Weekend_Delivery_Sales': {'$sum': '$Weekend_Delivery_Sales'},\n",
       "   'numberOfOutlets': {'$sum': 1}}},\n",
       " {'$sort': {'_id.year': 1, '_id.month': 1}}]"
      ]
     },
     "metadata": {},
     "output_type": "display_data"
    },
    {
     "data": {
      "text/plain": [
       "[{'$match': {'Location_Type': 'Airport',\n",
       "   'Sales_Month': {'$in': [9, 8]},\n",
       "   'Sales_Year': {'$in': [2017, 2017]},\n",
       "   'Level_1_Area': 'Kuwait',\n",
       "   '$or': [{'Weekday_Store_Sales': {'$ne': None}},\n",
       "    {'Weekend_Store_Sales': {'$ne': None}},\n",
       "    {'Weekday_Delivery_Sales': {'$ne': None}},\n",
       "    {'Weekend_Delivery_Sales': {'$ne': None}}],\n",
       "   'Source': {'$ne': 'Algorithm'}}},\n",
       " {'$group': {'_id': {'Location_Type': '$Location_Type',\n",
       "    'year': '$Sales_Year',\n",
       "    'month': '$Sales_Month'},\n",
       "   'Weekday_Store_Sales': {'$sum': '$Weekday_Store_Sales'},\n",
       "   'Weekday_Delivery_Sales': {'$sum': '$Weekday_Delivery_Sales'},\n",
       "   'Weekend_Store_Sales': {'$sum': '$Weekend_Store_Sales'},\n",
       "   'Weekend_Delivery_Sales': {'$sum': '$Weekend_Delivery_Sales'},\n",
       "   'numberOfOutlets': {'$sum': 1}}},\n",
       " {'$sort': {'_id.year': 1, '_id.month': 1}}]"
      ]
     },
     "metadata": {},
     "output_type": "display_data"
    },
    {
     "data": {
      "text/plain": [
       "[{'$match': {'Location_Type': 'Airport',\n",
       "   'Sales_Month': {'$in': [10, 9]},\n",
       "   'Sales_Year': {'$in': [2017, 2017]},\n",
       "   'Level_1_Area': 'Kuwait',\n",
       "   '$or': [{'Weekday_Store_Sales': {'$ne': None}},\n",
       "    {'Weekend_Store_Sales': {'$ne': None}},\n",
       "    {'Weekday_Delivery_Sales': {'$ne': None}},\n",
       "    {'Weekend_Delivery_Sales': {'$ne': None}}],\n",
       "   'Source': {'$ne': 'Algorithm'}}},\n",
       " {'$group': {'_id': {'Location_Type': '$Location_Type',\n",
       "    'year': '$Sales_Year',\n",
       "    'month': '$Sales_Month'},\n",
       "   'Weekday_Store_Sales': {'$sum': '$Weekday_Store_Sales'},\n",
       "   'Weekday_Delivery_Sales': {'$sum': '$Weekday_Delivery_Sales'},\n",
       "   'Weekend_Store_Sales': {'$sum': '$Weekend_Store_Sales'},\n",
       "   'Weekend_Delivery_Sales': {'$sum': '$Weekend_Delivery_Sales'},\n",
       "   'numberOfOutlets': {'$sum': 1}}},\n",
       " {'$sort': {'_id.year': 1, '_id.month': 1}}]"
      ]
     },
     "metadata": {},
     "output_type": "display_data"
    },
    {
     "data": {
      "text/plain": [
       "[{'$match': {'Location_Type': 'Airport',\n",
       "   'Sales_Month': {'$in': [11, 10]},\n",
       "   'Sales_Year': {'$in': [2017, 2017]},\n",
       "   'Level_1_Area': 'Kuwait',\n",
       "   '$or': [{'Weekday_Store_Sales': {'$ne': None}},\n",
       "    {'Weekend_Store_Sales': {'$ne': None}},\n",
       "    {'Weekday_Delivery_Sales': {'$ne': None}},\n",
       "    {'Weekend_Delivery_Sales': {'$ne': None}}],\n",
       "   'Source': {'$ne': 'Algorithm'}}},\n",
       " {'$group': {'_id': {'Location_Type': '$Location_Type',\n",
       "    'year': '$Sales_Year',\n",
       "    'month': '$Sales_Month'},\n",
       "   'Weekday_Store_Sales': {'$sum': '$Weekday_Store_Sales'},\n",
       "   'Weekday_Delivery_Sales': {'$sum': '$Weekday_Delivery_Sales'},\n",
       "   'Weekend_Store_Sales': {'$sum': '$Weekend_Store_Sales'},\n",
       "   'Weekend_Delivery_Sales': {'$sum': '$Weekend_Delivery_Sales'},\n",
       "   'numberOfOutlets': {'$sum': 1}}},\n",
       " {'$sort': {'_id.year': 1, '_id.month': 1}}]"
      ]
     },
     "metadata": {},
     "output_type": "display_data"
    },
    {
     "data": {
      "text/plain": [
       "[{'$match': {'Location_Type': 'Airport',\n",
       "   'Sales_Month': {'$in': [12, 11]},\n",
       "   'Sales_Year': {'$in': [2017, 2017]},\n",
       "   'Level_1_Area': 'Kuwait',\n",
       "   '$or': [{'Weekday_Store_Sales': {'$ne': None}},\n",
       "    {'Weekend_Store_Sales': {'$ne': None}},\n",
       "    {'Weekday_Delivery_Sales': {'$ne': None}},\n",
       "    {'Weekend_Delivery_Sales': {'$ne': None}}],\n",
       "   'Source': {'$ne': 'Algorithm'}}},\n",
       " {'$group': {'_id': {'Location_Type': '$Location_Type',\n",
       "    'year': '$Sales_Year',\n",
       "    'month': '$Sales_Month'},\n",
       "   'Weekday_Store_Sales': {'$sum': '$Weekday_Store_Sales'},\n",
       "   'Weekday_Delivery_Sales': {'$sum': '$Weekday_Delivery_Sales'},\n",
       "   'Weekend_Store_Sales': {'$sum': '$Weekend_Store_Sales'},\n",
       "   'Weekend_Delivery_Sales': {'$sum': '$Weekend_Delivery_Sales'},\n",
       "   'numberOfOutlets': {'$sum': 1}}},\n",
       " {'$sort': {'_id.year': 1, '_id.month': 1}}]"
      ]
     },
     "metadata": {},
     "output_type": "display_data"
    },
    {
     "data": {
      "text/plain": [
       "[{'$match': {'Location_Type': 'Airport',\n",
       "   'Sales_Month': {'$in': [1, 12]},\n",
       "   'Sales_Year': {'$in': [2018, 2017]},\n",
       "   'Level_1_Area': 'Kuwait',\n",
       "   '$or': [{'Weekday_Store_Sales': {'$ne': None}},\n",
       "    {'Weekend_Store_Sales': {'$ne': None}},\n",
       "    {'Weekday_Delivery_Sales': {'$ne': None}},\n",
       "    {'Weekend_Delivery_Sales': {'$ne': None}}],\n",
       "   'Source': {'$ne': 'Algorithm'}}},\n",
       " {'$group': {'_id': {'Location_Type': '$Location_Type',\n",
       "    'year': '$Sales_Year',\n",
       "    'month': '$Sales_Month'},\n",
       "   'Weekday_Store_Sales': {'$sum': '$Weekday_Store_Sales'},\n",
       "   'Weekday_Delivery_Sales': {'$sum': '$Weekday_Delivery_Sales'},\n",
       "   'Weekend_Store_Sales': {'$sum': '$Weekend_Store_Sales'},\n",
       "   'Weekend_Delivery_Sales': {'$sum': '$Weekend_Delivery_Sales'},\n",
       "   'numberOfOutlets': {'$sum': 1}}},\n",
       " {'$sort': {'_id.year': 1, '_id.month': 1}}]"
      ]
     },
     "metadata": {},
     "output_type": "display_data"
    },
    {
     "data": {
      "text/plain": [
       "[{'$match': {'Location_Type': 'Airport',\n",
       "   'Sales_Month': {'$in': [2, 1]},\n",
       "   'Sales_Year': {'$in': [2018, 2018]},\n",
       "   'Level_1_Area': 'Kuwait',\n",
       "   '$or': [{'Weekday_Store_Sales': {'$ne': None}},\n",
       "    {'Weekend_Store_Sales': {'$ne': None}},\n",
       "    {'Weekday_Delivery_Sales': {'$ne': None}},\n",
       "    {'Weekend_Delivery_Sales': {'$ne': None}}],\n",
       "   'Source': {'$ne': 'Algorithm'}}},\n",
       " {'$group': {'_id': {'Location_Type': '$Location_Type',\n",
       "    'year': '$Sales_Year',\n",
       "    'month': '$Sales_Month'},\n",
       "   'Weekday_Store_Sales': {'$sum': '$Weekday_Store_Sales'},\n",
       "   'Weekday_Delivery_Sales': {'$sum': '$Weekday_Delivery_Sales'},\n",
       "   'Weekend_Store_Sales': {'$sum': '$Weekend_Store_Sales'},\n",
       "   'Weekend_Delivery_Sales': {'$sum': '$Weekend_Delivery_Sales'},\n",
       "   'numberOfOutlets': {'$sum': 1}}},\n",
       " {'$sort': {'_id.year': 1, '_id.month': 1}}]"
      ]
     },
     "metadata": {},
     "output_type": "display_data"
    },
    {
     "data": {
      "text/plain": [
       "[{'$match': {'Location_Type': 'Airport',\n",
       "   'Sales_Month': {'$in': [3, 2]},\n",
       "   'Sales_Year': {'$in': [2018, 2018]},\n",
       "   'Level_1_Area': 'Kuwait',\n",
       "   '$or': [{'Weekday_Store_Sales': {'$ne': None}},\n",
       "    {'Weekend_Store_Sales': {'$ne': None}},\n",
       "    {'Weekday_Delivery_Sales': {'$ne': None}},\n",
       "    {'Weekend_Delivery_Sales': {'$ne': None}}],\n",
       "   'Source': {'$ne': 'Algorithm'}}},\n",
       " {'$group': {'_id': {'Location_Type': '$Location_Type',\n",
       "    'year': '$Sales_Year',\n",
       "    'month': '$Sales_Month'},\n",
       "   'Weekday_Store_Sales': {'$sum': '$Weekday_Store_Sales'},\n",
       "   'Weekday_Delivery_Sales': {'$sum': '$Weekday_Delivery_Sales'},\n",
       "   'Weekend_Store_Sales': {'$sum': '$Weekend_Store_Sales'},\n",
       "   'Weekend_Delivery_Sales': {'$sum': '$Weekend_Delivery_Sales'},\n",
       "   'numberOfOutlets': {'$sum': 1}}},\n",
       " {'$sort': {'_id.year': 1, '_id.month': 1}}]"
      ]
     },
     "metadata": {},
     "output_type": "display_data"
    },
    {
     "data": {
      "text/plain": [
       "[{'$match': {'Location_Type': 'Airport',\n",
       "   'Sales_Month': {'$in': [4, 3]},\n",
       "   'Sales_Year': {'$in': [2018, 2018]},\n",
       "   'Level_1_Area': 'Kuwait',\n",
       "   '$or': [{'Weekday_Store_Sales': {'$ne': None}},\n",
       "    {'Weekend_Store_Sales': {'$ne': None}},\n",
       "    {'Weekday_Delivery_Sales': {'$ne': None}},\n",
       "    {'Weekend_Delivery_Sales': {'$ne': None}}],\n",
       "   'Source': {'$ne': 'Algorithm'}}},\n",
       " {'$group': {'_id': {'Location_Type': '$Location_Type',\n",
       "    'year': '$Sales_Year',\n",
       "    'month': '$Sales_Month'},\n",
       "   'Weekday_Store_Sales': {'$sum': '$Weekday_Store_Sales'},\n",
       "   'Weekday_Delivery_Sales': {'$sum': '$Weekday_Delivery_Sales'},\n",
       "   'Weekend_Store_Sales': {'$sum': '$Weekend_Store_Sales'},\n",
       "   'Weekend_Delivery_Sales': {'$sum': '$Weekend_Delivery_Sales'},\n",
       "   'numberOfOutlets': {'$sum': 1}}},\n",
       " {'$sort': {'_id.year': 1, '_id.month': 1}}]"
      ]
     },
     "metadata": {},
     "output_type": "display_data"
    },
    {
     "data": {
      "text/plain": [
       "[{'$match': {'Location_Type': 'Airport',\n",
       "   'Sales_Month': {'$in': [5, 4]},\n",
       "   'Sales_Year': {'$in': [2018, 2018]},\n",
       "   'Level_1_Area': 'Kuwait',\n",
       "   '$or': [{'Weekday_Store_Sales': {'$ne': None}},\n",
       "    {'Weekend_Store_Sales': {'$ne': None}},\n",
       "    {'Weekday_Delivery_Sales': {'$ne': None}},\n",
       "    {'Weekend_Delivery_Sales': {'$ne': None}}],\n",
       "   'Source': {'$ne': 'Algorithm'}}},\n",
       " {'$group': {'_id': {'Location_Type': '$Location_Type',\n",
       "    'year': '$Sales_Year',\n",
       "    'month': '$Sales_Month'},\n",
       "   'Weekday_Store_Sales': {'$sum': '$Weekday_Store_Sales'},\n",
       "   'Weekday_Delivery_Sales': {'$sum': '$Weekday_Delivery_Sales'},\n",
       "   'Weekend_Store_Sales': {'$sum': '$Weekend_Store_Sales'},\n",
       "   'Weekend_Delivery_Sales': {'$sum': '$Weekend_Delivery_Sales'},\n",
       "   'numberOfOutlets': {'$sum': 1}}},\n",
       " {'$sort': {'_id.year': 1, '_id.month': 1}}]"
      ]
     },
     "metadata": {},
     "output_type": "display_data"
    },
    {
     "data": {
      "text/plain": [
       "[{'$match': {'Location_Type': 'Airport',\n",
       "   'Sales_Month': {'$in': [6, 5]},\n",
       "   'Sales_Year': {'$in': [2018, 2018]},\n",
       "   'Level_1_Area': 'Kuwait',\n",
       "   '$or': [{'Weekday_Store_Sales': {'$ne': None}},\n",
       "    {'Weekend_Store_Sales': {'$ne': None}},\n",
       "    {'Weekday_Delivery_Sales': {'$ne': None}},\n",
       "    {'Weekend_Delivery_Sales': {'$ne': None}}],\n",
       "   'Source': {'$ne': 'Algorithm'}}},\n",
       " {'$group': {'_id': {'Location_Type': '$Location_Type',\n",
       "    'year': '$Sales_Year',\n",
       "    'month': '$Sales_Month'},\n",
       "   'Weekday_Store_Sales': {'$sum': '$Weekday_Store_Sales'},\n",
       "   'Weekday_Delivery_Sales': {'$sum': '$Weekday_Delivery_Sales'},\n",
       "   'Weekend_Store_Sales': {'$sum': '$Weekend_Store_Sales'},\n",
       "   'Weekend_Delivery_Sales': {'$sum': '$Weekend_Delivery_Sales'},\n",
       "   'numberOfOutlets': {'$sum': 1}}},\n",
       " {'$sort': {'_id.year': 1, '_id.month': 1}}]"
      ]
     },
     "metadata": {},
     "output_type": "display_data"
    },
    {
     "data": {
      "text/plain": [
       "[{'$match': {'Location_Type': 'Airport',\n",
       "   'Sales_Month': {'$in': [7, 6]},\n",
       "   'Sales_Year': {'$in': [2018, 2018]},\n",
       "   'Level_1_Area': 'Kuwait',\n",
       "   '$or': [{'Weekday_Store_Sales': {'$ne': None}},\n",
       "    {'Weekend_Store_Sales': {'$ne': None}},\n",
       "    {'Weekday_Delivery_Sales': {'$ne': None}},\n",
       "    {'Weekend_Delivery_Sales': {'$ne': None}}],\n",
       "   'Source': {'$ne': 'Algorithm'}}},\n",
       " {'$group': {'_id': {'Location_Type': '$Location_Type',\n",
       "    'year': '$Sales_Year',\n",
       "    'month': '$Sales_Month'},\n",
       "   'Weekday_Store_Sales': {'$sum': '$Weekday_Store_Sales'},\n",
       "   'Weekday_Delivery_Sales': {'$sum': '$Weekday_Delivery_Sales'},\n",
       "   'Weekend_Store_Sales': {'$sum': '$Weekend_Store_Sales'},\n",
       "   'Weekend_Delivery_Sales': {'$sum': '$Weekend_Delivery_Sales'},\n",
       "   'numberOfOutlets': {'$sum': 1}}},\n",
       " {'$sort': {'_id.year': 1, '_id.month': 1}}]"
      ]
     },
     "metadata": {},
     "output_type": "display_data"
    },
    {
     "data": {
      "text/plain": [
       "[{'$match': {'Location_Type': 'Airport',\n",
       "   'Sales_Month': {'$in': [8, 7]},\n",
       "   'Sales_Year': {'$in': [2018, 2018]},\n",
       "   'Level_1_Area': 'Kuwait',\n",
       "   '$or': [{'Weekday_Store_Sales': {'$ne': None}},\n",
       "    {'Weekend_Store_Sales': {'$ne': None}},\n",
       "    {'Weekday_Delivery_Sales': {'$ne': None}},\n",
       "    {'Weekend_Delivery_Sales': {'$ne': None}}],\n",
       "   'Source': {'$ne': 'Algorithm'}}},\n",
       " {'$group': {'_id': {'Location_Type': '$Location_Type',\n",
       "    'year': '$Sales_Year',\n",
       "    'month': '$Sales_Month'},\n",
       "   'Weekday_Store_Sales': {'$sum': '$Weekday_Store_Sales'},\n",
       "   'Weekday_Delivery_Sales': {'$sum': '$Weekday_Delivery_Sales'},\n",
       "   'Weekend_Store_Sales': {'$sum': '$Weekend_Store_Sales'},\n",
       "   'Weekend_Delivery_Sales': {'$sum': '$Weekend_Delivery_Sales'},\n",
       "   'numberOfOutlets': {'$sum': 1}}},\n",
       " {'$sort': {'_id.year': 1, '_id.month': 1}}]"
      ]
     },
     "metadata": {},
     "output_type": "display_data"
    },
    {
     "data": {
      "text/plain": [
       "[{'$match': {'Location_Type': 'Airport',\n",
       "   'Sales_Month': {'$in': [9, 8]},\n",
       "   'Sales_Year': {'$in': [2018, 2018]},\n",
       "   'Level_1_Area': 'Kuwait',\n",
       "   '$or': [{'Weekday_Store_Sales': {'$ne': None}},\n",
       "    {'Weekend_Store_Sales': {'$ne': None}},\n",
       "    {'Weekday_Delivery_Sales': {'$ne': None}},\n",
       "    {'Weekend_Delivery_Sales': {'$ne': None}}],\n",
       "   'Source': {'$ne': 'Algorithm'}}},\n",
       " {'$group': {'_id': {'Location_Type': '$Location_Type',\n",
       "    'year': '$Sales_Year',\n",
       "    'month': '$Sales_Month'},\n",
       "   'Weekday_Store_Sales': {'$sum': '$Weekday_Store_Sales'},\n",
       "   'Weekday_Delivery_Sales': {'$sum': '$Weekday_Delivery_Sales'},\n",
       "   'Weekend_Store_Sales': {'$sum': '$Weekend_Store_Sales'},\n",
       "   'Weekend_Delivery_Sales': {'$sum': '$Weekend_Delivery_Sales'},\n",
       "   'numberOfOutlets': {'$sum': 1}}},\n",
       " {'$sort': {'_id.year': 1, '_id.month': 1}}]"
      ]
     },
     "metadata": {},
     "output_type": "display_data"
    },
    {
     "data": {
      "text/plain": [
       "[{'$match': {'Location_Type': 'Airport',\n",
       "   'Sales_Month': {'$in': [10, 9]},\n",
       "   'Sales_Year': {'$in': [2018, 2018]},\n",
       "   'Level_1_Area': 'Kuwait',\n",
       "   '$or': [{'Weekday_Store_Sales': {'$ne': None}},\n",
       "    {'Weekend_Store_Sales': {'$ne': None}},\n",
       "    {'Weekday_Delivery_Sales': {'$ne': None}},\n",
       "    {'Weekend_Delivery_Sales': {'$ne': None}}],\n",
       "   'Source': {'$ne': 'Algorithm'}}},\n",
       " {'$group': {'_id': {'Location_Type': '$Location_Type',\n",
       "    'year': '$Sales_Year',\n",
       "    'month': '$Sales_Month'},\n",
       "   'Weekday_Store_Sales': {'$sum': '$Weekday_Store_Sales'},\n",
       "   'Weekday_Delivery_Sales': {'$sum': '$Weekday_Delivery_Sales'},\n",
       "   'Weekend_Store_Sales': {'$sum': '$Weekend_Store_Sales'},\n",
       "   'Weekend_Delivery_Sales': {'$sum': '$Weekend_Delivery_Sales'},\n",
       "   'numberOfOutlets': {'$sum': 1}}},\n",
       " {'$sort': {'_id.year': 1, '_id.month': 1}}]"
      ]
     },
     "metadata": {},
     "output_type": "display_data"
    },
    {
     "data": {
      "text/plain": [
       "[{'$match': {'Location_Type': 'Airport',\n",
       "   'Sales_Month': {'$in': [11, 10]},\n",
       "   'Sales_Year': {'$in': [2018, 2018]},\n",
       "   'Level_1_Area': 'Kuwait',\n",
       "   '$or': [{'Weekday_Store_Sales': {'$ne': None}},\n",
       "    {'Weekend_Store_Sales': {'$ne': None}},\n",
       "    {'Weekday_Delivery_Sales': {'$ne': None}},\n",
       "    {'Weekend_Delivery_Sales': {'$ne': None}}],\n",
       "   'Source': {'$ne': 'Algorithm'}}},\n",
       " {'$group': {'_id': {'Location_Type': '$Location_Type',\n",
       "    'year': '$Sales_Year',\n",
       "    'month': '$Sales_Month'},\n",
       "   'Weekday_Store_Sales': {'$sum': '$Weekday_Store_Sales'},\n",
       "   'Weekday_Delivery_Sales': {'$sum': '$Weekday_Delivery_Sales'},\n",
       "   'Weekend_Store_Sales': {'$sum': '$Weekend_Store_Sales'},\n",
       "   'Weekend_Delivery_Sales': {'$sum': '$Weekend_Delivery_Sales'},\n",
       "   'numberOfOutlets': {'$sum': 1}}},\n",
       " {'$sort': {'_id.year': 1, '_id.month': 1}}]"
      ]
     },
     "metadata": {},
     "output_type": "display_data"
    },
    {
     "data": {
      "text/plain": [
       "[{'$match': {'Location_Type': 'Airport',\n",
       "   'Sales_Month': {'$in': [12, 11]},\n",
       "   'Sales_Year': {'$in': [2018, 2018]},\n",
       "   'Level_1_Area': 'Kuwait',\n",
       "   '$or': [{'Weekday_Store_Sales': {'$ne': None}},\n",
       "    {'Weekend_Store_Sales': {'$ne': None}},\n",
       "    {'Weekday_Delivery_Sales': {'$ne': None}},\n",
       "    {'Weekend_Delivery_Sales': {'$ne': None}}],\n",
       "   'Source': {'$ne': 'Algorithm'}}},\n",
       " {'$group': {'_id': {'Location_Type': '$Location_Type',\n",
       "    'year': '$Sales_Year',\n",
       "    'month': '$Sales_Month'},\n",
       "   'Weekday_Store_Sales': {'$sum': '$Weekday_Store_Sales'},\n",
       "   'Weekday_Delivery_Sales': {'$sum': '$Weekday_Delivery_Sales'},\n",
       "   'Weekend_Store_Sales': {'$sum': '$Weekend_Store_Sales'},\n",
       "   'Weekend_Delivery_Sales': {'$sum': '$Weekend_Delivery_Sales'},\n",
       "   'numberOfOutlets': {'$sum': 1}}},\n",
       " {'$sort': {'_id.year': 1, '_id.month': 1}}]"
      ]
     },
     "metadata": {},
     "output_type": "display_data"
    },
    {
     "data": {
      "text/plain": [
       "[{'$match': {'Location_Type': 'Airport',\n",
       "   'Sales_Month': {'$in': [1, 12]},\n",
       "   'Sales_Year': {'$in': [2019, 2018]},\n",
       "   'Level_1_Area': 'Kuwait',\n",
       "   '$or': [{'Weekday_Store_Sales': {'$ne': None}},\n",
       "    {'Weekend_Store_Sales': {'$ne': None}},\n",
       "    {'Weekday_Delivery_Sales': {'$ne': None}},\n",
       "    {'Weekend_Delivery_Sales': {'$ne': None}}],\n",
       "   'Source': {'$ne': 'Algorithm'}}},\n",
       " {'$group': {'_id': {'Location_Type': '$Location_Type',\n",
       "    'year': '$Sales_Year',\n",
       "    'month': '$Sales_Month'},\n",
       "   'Weekday_Store_Sales': {'$sum': '$Weekday_Store_Sales'},\n",
       "   'Weekday_Delivery_Sales': {'$sum': '$Weekday_Delivery_Sales'},\n",
       "   'Weekend_Store_Sales': {'$sum': '$Weekend_Store_Sales'},\n",
       "   'Weekend_Delivery_Sales': {'$sum': '$Weekend_Delivery_Sales'},\n",
       "   'numberOfOutlets': {'$sum': 1}}},\n",
       " {'$sort': {'_id.year': 1, '_id.month': 1}}]"
      ]
     },
     "metadata": {},
     "output_type": "display_data"
    },
    {
     "data": {
      "text/plain": [
       "[{'$match': {'Location_Type': 'Airport',\n",
       "   'Sales_Month': {'$in': [2, 1]},\n",
       "   'Sales_Year': {'$in': [2019, 2019]},\n",
       "   'Level_1_Area': 'Kuwait',\n",
       "   '$or': [{'Weekday_Store_Sales': {'$ne': None}},\n",
       "    {'Weekend_Store_Sales': {'$ne': None}},\n",
       "    {'Weekday_Delivery_Sales': {'$ne': None}},\n",
       "    {'Weekend_Delivery_Sales': {'$ne': None}}],\n",
       "   'Source': {'$ne': 'Algorithm'}}},\n",
       " {'$group': {'_id': {'Location_Type': '$Location_Type',\n",
       "    'year': '$Sales_Year',\n",
       "    'month': '$Sales_Month'},\n",
       "   'Weekday_Store_Sales': {'$sum': '$Weekday_Store_Sales'},\n",
       "   'Weekday_Delivery_Sales': {'$sum': '$Weekday_Delivery_Sales'},\n",
       "   'Weekend_Store_Sales': {'$sum': '$Weekend_Store_Sales'},\n",
       "   'Weekend_Delivery_Sales': {'$sum': '$Weekend_Delivery_Sales'},\n",
       "   'numberOfOutlets': {'$sum': 1}}},\n",
       " {'$sort': {'_id.year': 1, '_id.month': 1}}]"
      ]
     },
     "metadata": {},
     "output_type": "display_data"
    },
    {
     "data": {
      "text/plain": [
       "[{'$match': {'Location_Type': 'Airport',\n",
       "   'Sales_Month': {'$in': [3, 2]},\n",
       "   'Sales_Year': {'$in': [2019, 2019]},\n",
       "   'Level_1_Area': 'Kuwait',\n",
       "   '$or': [{'Weekday_Store_Sales': {'$ne': None}},\n",
       "    {'Weekend_Store_Sales': {'$ne': None}},\n",
       "    {'Weekday_Delivery_Sales': {'$ne': None}},\n",
       "    {'Weekend_Delivery_Sales': {'$ne': None}}],\n",
       "   'Source': {'$ne': 'Algorithm'}}},\n",
       " {'$group': {'_id': {'Location_Type': '$Location_Type',\n",
       "    'year': '$Sales_Year',\n",
       "    'month': '$Sales_Month'},\n",
       "   'Weekday_Store_Sales': {'$sum': '$Weekday_Store_Sales'},\n",
       "   'Weekday_Delivery_Sales': {'$sum': '$Weekday_Delivery_Sales'},\n",
       "   'Weekend_Store_Sales': {'$sum': '$Weekend_Store_Sales'},\n",
       "   'Weekend_Delivery_Sales': {'$sum': '$Weekend_Delivery_Sales'},\n",
       "   'numberOfOutlets': {'$sum': 1}}},\n",
       " {'$sort': {'_id.year': 1, '_id.month': 1}}]"
      ]
     },
     "metadata": {},
     "output_type": "display_data"
    },
    {
     "data": {
      "text/plain": [
       "[{'$match': {'Location_Type': 'Airport',\n",
       "   'Sales_Month': {'$in': [4, 3]},\n",
       "   'Sales_Year': {'$in': [2019, 2019]},\n",
       "   'Level_1_Area': 'Kuwait',\n",
       "   '$or': [{'Weekday_Store_Sales': {'$ne': None}},\n",
       "    {'Weekend_Store_Sales': {'$ne': None}},\n",
       "    {'Weekday_Delivery_Sales': {'$ne': None}},\n",
       "    {'Weekend_Delivery_Sales': {'$ne': None}}],\n",
       "   'Source': {'$ne': 'Algorithm'}}},\n",
       " {'$group': {'_id': {'Location_Type': '$Location_Type',\n",
       "    'year': '$Sales_Year',\n",
       "    'month': '$Sales_Month'},\n",
       "   'Weekday_Store_Sales': {'$sum': '$Weekday_Store_Sales'},\n",
       "   'Weekday_Delivery_Sales': {'$sum': '$Weekday_Delivery_Sales'},\n",
       "   'Weekend_Store_Sales': {'$sum': '$Weekend_Store_Sales'},\n",
       "   'Weekend_Delivery_Sales': {'$sum': '$Weekend_Delivery_Sales'},\n",
       "   'numberOfOutlets': {'$sum': 1}}},\n",
       " {'$sort': {'_id.year': 1, '_id.month': 1}}]"
      ]
     },
     "metadata": {},
     "output_type": "display_data"
    },
    {
     "data": {
      "text/plain": [
       "[{'$match': {'Location_Type': 'Airport',\n",
       "   'Sales_Month': {'$in': [5, 4]},\n",
       "   'Sales_Year': {'$in': [2019, 2019]},\n",
       "   'Level_1_Area': 'Kuwait',\n",
       "   '$or': [{'Weekday_Store_Sales': {'$ne': None}},\n",
       "    {'Weekend_Store_Sales': {'$ne': None}},\n",
       "    {'Weekday_Delivery_Sales': {'$ne': None}},\n",
       "    {'Weekend_Delivery_Sales': {'$ne': None}}],\n",
       "   'Source': {'$ne': 'Algorithm'}}},\n",
       " {'$group': {'_id': {'Location_Type': '$Location_Type',\n",
       "    'year': '$Sales_Year',\n",
       "    'month': '$Sales_Month'},\n",
       "   'Weekday_Store_Sales': {'$sum': '$Weekday_Store_Sales'},\n",
       "   'Weekday_Delivery_Sales': {'$sum': '$Weekday_Delivery_Sales'},\n",
       "   'Weekend_Store_Sales': {'$sum': '$Weekend_Store_Sales'},\n",
       "   'Weekend_Delivery_Sales': {'$sum': '$Weekend_Delivery_Sales'},\n",
       "   'numberOfOutlets': {'$sum': 1}}},\n",
       " {'$sort': {'_id.year': 1, '_id.month': 1}}]"
      ]
     },
     "metadata": {},
     "output_type": "display_data"
    },
    {
     "data": {
      "text/plain": [
       "[{'$match': {'Location_Type': 'Airport',\n",
       "   'Sales_Month': {'$in': [6, 5]},\n",
       "   'Sales_Year': {'$in': [2019, 2019]},\n",
       "   'Level_1_Area': 'Kuwait',\n",
       "   '$or': [{'Weekday_Store_Sales': {'$ne': None}},\n",
       "    {'Weekend_Store_Sales': {'$ne': None}},\n",
       "    {'Weekday_Delivery_Sales': {'$ne': None}},\n",
       "    {'Weekend_Delivery_Sales': {'$ne': None}}],\n",
       "   'Source': {'$ne': 'Algorithm'}}},\n",
       " {'$group': {'_id': {'Location_Type': '$Location_Type',\n",
       "    'year': '$Sales_Year',\n",
       "    'month': '$Sales_Month'},\n",
       "   'Weekday_Store_Sales': {'$sum': '$Weekday_Store_Sales'},\n",
       "   'Weekday_Delivery_Sales': {'$sum': '$Weekday_Delivery_Sales'},\n",
       "   'Weekend_Store_Sales': {'$sum': '$Weekend_Store_Sales'},\n",
       "   'Weekend_Delivery_Sales': {'$sum': '$Weekend_Delivery_Sales'},\n",
       "   'numberOfOutlets': {'$sum': 1}}},\n",
       " {'$sort': {'_id.year': 1, '_id.month': 1}}]"
      ]
     },
     "metadata": {},
     "output_type": "display_data"
    },
    {
     "data": {
      "text/plain": [
       "[{'$match': {'Location_Type': 'Airport',\n",
       "   'Sales_Month': {'$in': [7, 6]},\n",
       "   'Sales_Year': {'$in': [2019, 2019]},\n",
       "   'Level_1_Area': 'Kuwait',\n",
       "   '$or': [{'Weekday_Store_Sales': {'$ne': None}},\n",
       "    {'Weekend_Store_Sales': {'$ne': None}},\n",
       "    {'Weekday_Delivery_Sales': {'$ne': None}},\n",
       "    {'Weekend_Delivery_Sales': {'$ne': None}}],\n",
       "   'Source': {'$ne': 'Algorithm'}}},\n",
       " {'$group': {'_id': {'Location_Type': '$Location_Type',\n",
       "    'year': '$Sales_Year',\n",
       "    'month': '$Sales_Month'},\n",
       "   'Weekday_Store_Sales': {'$sum': '$Weekday_Store_Sales'},\n",
       "   'Weekday_Delivery_Sales': {'$sum': '$Weekday_Delivery_Sales'},\n",
       "   'Weekend_Store_Sales': {'$sum': '$Weekend_Store_Sales'},\n",
       "   'Weekend_Delivery_Sales': {'$sum': '$Weekend_Delivery_Sales'},\n",
       "   'numberOfOutlets': {'$sum': 1}}},\n",
       " {'$sort': {'_id.year': 1, '_id.month': 1}}]"
      ]
     },
     "metadata": {},
     "output_type": "display_data"
    },
    {
     "data": {
      "text/plain": [
       "[{'$match': {'Location_Type': 'Airport',\n",
       "   'Sales_Month': {'$in': [8, 7]},\n",
       "   'Sales_Year': {'$in': [2019, 2019]},\n",
       "   'Level_1_Area': 'Kuwait',\n",
       "   '$or': [{'Weekday_Store_Sales': {'$ne': None}},\n",
       "    {'Weekend_Store_Sales': {'$ne': None}},\n",
       "    {'Weekday_Delivery_Sales': {'$ne': None}},\n",
       "    {'Weekend_Delivery_Sales': {'$ne': None}}],\n",
       "   'Source': {'$ne': 'Algorithm'}}},\n",
       " {'$group': {'_id': {'Location_Type': '$Location_Type',\n",
       "    'year': '$Sales_Year',\n",
       "    'month': '$Sales_Month'},\n",
       "   'Weekday_Store_Sales': {'$sum': '$Weekday_Store_Sales'},\n",
       "   'Weekday_Delivery_Sales': {'$sum': '$Weekday_Delivery_Sales'},\n",
       "   'Weekend_Store_Sales': {'$sum': '$Weekend_Store_Sales'},\n",
       "   'Weekend_Delivery_Sales': {'$sum': '$Weekend_Delivery_Sales'},\n",
       "   'numberOfOutlets': {'$sum': 1}}},\n",
       " {'$sort': {'_id.year': 1, '_id.month': 1}}]"
      ]
     },
     "metadata": {},
     "output_type": "display_data"
    },
    {
     "data": {
      "text/plain": [
       "[{'$match': {'Location_Type': 'Airport',\n",
       "   'Sales_Month': {'$in': [9, 8]},\n",
       "   'Sales_Year': {'$in': [2019, 2019]},\n",
       "   'Level_1_Area': 'Kuwait',\n",
       "   '$or': [{'Weekday_Store_Sales': {'$ne': None}},\n",
       "    {'Weekend_Store_Sales': {'$ne': None}},\n",
       "    {'Weekday_Delivery_Sales': {'$ne': None}},\n",
       "    {'Weekend_Delivery_Sales': {'$ne': None}}],\n",
       "   'Source': {'$ne': 'Algorithm'}}},\n",
       " {'$group': {'_id': {'Location_Type': '$Location_Type',\n",
       "    'year': '$Sales_Year',\n",
       "    'month': '$Sales_Month'},\n",
       "   'Weekday_Store_Sales': {'$sum': '$Weekday_Store_Sales'},\n",
       "   'Weekday_Delivery_Sales': {'$sum': '$Weekday_Delivery_Sales'},\n",
       "   'Weekend_Store_Sales': {'$sum': '$Weekend_Store_Sales'},\n",
       "   'Weekend_Delivery_Sales': {'$sum': '$Weekend_Delivery_Sales'},\n",
       "   'numberOfOutlets': {'$sum': 1}}},\n",
       " {'$sort': {'_id.year': 1, '_id.month': 1}}]"
      ]
     },
     "metadata": {},
     "output_type": "display_data"
    },
    {
     "data": {
      "text/plain": [
       "[{'$match': {'Location_Type': 'Airport',\n",
       "   'Sales_Month': {'$in': [10, 9]},\n",
       "   'Sales_Year': {'$in': [2019, 2019]},\n",
       "   'Level_1_Area': 'Kuwait',\n",
       "   '$or': [{'Weekday_Store_Sales': {'$ne': None}},\n",
       "    {'Weekend_Store_Sales': {'$ne': None}},\n",
       "    {'Weekday_Delivery_Sales': {'$ne': None}},\n",
       "    {'Weekend_Delivery_Sales': {'$ne': None}}],\n",
       "   'Source': {'$ne': 'Algorithm'}}},\n",
       " {'$group': {'_id': {'Location_Type': '$Location_Type',\n",
       "    'year': '$Sales_Year',\n",
       "    'month': '$Sales_Month'},\n",
       "   'Weekday_Store_Sales': {'$sum': '$Weekday_Store_Sales'},\n",
       "   'Weekday_Delivery_Sales': {'$sum': '$Weekday_Delivery_Sales'},\n",
       "   'Weekend_Store_Sales': {'$sum': '$Weekend_Store_Sales'},\n",
       "   'Weekend_Delivery_Sales': {'$sum': '$Weekend_Delivery_Sales'},\n",
       "   'numberOfOutlets': {'$sum': 1}}},\n",
       " {'$sort': {'_id.year': 1, '_id.month': 1}}]"
      ]
     },
     "metadata": {},
     "output_type": "display_data"
    },
    {
     "data": {
      "text/plain": [
       "[{'$match': {'Location_Type': 'Airport',\n",
       "   'Sales_Month': {'$in': [11, 10]},\n",
       "   'Sales_Year': {'$in': [2019, 2019]},\n",
       "   'Level_1_Area': 'Kuwait',\n",
       "   '$or': [{'Weekday_Store_Sales': {'$ne': None}},\n",
       "    {'Weekend_Store_Sales': {'$ne': None}},\n",
       "    {'Weekday_Delivery_Sales': {'$ne': None}},\n",
       "    {'Weekend_Delivery_Sales': {'$ne': None}}],\n",
       "   'Source': {'$ne': 'Algorithm'}}},\n",
       " {'$group': {'_id': {'Location_Type': '$Location_Type',\n",
       "    'year': '$Sales_Year',\n",
       "    'month': '$Sales_Month'},\n",
       "   'Weekday_Store_Sales': {'$sum': '$Weekday_Store_Sales'},\n",
       "   'Weekday_Delivery_Sales': {'$sum': '$Weekday_Delivery_Sales'},\n",
       "   'Weekend_Store_Sales': {'$sum': '$Weekend_Store_Sales'},\n",
       "   'Weekend_Delivery_Sales': {'$sum': '$Weekend_Delivery_Sales'},\n",
       "   'numberOfOutlets': {'$sum': 1}}},\n",
       " {'$sort': {'_id.year': 1, '_id.month': 1}}]"
      ]
     },
     "metadata": {},
     "output_type": "display_data"
    },
    {
     "data": {
      "text/plain": [
       "[{'$match': {'Location_Type': 'Airport',\n",
       "   'Sales_Month': {'$in': [12, 11]},\n",
       "   'Sales_Year': {'$in': [2019, 2019]},\n",
       "   'Level_1_Area': 'Kuwait',\n",
       "   '$or': [{'Weekday_Store_Sales': {'$ne': None}},\n",
       "    {'Weekend_Store_Sales': {'$ne': None}},\n",
       "    {'Weekday_Delivery_Sales': {'$ne': None}},\n",
       "    {'Weekend_Delivery_Sales': {'$ne': None}}],\n",
       "   'Source': {'$ne': 'Algorithm'}}},\n",
       " {'$group': {'_id': {'Location_Type': '$Location_Type',\n",
       "    'year': '$Sales_Year',\n",
       "    'month': '$Sales_Month'},\n",
       "   'Weekday_Store_Sales': {'$sum': '$Weekday_Store_Sales'},\n",
       "   'Weekday_Delivery_Sales': {'$sum': '$Weekday_Delivery_Sales'},\n",
       "   'Weekend_Store_Sales': {'$sum': '$Weekend_Store_Sales'},\n",
       "   'Weekend_Delivery_Sales': {'$sum': '$Weekend_Delivery_Sales'},\n",
       "   'numberOfOutlets': {'$sum': 1}}},\n",
       " {'$sort': {'_id.year': 1, '_id.month': 1}}]"
      ]
     },
     "metadata": {},
     "output_type": "display_data"
    },
    {
     "data": {
      "text/plain": [
       "[{'$match': {'Location_Type': 'Airport',\n",
       "   'Sales_Month': {'$in': [1, 12]},\n",
       "   'Sales_Year': {'$in': [2020, 2019]},\n",
       "   'Level_1_Area': 'Kuwait',\n",
       "   '$or': [{'Weekday_Store_Sales': {'$ne': None}},\n",
       "    {'Weekend_Store_Sales': {'$ne': None}},\n",
       "    {'Weekday_Delivery_Sales': {'$ne': None}},\n",
       "    {'Weekend_Delivery_Sales': {'$ne': None}}],\n",
       "   'Source': {'$ne': 'Algorithm'}}},\n",
       " {'$group': {'_id': {'Location_Type': '$Location_Type',\n",
       "    'year': '$Sales_Year',\n",
       "    'month': '$Sales_Month'},\n",
       "   'Weekday_Store_Sales': {'$sum': '$Weekday_Store_Sales'},\n",
       "   'Weekday_Delivery_Sales': {'$sum': '$Weekday_Delivery_Sales'},\n",
       "   'Weekend_Store_Sales': {'$sum': '$Weekend_Store_Sales'},\n",
       "   'Weekend_Delivery_Sales': {'$sum': '$Weekend_Delivery_Sales'},\n",
       "   'numberOfOutlets': {'$sum': 1}}},\n",
       " {'$sort': {'_id.year': 1, '_id.month': 1}}]"
      ]
     },
     "metadata": {},
     "output_type": "display_data"
    },
    {
     "data": {
      "text/plain": [
       "[{'$match': {'Location_Type': 'Airport',\n",
       "   'Sales_Month': {'$in': [2, 1]},\n",
       "   'Sales_Year': {'$in': [2020, 2020]},\n",
       "   'Level_1_Area': 'Kuwait',\n",
       "   '$or': [{'Weekday_Store_Sales': {'$ne': None}},\n",
       "    {'Weekend_Store_Sales': {'$ne': None}},\n",
       "    {'Weekday_Delivery_Sales': {'$ne': None}},\n",
       "    {'Weekend_Delivery_Sales': {'$ne': None}}],\n",
       "   'Source': {'$ne': 'Algorithm'}}},\n",
       " {'$group': {'_id': {'Location_Type': '$Location_Type',\n",
       "    'year': '$Sales_Year',\n",
       "    'month': '$Sales_Month'},\n",
       "   'Weekday_Store_Sales': {'$sum': '$Weekday_Store_Sales'},\n",
       "   'Weekday_Delivery_Sales': {'$sum': '$Weekday_Delivery_Sales'},\n",
       "   'Weekend_Store_Sales': {'$sum': '$Weekend_Store_Sales'},\n",
       "   'Weekend_Delivery_Sales': {'$sum': '$Weekend_Delivery_Sales'},\n",
       "   'numberOfOutlets': {'$sum': 1}}},\n",
       " {'$sort': {'_id.year': 1, '_id.month': 1}}]"
      ]
     },
     "metadata": {},
     "output_type": "display_data"
    },
    {
     "ename": "KeyboardInterrupt",
     "evalue": "",
     "output_type": "error",
     "traceback": [
      "\u001b[0;31m---------------------------------------------------------------------------\u001b[0m",
      "\u001b[0;31mKeyboardInterrupt\u001b[0m                         Traceback (most recent call last)",
      "Cell \u001b[0;32mIn[22], line 7\u001b[0m\n\u001b[1;32m      5\u001b[0m     \u001b[38;5;28;01mfor\u001b[39;00m date \u001b[38;5;129;01min\u001b[39;00m getDates():\n\u001b[1;32m      6\u001b[0m         last_month \u001b[38;5;241m=\u001b[39m (date \u001b[38;5;241m-\u001b[39m relativedelta(months\u001b[38;5;241m=\u001b[39m\u001b[38;5;241m1\u001b[39m))\n\u001b[0;32m----> 7\u001b[0m         data \u001b[38;5;241m=\u001b[39m filter_sales(\u001b[38;5;28mlist\u001b[39m(\u001b[43mgroup_sales\u001b[49m\u001b[43m(\u001b[49m\u001b[43m_id\u001b[49m\u001b[43m,\u001b[49m\u001b[43m{\u001b[49m\u001b[38;5;124;43m\"\u001b[39;49m\u001b[38;5;124;43mLocation_Type\u001b[39;49m\u001b[38;5;124;43m\"\u001b[39;49m\u001b[43m:\u001b[49m\u001b[43mi\u001b[49m\u001b[43m,\u001b[49m\u001b[38;5;124;43m\"\u001b[39;49m\u001b[38;5;124;43mSales_Month\u001b[39;49m\u001b[38;5;124;43m\"\u001b[39;49m\u001b[43m:\u001b[49m\u001b[43m{\u001b[49m\u001b[38;5;124;43m\"\u001b[39;49m\u001b[38;5;124;43m$in\u001b[39;49m\u001b[38;5;124;43m\"\u001b[39;49m\u001b[43m:\u001b[49m\u001b[43m[\u001b[49m\u001b[43mdate\u001b[49m\u001b[38;5;241;43m.\u001b[39;49m\u001b[43mmonth\u001b[49m\u001b[43m,\u001b[49m\u001b[43mlast_month\u001b[49m\u001b[38;5;241;43m.\u001b[39;49m\u001b[43mmonth\u001b[49m\u001b[43m]\u001b[49m\u001b[43m}\u001b[49m\u001b[43m,\u001b[49m\u001b[38;5;124;43m\"\u001b[39;49m\u001b[38;5;124;43mSales_Year\u001b[39;49m\u001b[38;5;124;43m\"\u001b[39;49m\u001b[43m:\u001b[49m\u001b[43m{\u001b[49m\u001b[38;5;124;43m\"\u001b[39;49m\u001b[38;5;124;43m$in\u001b[39;49m\u001b[38;5;124;43m\"\u001b[39;49m\u001b[43m:\u001b[49m\u001b[43m[\u001b[49m\u001b[43mdate\u001b[49m\u001b[38;5;241;43m.\u001b[39;49m\u001b[43myear\u001b[49m\u001b[43m,\u001b[49m\u001b[43mlast_month\u001b[49m\u001b[38;5;241;43m.\u001b[39;49m\u001b[43myear\u001b[49m\u001b[43m]\u001b[49m\u001b[43m}\u001b[49m\u001b[43m}\u001b[49m\u001b[43m)\u001b[49m),date,last_month)\n\u001b[1;32m      8\u001b[0m         result\u001b[38;5;241m.\u001b[39mappend(generate_seasonality_record({\u001b[38;5;124m\"\u001b[39m\u001b[38;5;124mLocation_Type\u001b[39m\u001b[38;5;124m\"\u001b[39m:i,\u001b[38;5;124m\"\u001b[39m\u001b[38;5;124mSales_Year\u001b[39m\u001b[38;5;124m\"\u001b[39m:date\u001b[38;5;241m.\u001b[39myear,\u001b[38;5;124m\"\u001b[39m\u001b[38;5;124mSales_Month\u001b[39m\u001b[38;5;124m\"\u001b[39m:date\u001b[38;5;241m.\u001b[39mmonth},data))\n\u001b[1;32m      9\u001b[0m \u001b[38;5;28;01mfor\u001b[39;00m record \u001b[38;5;129;01min\u001b[39;00m result:\n",
      "Cell \u001b[0;32mIn[21], line 52\u001b[0m, in \u001b[0;36mgroup_sales\u001b[0;34m(group_id, match)\u001b[0m\n\u001b[1;32m     11\u001b[0m     pipeline \u001b[38;5;241m=\u001b[39m [\n\u001b[1;32m     12\u001b[0m         {\u001b[38;5;124m'\u001b[39m\u001b[38;5;124m$match\u001b[39m\u001b[38;5;124m'\u001b[39m: {\u001b[38;5;241m*\u001b[39m\u001b[38;5;241m*\u001b[39mmatch,\u001b[38;5;124m\"\u001b[39m\u001b[38;5;124mLevel_1_Area\u001b[39m\u001b[38;5;124m\"\u001b[39m:\u001b[38;5;124m\"\u001b[39m\u001b[38;5;124mKuwait\u001b[39m\u001b[38;5;124m\"\u001b[39m,    \n\u001b[1;32m     13\u001b[0m                 \u001b[38;5;124m\"\u001b[39m\u001b[38;5;124m$or\u001b[39m\u001b[38;5;124m\"\u001b[39m: [\n\u001b[0;32m   (...)\u001b[0m\n\u001b[1;32m     49\u001b[0m     },\n\u001b[1;32m     50\u001b[0m ]\n\u001b[1;32m     51\u001b[0m     display(pipeline)\n\u001b[0;32m---> 52\u001b[0m     \u001b[38;5;28;01mreturn\u001b[39;00m \u001b[43mnew_sales_collection\u001b[49m\u001b[38;5;241;43m.\u001b[39;49m\u001b[43maggregate\u001b[49m\u001b[43m(\u001b[49m\u001b[43mpipeline\u001b[49m\u001b[43m)\u001b[49m\n",
      "File \u001b[0;32m~/.local/lib/python3.10/site-packages/pymongo/collection.py:2722\u001b[0m, in \u001b[0;36mCollection.aggregate\u001b[0;34m(self, pipeline, session, let, comment, **kwargs)\u001b[0m\n\u001b[1;32m   2644\u001b[0m \u001b[38;5;250m\u001b[39m\u001b[38;5;124;03m\"\"\"Perform an aggregation using the aggregation framework on this\u001b[39;00m\n\u001b[1;32m   2645\u001b[0m \u001b[38;5;124;03mcollection.\u001b[39;00m\n\u001b[1;32m   2646\u001b[0m \n\u001b[0;32m   (...)\u001b[0m\n\u001b[1;32m   2719\u001b[0m \u001b[38;5;124;03m    https://mongodb.com/docs/manual/reference/command/aggregate\u001b[39;00m\n\u001b[1;32m   2720\u001b[0m \u001b[38;5;124;03m\"\"\"\u001b[39;00m\n\u001b[1;32m   2721\u001b[0m \u001b[38;5;28;01mwith\u001b[39;00m \u001b[38;5;28mself\u001b[39m\u001b[38;5;241m.\u001b[39m__database\u001b[38;5;241m.\u001b[39mclient\u001b[38;5;241m.\u001b[39m_tmp_session(session, close\u001b[38;5;241m=\u001b[39m\u001b[38;5;28;01mFalse\u001b[39;00m) \u001b[38;5;28;01mas\u001b[39;00m s:\n\u001b[0;32m-> 2722\u001b[0m     \u001b[38;5;28;01mreturn\u001b[39;00m \u001b[38;5;28;43mself\u001b[39;49m\u001b[38;5;241;43m.\u001b[39;49m\u001b[43m_aggregate\u001b[49m\u001b[43m(\u001b[49m\n\u001b[1;32m   2723\u001b[0m \u001b[43m        \u001b[49m\u001b[43m_CollectionAggregationCommand\u001b[49m\u001b[43m,\u001b[49m\n\u001b[1;32m   2724\u001b[0m \u001b[43m        \u001b[49m\u001b[43mpipeline\u001b[49m\u001b[43m,\u001b[49m\n\u001b[1;32m   2725\u001b[0m \u001b[43m        \u001b[49m\u001b[43mCommandCursor\u001b[49m\u001b[43m,\u001b[49m\n\u001b[1;32m   2726\u001b[0m \u001b[43m        \u001b[49m\u001b[43msession\u001b[49m\u001b[38;5;241;43m=\u001b[39;49m\u001b[43ms\u001b[49m\u001b[43m,\u001b[49m\n\u001b[1;32m   2727\u001b[0m \u001b[43m        \u001b[49m\u001b[43mexplicit_session\u001b[49m\u001b[38;5;241;43m=\u001b[39;49m\u001b[43msession\u001b[49m\u001b[43m \u001b[49m\u001b[38;5;129;43;01mis\u001b[39;49;00m\u001b[43m \u001b[49m\u001b[38;5;129;43;01mnot\u001b[39;49;00m\u001b[43m \u001b[49m\u001b[38;5;28;43;01mNone\u001b[39;49;00m\u001b[43m,\u001b[49m\n\u001b[1;32m   2728\u001b[0m \u001b[43m        \u001b[49m\u001b[43mlet\u001b[49m\u001b[38;5;241;43m=\u001b[39;49m\u001b[43mlet\u001b[49m\u001b[43m,\u001b[49m\n\u001b[1;32m   2729\u001b[0m \u001b[43m        \u001b[49m\u001b[43mcomment\u001b[49m\u001b[38;5;241;43m=\u001b[39;49m\u001b[43mcomment\u001b[49m\u001b[43m,\u001b[49m\n\u001b[1;32m   2730\u001b[0m \u001b[43m        \u001b[49m\u001b[38;5;241;43m*\u001b[39;49m\u001b[38;5;241;43m*\u001b[39;49m\u001b[43mkwargs\u001b[49m\u001b[43m,\u001b[49m\n\u001b[1;32m   2731\u001b[0m \u001b[43m    \u001b[49m\u001b[43m)\u001b[49m\n",
      "File \u001b[0;32m~/.local/lib/python3.10/site-packages/pymongo/_csot.py:108\u001b[0m, in \u001b[0;36mapply.<locals>.csot_wrapper\u001b[0;34m(self, *args, **kwargs)\u001b[0m\n\u001b[1;32m    106\u001b[0m         \u001b[38;5;28;01mwith\u001b[39;00m _TimeoutContext(timeout):\n\u001b[1;32m    107\u001b[0m             \u001b[38;5;28;01mreturn\u001b[39;00m func(\u001b[38;5;28mself\u001b[39m, \u001b[38;5;241m*\u001b[39margs, \u001b[38;5;241m*\u001b[39m\u001b[38;5;241m*\u001b[39mkwargs)\n\u001b[0;32m--> 108\u001b[0m \u001b[38;5;28;01mreturn\u001b[39;00m \u001b[43mfunc\u001b[49m\u001b[43m(\u001b[49m\u001b[38;5;28;43mself\u001b[39;49m\u001b[43m,\u001b[49m\u001b[43m \u001b[49m\u001b[38;5;241;43m*\u001b[39;49m\u001b[43margs\u001b[49m\u001b[43m,\u001b[49m\u001b[43m \u001b[49m\u001b[38;5;241;43m*\u001b[39;49m\u001b[38;5;241;43m*\u001b[39;49m\u001b[43mkwargs\u001b[49m\u001b[43m)\u001b[49m\n",
      "File \u001b[0;32m~/.local/lib/python3.10/site-packages/pymongo/collection.py:2629\u001b[0m, in \u001b[0;36mCollection._aggregate\u001b[0;34m(self, aggregation_command, pipeline, cursor_class, session, explicit_session, let, comment, **kwargs)\u001b[0m\n\u001b[1;32m   2618\u001b[0m     kwargs[\u001b[38;5;124m\"\u001b[39m\u001b[38;5;124mcomment\u001b[39m\u001b[38;5;124m\"\u001b[39m] \u001b[38;5;241m=\u001b[39m comment\n\u001b[1;32m   2619\u001b[0m cmd \u001b[38;5;241m=\u001b[39m aggregation_command(\n\u001b[1;32m   2620\u001b[0m     \u001b[38;5;28mself\u001b[39m,\n\u001b[1;32m   2621\u001b[0m     cursor_class,\n\u001b[0;32m   (...)\u001b[0m\n\u001b[1;32m   2626\u001b[0m     user_fields\u001b[38;5;241m=\u001b[39m{\u001b[38;5;124m\"\u001b[39m\u001b[38;5;124mcursor\u001b[39m\u001b[38;5;124m\"\u001b[39m: {\u001b[38;5;124m\"\u001b[39m\u001b[38;5;124mfirstBatch\u001b[39m\u001b[38;5;124m\"\u001b[39m: \u001b[38;5;241m1\u001b[39m}},\n\u001b[1;32m   2627\u001b[0m )\n\u001b[0;32m-> 2629\u001b[0m \u001b[38;5;28;01mreturn\u001b[39;00m \u001b[38;5;28;43mself\u001b[39;49m\u001b[38;5;241;43m.\u001b[39;49m\u001b[43m__database\u001b[49m\u001b[38;5;241;43m.\u001b[39;49m\u001b[43mclient\u001b[49m\u001b[38;5;241;43m.\u001b[39;49m\u001b[43m_retryable_read\u001b[49m\u001b[43m(\u001b[49m\n\u001b[1;32m   2630\u001b[0m \u001b[43m    \u001b[49m\u001b[43mcmd\u001b[49m\u001b[38;5;241;43m.\u001b[39;49m\u001b[43mget_cursor\u001b[49m\u001b[43m,\u001b[49m\n\u001b[1;32m   2631\u001b[0m \u001b[43m    \u001b[49m\u001b[43mcmd\u001b[49m\u001b[38;5;241;43m.\u001b[39;49m\u001b[43mget_read_preference\u001b[49m\u001b[43m(\u001b[49m\u001b[43msession\u001b[49m\u001b[43m)\u001b[49m\u001b[43m,\u001b[49m\u001b[43m  \u001b[49m\u001b[38;5;66;43;03m# type: ignore[arg-type]\u001b[39;49;00m\n\u001b[1;32m   2632\u001b[0m \u001b[43m    \u001b[49m\u001b[43msession\u001b[49m\u001b[43m,\u001b[49m\n\u001b[1;32m   2633\u001b[0m \u001b[43m    \u001b[49m\u001b[43mretryable\u001b[49m\u001b[38;5;241;43m=\u001b[39;49m\u001b[38;5;129;43;01mnot\u001b[39;49;00m\u001b[43m \u001b[49m\u001b[43mcmd\u001b[49m\u001b[38;5;241;43m.\u001b[39;49m\u001b[43m_performs_write\u001b[49m\u001b[43m,\u001b[49m\n\u001b[1;32m   2634\u001b[0m \u001b[43m\u001b[49m\u001b[43m)\u001b[49m\n",
      "File \u001b[0;32m~/.local/lib/python3.10/site-packages/pymongo/_csot.py:108\u001b[0m, in \u001b[0;36mapply.<locals>.csot_wrapper\u001b[0;34m(self, *args, **kwargs)\u001b[0m\n\u001b[1;32m    106\u001b[0m         \u001b[38;5;28;01mwith\u001b[39;00m _TimeoutContext(timeout):\n\u001b[1;32m    107\u001b[0m             \u001b[38;5;28;01mreturn\u001b[39;00m func(\u001b[38;5;28mself\u001b[39m, \u001b[38;5;241m*\u001b[39margs, \u001b[38;5;241m*\u001b[39m\u001b[38;5;241m*\u001b[39mkwargs)\n\u001b[0;32m--> 108\u001b[0m \u001b[38;5;28;01mreturn\u001b[39;00m \u001b[43mfunc\u001b[49m\u001b[43m(\u001b[49m\u001b[38;5;28;43mself\u001b[39;49m\u001b[43m,\u001b[49m\u001b[43m \u001b[49m\u001b[38;5;241;43m*\u001b[39;49m\u001b[43margs\u001b[49m\u001b[43m,\u001b[49m\u001b[43m \u001b[49m\u001b[38;5;241;43m*\u001b[39;49m\u001b[38;5;241;43m*\u001b[39;49m\u001b[43mkwargs\u001b[49m\u001b[43m)\u001b[49m\n",
      "File \u001b[0;32m~/.local/lib/python3.10/site-packages/pymongo/mongo_client.py:1535\u001b[0m, in \u001b[0;36mMongoClient._retryable_read\u001b[0;34m(self, func, read_pref, session, address, retryable)\u001b[0m\n\u001b[1;32m   1533\u001b[0m             \u001b[38;5;28;01massert\u001b[39;00m last_error \u001b[38;5;129;01mis\u001b[39;00m \u001b[38;5;129;01mnot\u001b[39;00m \u001b[38;5;28;01mNone\u001b[39;00m\n\u001b[1;32m   1534\u001b[0m             \u001b[38;5;28;01mraise\u001b[39;00m last_error\n\u001b[0;32m-> 1535\u001b[0m         \u001b[38;5;28;01mreturn\u001b[39;00m \u001b[43mfunc\u001b[49m\u001b[43m(\u001b[49m\u001b[43msession\u001b[49m\u001b[43m,\u001b[49m\u001b[43m \u001b[49m\u001b[43mserver\u001b[49m\u001b[43m,\u001b[49m\u001b[43m \u001b[49m\u001b[43mconn\u001b[49m\u001b[43m,\u001b[49m\u001b[43m \u001b[49m\u001b[43mread_pref\u001b[49m\u001b[43m)\u001b[49m\n\u001b[1;32m   1536\u001b[0m \u001b[38;5;28;01mexcept\u001b[39;00m ServerSelectionTimeoutError:\n\u001b[1;32m   1537\u001b[0m     \u001b[38;5;28;01mif\u001b[39;00m retrying:\n\u001b[1;32m   1538\u001b[0m         \u001b[38;5;66;03m# The application may think the write was never attempted\u001b[39;00m\n\u001b[1;32m   1539\u001b[0m         \u001b[38;5;66;03m# if we raise ServerSelectionTimeoutError on the retry\u001b[39;00m\n\u001b[1;32m   1540\u001b[0m         \u001b[38;5;66;03m# attempt. Raise the original exception instead.\u001b[39;00m\n",
      "File \u001b[0;32m~/.local/lib/python3.10/site-packages/pymongo/aggregation.py:164\u001b[0m, in \u001b[0;36m_AggregationCommand.get_cursor\u001b[0;34m(self, session, server, conn, read_preference)\u001b[0m\n\u001b[1;32m    161\u001b[0m     write_concern \u001b[38;5;241m=\u001b[39m \u001b[38;5;28;01mNone\u001b[39;00m\n\u001b[1;32m    163\u001b[0m \u001b[38;5;66;03m# Run command.\u001b[39;00m\n\u001b[0;32m--> 164\u001b[0m result \u001b[38;5;241m=\u001b[39m \u001b[43mconn\u001b[49m\u001b[38;5;241;43m.\u001b[39;49m\u001b[43mcommand\u001b[49m\u001b[43m(\u001b[49m\n\u001b[1;32m    165\u001b[0m \u001b[43m    \u001b[49m\u001b[38;5;28;43mself\u001b[39;49m\u001b[38;5;241;43m.\u001b[39;49m\u001b[43m_database\u001b[49m\u001b[38;5;241;43m.\u001b[39;49m\u001b[43mname\u001b[49m\u001b[43m,\u001b[49m\n\u001b[1;32m    166\u001b[0m \u001b[43m    \u001b[49m\u001b[43mcmd\u001b[49m\u001b[43m,\u001b[49m\n\u001b[1;32m    167\u001b[0m \u001b[43m    \u001b[49m\u001b[43mread_preference\u001b[49m\u001b[43m,\u001b[49m\n\u001b[1;32m    168\u001b[0m \u001b[43m    \u001b[49m\u001b[38;5;28;43mself\u001b[39;49m\u001b[38;5;241;43m.\u001b[39;49m\u001b[43m_target\u001b[49m\u001b[38;5;241;43m.\u001b[39;49m\u001b[43mcodec_options\u001b[49m\u001b[43m,\u001b[49m\n\u001b[1;32m    169\u001b[0m \u001b[43m    \u001b[49m\u001b[43mparse_write_concern_error\u001b[49m\u001b[38;5;241;43m=\u001b[39;49m\u001b[38;5;28;43;01mTrue\u001b[39;49;00m\u001b[43m,\u001b[49m\n\u001b[1;32m    170\u001b[0m \u001b[43m    \u001b[49m\u001b[43mread_concern\u001b[49m\u001b[38;5;241;43m=\u001b[39;49m\u001b[43mread_concern\u001b[49m\u001b[43m,\u001b[49m\n\u001b[1;32m    171\u001b[0m \u001b[43m    \u001b[49m\u001b[43mwrite_concern\u001b[49m\u001b[38;5;241;43m=\u001b[39;49m\u001b[43mwrite_concern\u001b[49m\u001b[43m,\u001b[49m\n\u001b[1;32m    172\u001b[0m \u001b[43m    \u001b[49m\u001b[43mcollation\u001b[49m\u001b[38;5;241;43m=\u001b[39;49m\u001b[38;5;28;43mself\u001b[39;49m\u001b[38;5;241;43m.\u001b[39;49m\u001b[43m_collation\u001b[49m\u001b[43m,\u001b[49m\n\u001b[1;32m    173\u001b[0m \u001b[43m    \u001b[49m\u001b[43msession\u001b[49m\u001b[38;5;241;43m=\u001b[39;49m\u001b[43msession\u001b[49m\u001b[43m,\u001b[49m\n\u001b[1;32m    174\u001b[0m \u001b[43m    \u001b[49m\u001b[43mclient\u001b[49m\u001b[38;5;241;43m=\u001b[39;49m\u001b[38;5;28;43mself\u001b[39;49m\u001b[38;5;241;43m.\u001b[39;49m\u001b[43m_database\u001b[49m\u001b[38;5;241;43m.\u001b[39;49m\u001b[43mclient\u001b[49m\u001b[43m,\u001b[49m\n\u001b[1;32m    175\u001b[0m \u001b[43m    \u001b[49m\u001b[43muser_fields\u001b[49m\u001b[38;5;241;43m=\u001b[39;49m\u001b[38;5;28;43mself\u001b[39;49m\u001b[38;5;241;43m.\u001b[39;49m\u001b[43m_user_fields\u001b[49m\u001b[43m,\u001b[49m\n\u001b[1;32m    176\u001b[0m \u001b[43m\u001b[49m\u001b[43m)\u001b[49m\n\u001b[1;32m    178\u001b[0m \u001b[38;5;28;01mif\u001b[39;00m \u001b[38;5;28mself\u001b[39m\u001b[38;5;241m.\u001b[39m_result_processor:\n\u001b[1;32m    179\u001b[0m     \u001b[38;5;28mself\u001b[39m\u001b[38;5;241m.\u001b[39m_result_processor(result, conn)\n",
      "File \u001b[0;32m~/.local/lib/python3.10/site-packages/pymongo/helpers.py:315\u001b[0m, in \u001b[0;36m_handle_reauth.<locals>.inner\u001b[0;34m(*args, **kwargs)\u001b[0m\n\u001b[1;32m    312\u001b[0m \u001b[38;5;28;01mfrom\u001b[39;00m \u001b[38;5;21;01mpymongo\u001b[39;00m\u001b[38;5;21;01m.\u001b[39;00m\u001b[38;5;21;01mpool\u001b[39;00m \u001b[38;5;28;01mimport\u001b[39;00m Connection\n\u001b[1;32m    314\u001b[0m \u001b[38;5;28;01mtry\u001b[39;00m:\n\u001b[0;32m--> 315\u001b[0m     \u001b[38;5;28;01mreturn\u001b[39;00m \u001b[43mfunc\u001b[49m\u001b[43m(\u001b[49m\u001b[38;5;241;43m*\u001b[39;49m\u001b[43margs\u001b[49m\u001b[43m,\u001b[49m\u001b[43m \u001b[49m\u001b[38;5;241;43m*\u001b[39;49m\u001b[38;5;241;43m*\u001b[39;49m\u001b[43mkwargs\u001b[49m\u001b[43m)\u001b[49m\n\u001b[1;32m    316\u001b[0m \u001b[38;5;28;01mexcept\u001b[39;00m OperationFailure \u001b[38;5;28;01mas\u001b[39;00m exc:\n\u001b[1;32m    317\u001b[0m     \u001b[38;5;28;01mif\u001b[39;00m no_reauth:\n",
      "File \u001b[0;32m~/.local/lib/python3.10/site-packages/pymongo/pool.py:960\u001b[0m, in \u001b[0;36mConnection.command\u001b[0;34m(self, dbname, spec, read_preference, codec_options, check, allowable_errors, read_concern, write_concern, parse_write_concern_error, collation, session, client, retryable_write, publish_events, user_fields, exhaust_allowed)\u001b[0m\n\u001b[1;32m    958\u001b[0m \u001b[38;5;66;03m# Catch socket.error, KeyboardInterrupt, etc. and close ourselves.\u001b[39;00m\n\u001b[1;32m    959\u001b[0m \u001b[38;5;28;01mexcept\u001b[39;00m \u001b[38;5;167;01mBaseException\u001b[39;00m \u001b[38;5;28;01mas\u001b[39;00m error:\n\u001b[0;32m--> 960\u001b[0m     \u001b[38;5;28;43mself\u001b[39;49m\u001b[38;5;241;43m.\u001b[39;49m\u001b[43m_raise_connection_failure\u001b[49m\u001b[43m(\u001b[49m\u001b[43merror\u001b[49m\u001b[43m)\u001b[49m\n",
      "File \u001b[0;32m~/.local/lib/python3.10/site-packages/pymongo/pool.py:932\u001b[0m, in \u001b[0;36mConnection.command\u001b[0;34m(self, dbname, spec, read_preference, codec_options, check, allowable_errors, read_concern, write_concern, parse_write_concern_error, collation, session, client, retryable_write, publish_events, user_fields, exhaust_allowed)\u001b[0m\n\u001b[1;32m    930\u001b[0m     \u001b[38;5;28mself\u001b[39m\u001b[38;5;241m.\u001b[39m_raise_if_not_writable(unacknowledged)\n\u001b[1;32m    931\u001b[0m \u001b[38;5;28;01mtry\u001b[39;00m:\n\u001b[0;32m--> 932\u001b[0m     \u001b[38;5;28;01mreturn\u001b[39;00m \u001b[43mcommand\u001b[49m\u001b[43m(\u001b[49m\n\u001b[1;32m    933\u001b[0m \u001b[43m        \u001b[49m\u001b[38;5;28;43mself\u001b[39;49m\u001b[43m,\u001b[49m\n\u001b[1;32m    934\u001b[0m \u001b[43m        \u001b[49m\u001b[43mdbname\u001b[49m\u001b[43m,\u001b[49m\n\u001b[1;32m    935\u001b[0m \u001b[43m        \u001b[49m\u001b[43mspec\u001b[49m\u001b[43m,\u001b[49m\n\u001b[1;32m    936\u001b[0m \u001b[43m        \u001b[49m\u001b[38;5;28;43mself\u001b[39;49m\u001b[38;5;241;43m.\u001b[39;49m\u001b[43mis_mongos\u001b[49m\u001b[43m,\u001b[49m\n\u001b[1;32m    937\u001b[0m \u001b[43m        \u001b[49m\u001b[43mread_preference\u001b[49m\u001b[43m,\u001b[49m\n\u001b[1;32m    938\u001b[0m \u001b[43m        \u001b[49m\u001b[43mcodec_options\u001b[49m\u001b[43m,\u001b[49m\n\u001b[1;32m    939\u001b[0m \u001b[43m        \u001b[49m\u001b[43msession\u001b[49m\u001b[43m,\u001b[49m\n\u001b[1;32m    940\u001b[0m \u001b[43m        \u001b[49m\u001b[43mclient\u001b[49m\u001b[43m,\u001b[49m\n\u001b[1;32m    941\u001b[0m \u001b[43m        \u001b[49m\u001b[43mcheck\u001b[49m\u001b[43m,\u001b[49m\n\u001b[1;32m    942\u001b[0m \u001b[43m        \u001b[49m\u001b[43mallowable_errors\u001b[49m\u001b[43m,\u001b[49m\n\u001b[1;32m    943\u001b[0m \u001b[43m        \u001b[49m\u001b[38;5;28;43mself\u001b[39;49m\u001b[38;5;241;43m.\u001b[39;49m\u001b[43maddress\u001b[49m\u001b[43m,\u001b[49m\n\u001b[1;32m    944\u001b[0m \u001b[43m        \u001b[49m\u001b[43mlisteners\u001b[49m\u001b[43m,\u001b[49m\n\u001b[1;32m    945\u001b[0m \u001b[43m        \u001b[49m\u001b[38;5;28;43mself\u001b[39;49m\u001b[38;5;241;43m.\u001b[39;49m\u001b[43mmax_bson_size\u001b[49m\u001b[43m,\u001b[49m\n\u001b[1;32m    946\u001b[0m \u001b[43m        \u001b[49m\u001b[43mread_concern\u001b[49m\u001b[43m,\u001b[49m\n\u001b[1;32m    947\u001b[0m \u001b[43m        \u001b[49m\u001b[43mparse_write_concern_error\u001b[49m\u001b[38;5;241;43m=\u001b[39;49m\u001b[43mparse_write_concern_error\u001b[49m\u001b[43m,\u001b[49m\n\u001b[1;32m    948\u001b[0m \u001b[43m        \u001b[49m\u001b[43mcollation\u001b[49m\u001b[38;5;241;43m=\u001b[39;49m\u001b[43mcollation\u001b[49m\u001b[43m,\u001b[49m\n\u001b[1;32m    949\u001b[0m \u001b[43m        \u001b[49m\u001b[43mcompression_ctx\u001b[49m\u001b[38;5;241;43m=\u001b[39;49m\u001b[38;5;28;43mself\u001b[39;49m\u001b[38;5;241;43m.\u001b[39;49m\u001b[43mcompression_context\u001b[49m\u001b[43m,\u001b[49m\n\u001b[1;32m    950\u001b[0m \u001b[43m        \u001b[49m\u001b[43muse_op_msg\u001b[49m\u001b[38;5;241;43m=\u001b[39;49m\u001b[38;5;28;43mself\u001b[39;49m\u001b[38;5;241;43m.\u001b[39;49m\u001b[43mop_msg_enabled\u001b[49m\u001b[43m,\u001b[49m\n\u001b[1;32m    951\u001b[0m \u001b[43m        \u001b[49m\u001b[43munacknowledged\u001b[49m\u001b[38;5;241;43m=\u001b[39;49m\u001b[43munacknowledged\u001b[49m\u001b[43m,\u001b[49m\n\u001b[1;32m    952\u001b[0m \u001b[43m        \u001b[49m\u001b[43muser_fields\u001b[49m\u001b[38;5;241;43m=\u001b[39;49m\u001b[43muser_fields\u001b[49m\u001b[43m,\u001b[49m\n\u001b[1;32m    953\u001b[0m \u001b[43m        \u001b[49m\u001b[43mexhaust_allowed\u001b[49m\u001b[38;5;241;43m=\u001b[39;49m\u001b[43mexhaust_allowed\u001b[49m\u001b[43m,\u001b[49m\n\u001b[1;32m    954\u001b[0m \u001b[43m        \u001b[49m\u001b[43mwrite_concern\u001b[49m\u001b[38;5;241;43m=\u001b[39;49m\u001b[43mwrite_concern\u001b[49m\u001b[43m,\u001b[49m\n\u001b[1;32m    955\u001b[0m \u001b[43m    \u001b[49m\u001b[43m)\u001b[49m\n\u001b[1;32m    956\u001b[0m \u001b[38;5;28;01mexcept\u001b[39;00m (OperationFailure, NotPrimaryError):\n\u001b[1;32m    957\u001b[0m     \u001b[38;5;28;01mraise\u001b[39;00m\n",
      "File \u001b[0;32m~/.local/lib/python3.10/site-packages/pymongo/network.py:181\u001b[0m, in \u001b[0;36mcommand\u001b[0;34m(conn, dbname, spec, is_mongos, read_preference, codec_options, session, client, check, allowable_errors, address, listeners, max_bson_size, read_concern, parse_write_concern_error, collation, compression_ctx, use_op_msg, unacknowledged, user_fields, exhaust_allowed, write_concern)\u001b[0m\n\u001b[1;32m    179\u001b[0m     response_doc: _DocumentOut \u001b[38;5;241m=\u001b[39m {\u001b[38;5;124m\"\u001b[39m\u001b[38;5;124mok\u001b[39m\u001b[38;5;124m\"\u001b[39m: \u001b[38;5;241m1\u001b[39m}\n\u001b[1;32m    180\u001b[0m \u001b[38;5;28;01melse\u001b[39;00m:\n\u001b[0;32m--> 181\u001b[0m     reply \u001b[38;5;241m=\u001b[39m \u001b[43mreceive_message\u001b[49m\u001b[43m(\u001b[49m\u001b[43mconn\u001b[49m\u001b[43m,\u001b[49m\u001b[43m \u001b[49m\u001b[43mrequest_id\u001b[49m\u001b[43m)\u001b[49m\n\u001b[1;32m    182\u001b[0m     conn\u001b[38;5;241m.\u001b[39mmore_to_come \u001b[38;5;241m=\u001b[39m reply\u001b[38;5;241m.\u001b[39mmore_to_come\n\u001b[1;32m    183\u001b[0m     unpacked_docs \u001b[38;5;241m=\u001b[39m reply\u001b[38;5;241m.\u001b[39munpack_response(\n\u001b[1;32m    184\u001b[0m         codec_options\u001b[38;5;241m=\u001b[39mcodec_options, user_fields\u001b[38;5;241m=\u001b[39muser_fields\n\u001b[1;32m    185\u001b[0m     )\n",
      "File \u001b[0;32m~/.local/lib/python3.10/site-packages/pymongo/network.py:247\u001b[0m, in \u001b[0;36mreceive_message\u001b[0;34m(conn, request_id, max_message_size)\u001b[0m\n\u001b[1;32m    245\u001b[0m         deadline \u001b[38;5;241m=\u001b[39m \u001b[38;5;28;01mNone\u001b[39;00m\n\u001b[1;32m    246\u001b[0m \u001b[38;5;66;03m# Ignore the response's request id.\u001b[39;00m\n\u001b[0;32m--> 247\u001b[0m length, _, response_to, op_code \u001b[38;5;241m=\u001b[39m _UNPACK_HEADER(\u001b[43m_receive_data_on_socket\u001b[49m\u001b[43m(\u001b[49m\u001b[43mconn\u001b[49m\u001b[43m,\u001b[49m\u001b[43m \u001b[49m\u001b[38;5;241;43m16\u001b[39;49m\u001b[43m,\u001b[49m\u001b[43m \u001b[49m\u001b[43mdeadline\u001b[49m\u001b[43m)\u001b[49m)\n\u001b[1;32m    248\u001b[0m \u001b[38;5;66;03m# No request_id for exhaust cursor \"getMore\".\u001b[39;00m\n\u001b[1;32m    249\u001b[0m \u001b[38;5;28;01mif\u001b[39;00m request_id \u001b[38;5;129;01mis\u001b[39;00m \u001b[38;5;129;01mnot\u001b[39;00m \u001b[38;5;28;01mNone\u001b[39;00m:\n",
      "File \u001b[0;32m~/.local/lib/python3.10/site-packages/pymongo/network.py:328\u001b[0m, in \u001b[0;36m_receive_data_on_socket\u001b[0;34m(conn, length, deadline)\u001b[0m\n\u001b[1;32m    326\u001b[0m     \u001b[38;5;28;01mif\u001b[39;00m _csot\u001b[38;5;241m.\u001b[39mget_timeout() \u001b[38;5;129;01mand\u001b[39;00m deadline \u001b[38;5;129;01mis\u001b[39;00m \u001b[38;5;129;01mnot\u001b[39;00m \u001b[38;5;28;01mNone\u001b[39;00m:\n\u001b[1;32m    327\u001b[0m         conn\u001b[38;5;241m.\u001b[39mset_conn_timeout(\u001b[38;5;28mmax\u001b[39m(deadline \u001b[38;5;241m-\u001b[39m time\u001b[38;5;241m.\u001b[39mmonotonic(), \u001b[38;5;241m0\u001b[39m))\n\u001b[0;32m--> 328\u001b[0m     chunk_length \u001b[38;5;241m=\u001b[39m \u001b[43mconn\u001b[49m\u001b[38;5;241;43m.\u001b[39;49m\u001b[43mconn\u001b[49m\u001b[38;5;241;43m.\u001b[39;49m\u001b[43mrecv_into\u001b[49m\u001b[43m(\u001b[49m\u001b[43mmv\u001b[49m\u001b[43m[\u001b[49m\u001b[43mbytes_read\u001b[49m\u001b[43m:\u001b[49m\u001b[43m]\u001b[49m\u001b[43m)\u001b[49m\n\u001b[1;32m    329\u001b[0m \u001b[38;5;28;01mexcept\u001b[39;00m BLOCKING_IO_ERRORS:\n\u001b[1;32m    330\u001b[0m     \u001b[38;5;28;01mraise\u001b[39;00m socket\u001b[38;5;241m.\u001b[39mtimeout(\u001b[38;5;124m\"\u001b[39m\u001b[38;5;124mtimed out\u001b[39m\u001b[38;5;124m\"\u001b[39m)\n",
      "\u001b[0;31mKeyboardInterrupt\u001b[0m: "
     ]
    }
   ],
   "source": [
    "location_types = new_sales_collection.distinct(\"Location_Type\",{\"Location_Type\":{\"$nin\":[0,None]}})\n",
    "_id = {'Location_Type': '$Location_Type'}\n",
    "result = []\n",
    "for i in location_types:\n",
    "    for date in getDates():\n",
    "        last_month = (date - relativedelta(months=1))\n",
    "        data = filter_sales(list(group_sales(_id,{\"Location_Type\":i,\"Sales_Month\":{\"$in\":[date.month,last_month.month]},\"Sales_Year\":{\"$in\":[date.year,last_month.year]}})),date,last_month)\n",
    "        result.append(generate_seasonality_record({\"Location_Type\":i,\"Sales_Year\":date.year,\"Sales_Month\":date.month},data))\n",
    "for record in result:\n",
    "    for key in keys:\n",
    "        if not key in record or record[key] == None:\n",
    "            current_date = datetime(record['Sales_Year'],record['Sales_Month'],1)\n",
    "            last_month = current_date - relativedelta(months=1)\n",
    "            all_locations_growth = filter_sales(list(group_sales({},{\"Sales_Month\":{\"$in\":[current_date.month,last_month.month]},\"Sales_Year\":{\"$in\":[current_date.year,last_month.year]}})),current_date,last_month)\n",
    "            if len(all_locations_growth) != 2:\n",
    "                print(\"hello\")\n",
    "                continue\n",
    "                raise Exception(\"all_locations_growth length issue\")\n",
    "            first_month = all_locations_growth[0][key]/all_locations_growth[0]['numberOfOutlets']\n",
    "            second_month = all_locations_growth[1][key]/all_locations_growth[1]['numberOfOutlets']\n",
    "            growth = calculate_growth(first_month,second_month)\n",
    "            # Check next month, add all_locations_growth to next month growth\n",
    "            record[key] = growth\n",
    "location_type_df = pd.DataFrame(result)"
   ]
  },
  {
   "cell_type": "markdown",
   "metadata": {},
   "source": [
    "generate Products Seasonality"
   ]
  },
  {
   "cell_type": "code",
   "execution_count": 5,
   "metadata": {},
   "outputs": [],
   "source": [
    "products_types = new_sales_collection.distinct(\"Product_Focus\",{\"Level_1_Area\":\"Kuwait\",\"Product_Focus\":{\"$ne\":0}})\n",
    "_id = {'Product_Focus': '$Product_Focus'}\n",
    "result = []\n",
    "for i in products_types:\n",
    "    for date in getDates():\n",
    "        last_month = (date - relativedelta(months=1))\n",
    "        data = filter_sales(list(group_sales(_id,{\"Product_Focus\":i,\"Sales_Month\":{\"$in\":[date.month,last_month.month]},\"Sales_Year\":{\"$in\":[date.year,last_month.year]}})),date,last_month)\n",
    "        result.append(generate_seasonality_record({\"Product_Focus\":i,\"Sales_Year\":date.year,\"Sales_Month\":date.month},data))\n",
    "for record in result:\n",
    "    for key in keys:\n",
    "            if key not in record or record[key] == None:\n",
    "                current_date = datetime(record['Sales_Year'],record['Sales_Month'],1)\n",
    "                last_month = current_date - relativedelta(months=1)\n",
    "                all_locations_growth = filter_sales(list(group_sales({},{\"Sales_Month\":{\"$in\":[current_date.month,last_month.month]},\"Sales_Year\":{\"$in\":[current_date.year,last_month.year]}})),current_date,last_month)\n",
    "                if len(all_locations_growth) != 2:\n",
    "                    # raise Exception(\"all_locations_growth length issue\")\n",
    "                    continue\n",
    "                first_month = all_locations_growth[0][key]/all_locations_growth[0]['numberOfOutlets']\n",
    "                second_month = all_locations_growth[1][key]/all_locations_growth[1]['numberOfOutlets']\n",
    "                growth = calculate_growth(first_month,second_month)\n",
    "                # Check next month, add all_locations_growth to next month growth\n",
    "                record[key] = growth\n",
    "product_focus_df = pd.DataFrame(result)"
   ]
  },
  {
   "cell_type": "markdown",
   "metadata": {},
   "source": [
    "generate Area Seasonality"
   ]
  },
  {
   "cell_type": "code",
   "execution_count": 6,
   "metadata": {},
   "outputs": [],
   "source": [
    "areas = new_sales_collection.distinct(\"Level_3_Area\",{\"Level_1_Area\":\"Kuwait\"})\n",
    "_id = {'Level_3_Area': '$Level_3_Area'}\n",
    "result = []\n",
    "for i in areas:\n",
    "    for date in getDates():\n",
    "        last_month = (date - relativedelta(months=1))\n",
    "        data = filter_sales(list(group_sales(_id,{\"Level_3_Area\":i,\"Sales_Month\":{\"$in\":[date.month,last_month.month]},\"Sales_Year\":{\"$in\":[date.year,last_month.year]}})),date,last_month)\n",
    "        result.append(generate_seasonality_record({\"Level_3_Area\":i,\"Sales_Year\":date.year,\"Sales_Month\":date.month},data))\n",
    "# check growth for level 2 area\n",
    "for record in result:\n",
    "    for key in keys:\n",
    "            if key not in record or record[key] == None:\n",
    "                area_level_2 = area_table[record['Level_3_Area']]\n",
    "                current_date = datetime(record['Sales_Year'],record['Sales_Month'],1)\n",
    "                last_month = current_date - relativedelta(months=1)\n",
    "                all_locations_growth = filter_sales(list(group_sales({'Level_2_Area':\"$Level_2_Area\"},{\"Level_2_Area\":area_level_2,\"Sales_Month\":{\"$in\":[current_date.month,last_month.month]},\"Sales_Year\":{\"$in\":[current_date.year,last_month.year]}})),current_date,last_month)\n",
    "                if len(all_locations_growth) != 2:\n",
    "                    continue\n",
    "                    # raise Exception(\"all_locations_growth length issue\")\n",
    "                first_month = all_locations_growth[0][key]/all_locations_growth[0]['numberOfOutlets']\n",
    "                second_month = all_locations_growth[1][key]/all_locations_growth[1]['numberOfOutlets']\n",
    "                growth = calculate_growth(first_month,second_month)\n",
    "                # Check next month, add all_locations_growth to next month growth\n",
    "                record[key] = growth\n",
    "area_df = pd.DataFrame(result)"
   ]
  },
  {
   "cell_type": "markdown",
   "metadata": {},
   "source": [
    "generate Industry Type Seasonality"
   ]
  },
  {
   "cell_type": "code",
   "execution_count": 7,
   "metadata": {},
   "outputs": [],
   "source": [
    "industry = new_sales_collection.distinct(\"Industry_Level_2\",{\"Level_1_Area\":\"Kuwait\",\"Industry_Level_2\":{\"$ne\":0}})\n",
    "_id = {'Industry_Level_2': 'Industry_Level_2'}\n",
    "result = []\n",
    "\n",
    "def group_sales_2(group_id,match,industry):\n",
    "    pipeline =[\n",
    "        {'$match': {**match,\"Level_1_Area\":\"Kuwait\",\"Monthly_Sales\":{\"$nin\":[None,0]}}},\n",
    "        {\"$lookup\":{\n",
    "  \"from\": \"Brands\",\n",
    "  \"localField\": \"Brand\",\n",
    "  \"foreignField\": \"Brand_Name_English\",\n",
    "  \"as\": \"brand\",\n",
    "  \"pipeline\": [\n",
    "    {\n",
    "      \"$match\": {\n",
    "        \"Industry_Level_1\": industry,\n",
    "      },\n",
    "    },\n",
    "  ],\n",
    "}},\n",
    "{\"$match\":{\"brand.0\":{\"$exists\":True}}},\n",
    "    {\n",
    "        '$group': {\n",
    "            '_id': {**group_id,\"year\":\"$Sales_Year\",\"month\":\"$Sales_Month\",}, \n",
    "            'Weekday_Store_Sales': {\n",
    "                '$sum': '$Weekday_Store_Sales'\n",
    "            }, \n",
    "            'Weekday_Delivery_Sales': {\n",
    "                '$sum': '$Weekday_Delivery_Sales'\n",
    "            }, \n",
    "            'Weekend_Store_Sales': {\n",
    "                '$sum': '$Weekend_Store_Sales'\n",
    "            }, \n",
    "            'Weekend_Delivery_Sales': {\n",
    "                '$sum': '$Weekend_Delivery_Sales'\n",
    "            },\n",
    "                \"numberOfOutlets\":{\"$sum\":1}\n",
    "        }\n",
    "    },\n",
    "    {   \"$sort\":{\n",
    "            \"_id.year\":1,\n",
    "             \"_id.month\":1\n",
    "        }\n",
    "    },\n",
    "]\n",
    "    try:\n",
    "        return new_sales_collection.aggregate(pipeline)\n",
    "    except:\n",
    "        print(pipeline)\n",
    "        raise Exception(\"group_sales_2 error\")\n",
    "\n",
    "\n",
    "\n",
    "\n",
    "for i in industry:\n",
    "    for date in getDates():\n",
    "        last_month = (date - relativedelta(months=1))\n",
    "        data = filter_sales(list(group_sales(_id,{\"Industry_Level_2\":i,\"Sales_Month\":{\"$in\":[date.month,last_month.month]},\"Sales_Year\":{\"$in\":[date.year,last_month.year]}})),date,last_month)\n",
    "        result.append(generate_seasonality_record({\"Industry_Level_2\":i,\"Sales_Year\":date.year,\"Sales_Month\":date.month},data))\n",
    "\n",
    "for record in result:\n",
    "    for key in keys:\n",
    "            if key not in record or record[key] == None:\n",
    "                industry =industry_table.get(record.get('Industry_Level_2',None),None)\n",
    "                current_date = datetime(record['Sales_Year'],record['Sales_Month'],1)\n",
    "                last_month = current_date - relativedelta(months=1)\n",
    "                all_locations_growth = filter_sales(list(group_sales_2({},{\"Sales_Month\":{\"$in\":[current_date.month,last_month.month]},\"Sales_Year\":{\"$in\":[current_date.year,last_month.year]}},industry)),current_date,last_month)\n",
    "                if len(all_locations_growth) != 2:\n",
    "                    continue\n",
    "                    # raise Exception(\"all_locations_growth length issue\")\n",
    "                first_month = all_locations_growth[0][key]/all_locations_growth[0]['numberOfOutlets']\n",
    "                second_month = all_locations_growth[1][key]/all_locations_growth[1]['numberOfOutlets']\n",
    "                growth = calculate_growth(first_month,second_month)\n",
    "                # Check next month, add all_locations_growth to next month growth\n",
    "                record[key] = growth\n",
    "industry_df = pd.DataFrame(result)\n"
   ]
  },
  {
   "cell_type": "code",
   "execution_count": 9,
   "metadata": {},
   "outputs": [],
   "source": [
    "with pd.ExcelWriter('seasonalities.xlsx', engine='xlsxwriter') as writer:\n",
    "    location_type_df.to_excel(writer, sheet_name='location_type',index=False)\n",
    "    product_focus_df.to_excel(writer, sheet_name='product_focus',index=False)\n",
    "    area_df.to_excel(writer, sheet_name='area',index=False)\n",
    "    industry_df.to_excel(writer, sheet_name='industry',index=False)"
   ]
  }
 ],
 "metadata": {
  "kernelspec": {
   "display_name": "Python 3",
   "language": "python",
   "name": "python3"
  },
  "language_info": {
   "codemirror_mode": {
    "name": "ipython",
    "version": 3
   },
   "file_extension": ".py",
   "mimetype": "text/x-python",
   "name": "python",
   "nbconvert_exporter": "python",
   "pygments_lexer": "ipython3",
   "version": "3.10.12"
  }
 },
 "nbformat": 4,
 "nbformat_minor": 2
}
