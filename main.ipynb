{
 "cells": [
  {
   "cell_type": "code",
   "execution_count": 1,
   "metadata": {},
   "outputs": [],
   "source": [
    "from db.helpers import new_sales_collection\n",
    "from db.queries import new_sales_refenrece_ids_with_sales_count\n",
    "import pandas as pd\n",
    "import random"
   ]
  },
  {
   "cell_type": "code",
   "execution_count": 88,
   "metadata": {},
   "outputs": [],
   "source": [
    "def find_seg(data: list[dict], seg_len: int = 3):\n",
    "    seg = []\n",
    "    for i in data:\n",
    "        if i[\"Monthly_Sales\"] == None and len(seg) > 0:\n",
    "            seg.append(i)\n",
    "        if i[\"Monthly_Sales\"] != None and len(seg) == 0:\n",
    "            seg.append(i)\n",
    "\n",
    "        if i[\"Monthly_Sales\"] != None and len(seg) > 0:\n",
    "            if len(seg) == 1:\n",
    "                seg.append(i)\n",
    "            else:\n",
    "                if len(seg) > seg_len:\n",
    "                    seg = []\n",
    "                    seg.append(i)\n",
    "                    continue\n",
    "                seg.append(i)\n",
    "                yield seg\n",
    "                seg = []"
   ]
  },
  {
   "cell_type": "code",
   "execution_count": 89,
   "metadata": {},
   "outputs": [],
   "source": [
    "all_sales = list(\n",
    "    new_sales_collection.aggregate(\n",
    "        pipeline=[\n",
    "            {\"$match\": {\"Monthly_Sales\": {\"$ne\": None}}},\n",
    "            {\n",
    "                \"$group\": {\n",
    "                    \"_id\": \"$Brand\",\n",
    "                    \"generated\": {\n",
    "                        \"$push\": {\n",
    "                            \"$cond\": [\n",
    "                                {\"$eq\": [\"$Source\", \"Generated\"]},\n",
    "                                \"$Monthly_Sales\",\n",
    "                                None,\n",
    "                            ]\n",
    "                        }\n",
    "                    },\n",
    "                    \"actual\": {\n",
    "                        \"$push\": {\n",
    "                            \"$cond\": [\n",
    "                                {\"$ne\": [\"$Source\", \"Generated\"]},\n",
    "                                \"$Monthly_Sales\",\n",
    "                                None,\n",
    "                            ]\n",
    "                        }\n",
    "                    },\n",
    "                }\n",
    "            },\n",
    "            {\"$unwind\": {\"path\": \"$generated\"}},\n",
    "            {\"$unwind\": {\"path\": \"$actual\"}},\n",
    "            {\n",
    "                \"$group\": {\n",
    "                    \"_id\": \"$_id\",\n",
    "                    \"max_actual\": {\"$max\": \"$actual\"},\n",
    "                    \"min_actual\": {\"$min\": \"$actual\"},\n",
    "                    \"max_generated\": {\"$max\": \"$generated\"},\n",
    "                    \"min_generated\": {\"$min\": \"$generated\"},\n",
    "                }\n",
    "            },\n",
    "            {\"$match\": {\"max_actual\": {\"$ne\": None}, \"max_generated\": {\"$ne\": None}}},\n",
    "        ]\n",
    "    )\n",
    ")\n",
    "df = pd.DataFrame(all_sales)"
   ]
  },
  {
   "cell_type": "code",
   "execution_count": 90,
   "metadata": {},
   "outputs": [
    {
     "data": {
      "text/html": [
       "<div>\n",
       "<style scoped>\n",
       "    .dataframe tbody tr th:only-of-type {\n",
       "        vertical-align: middle;\n",
       "    }\n",
       "\n",
       "    .dataframe tbody tr th {\n",
       "        vertical-align: top;\n",
       "    }\n",
       "\n",
       "    .dataframe thead th {\n",
       "        text-align: right;\n",
       "    }\n",
       "</style>\n",
       "<table border=\"1\" class=\"dataframe\">\n",
       "  <thead>\n",
       "    <tr style=\"text-align: right;\">\n",
       "      <th></th>\n",
       "      <th>_id</th>\n",
       "      <th>max_actual</th>\n",
       "      <th>min_actual</th>\n",
       "      <th>max_generated</th>\n",
       "      <th>min_generated</th>\n",
       "    </tr>\n",
       "  </thead>\n",
       "  <tbody>\n",
       "    <tr>\n",
       "      <th>0</th>\n",
       "      <td>Trolley</td>\n",
       "      <td>186276.0</td>\n",
       "      <td>1716.00</td>\n",
       "      <td>278561.899335</td>\n",
       "      <td>620.000000</td>\n",
       "    </tr>\n",
       "    <tr>\n",
       "      <th>1</th>\n",
       "      <td>Giolitti</td>\n",
       "      <td>7840.0</td>\n",
       "      <td>6480.00</td>\n",
       "      <td>42465.555556</td>\n",
       "      <td>26580.000000</td>\n",
       "    </tr>\n",
       "    <tr>\n",
       "      <th>2</th>\n",
       "      <td>Payless ShoeSource</td>\n",
       "      <td>46580.0</td>\n",
       "      <td>3320.00</td>\n",
       "      <td>60760.000000</td>\n",
       "      <td>704.807626</td>\n",
       "    </tr>\n",
       "    <tr>\n",
       "      <th>3</th>\n",
       "      <td>PANCO</td>\n",
       "      <td>13060.0</td>\n",
       "      <td>13060.00</td>\n",
       "      <td>28479.880000</td>\n",
       "      <td>3499.000000</td>\n",
       "    </tr>\n",
       "    <tr>\n",
       "      <th>4</th>\n",
       "      <td>arabiata</td>\n",
       "      <td>21083.0</td>\n",
       "      <td>19362.00</td>\n",
       "      <td>16559.020408</td>\n",
       "      <td>4460.000000</td>\n",
       "    </tr>\n",
       "    <tr>\n",
       "      <th>...</th>\n",
       "      <td>...</td>\n",
       "      <td>...</td>\n",
       "      <td>...</td>\n",
       "      <td>...</td>\n",
       "      <td>...</td>\n",
       "    </tr>\n",
       "    <tr>\n",
       "      <th>2530</th>\n",
       "      <td>Le Notre Restaurant</td>\n",
       "      <td>86000.0</td>\n",
       "      <td>33480.00</td>\n",
       "      <td>79257.500000</td>\n",
       "      <td>16455.757576</td>\n",
       "    </tr>\n",
       "    <tr>\n",
       "      <th>2531</th>\n",
       "      <td>House of Joy</td>\n",
       "      <td>11620.0</td>\n",
       "      <td>3571.06</td>\n",
       "      <td>30297.760000</td>\n",
       "      <td>582.698760</td>\n",
       "    </tr>\n",
       "    <tr>\n",
       "      <th>2532</th>\n",
       "      <td>Health Planet Co.</td>\n",
       "      <td>27020.0</td>\n",
       "      <td>6524.00</td>\n",
       "      <td>40268.000000</td>\n",
       "      <td>1083.708247</td>\n",
       "    </tr>\n",
       "    <tr>\n",
       "      <th>2533</th>\n",
       "      <td>Chillo Cafe</td>\n",
       "      <td>29026.0</td>\n",
       "      <td>26390.00</td>\n",
       "      <td>33583.222222</td>\n",
       "      <td>2919.814518</td>\n",
       "    </tr>\n",
       "    <tr>\n",
       "      <th>2534</th>\n",
       "      <td>Queezeen</td>\n",
       "      <td>29554.0</td>\n",
       "      <td>8566.00</td>\n",
       "      <td>39563.723463</td>\n",
       "      <td>19664.557779</td>\n",
       "    </tr>\n",
       "  </tbody>\n",
       "</table>\n",
       "<p>2535 rows × 5 columns</p>\n",
       "</div>"
      ],
      "text/plain": [
       "                      _id  max_actual  min_actual  max_generated  \\\n",
       "0                 Trolley    186276.0     1716.00  278561.899335   \n",
       "1                Giolitti      7840.0     6480.00   42465.555556   \n",
       "2      Payless ShoeSource     46580.0     3320.00   60760.000000   \n",
       "3                   PANCO     13060.0    13060.00   28479.880000   \n",
       "4                arabiata     21083.0    19362.00   16559.020408   \n",
       "...                   ...         ...         ...            ...   \n",
       "2530  Le Notre Restaurant     86000.0    33480.00   79257.500000   \n",
       "2531         House of Joy     11620.0     3571.06   30297.760000   \n",
       "2532    Health Planet Co.     27020.0     6524.00   40268.000000   \n",
       "2533          Chillo Cafe     29026.0    26390.00   33583.222222   \n",
       "2534             Queezeen     29554.0     8566.00   39563.723463   \n",
       "\n",
       "      min_generated  \n",
       "0        620.000000  \n",
       "1      26580.000000  \n",
       "2        704.807626  \n",
       "3       3499.000000  \n",
       "4       4460.000000  \n",
       "...             ...  \n",
       "2530   16455.757576  \n",
       "2531     582.698760  \n",
       "2532    1083.708247  \n",
       "2533    2919.814518  \n",
       "2534   19664.557779  \n",
       "\n",
       "[2535 rows x 5 columns]"
      ]
     },
     "metadata": {},
     "output_type": "display_data"
    },
    {
     "data": {
      "text/html": [
       "<div>\n",
       "<style scoped>\n",
       "    .dataframe tbody tr th:only-of-type {\n",
       "        vertical-align: middle;\n",
       "    }\n",
       "\n",
       "    .dataframe tbody tr th {\n",
       "        vertical-align: top;\n",
       "    }\n",
       "\n",
       "    .dataframe thead th {\n",
       "        text-align: right;\n",
       "    }\n",
       "</style>\n",
       "<table border=\"1\" class=\"dataframe\">\n",
       "  <thead>\n",
       "    <tr style=\"text-align: right;\">\n",
       "      <th></th>\n",
       "      <th>_id</th>\n",
       "      <th>max_actual</th>\n",
       "      <th>min_actual</th>\n",
       "      <th>max_generated</th>\n",
       "      <th>min_generated</th>\n",
       "    </tr>\n",
       "  </thead>\n",
       "  <tbody>\n",
       "    <tr>\n",
       "      <th>0</th>\n",
       "      <td>Trolley</td>\n",
       "      <td>186276.0</td>\n",
       "      <td>1716.00</td>\n",
       "      <td>278561.899335</td>\n",
       "      <td>620.000000</td>\n",
       "    </tr>\n",
       "    <tr>\n",
       "      <th>1</th>\n",
       "      <td>Giolitti</td>\n",
       "      <td>7840.0</td>\n",
       "      <td>6480.00</td>\n",
       "      <td>42465.555556</td>\n",
       "      <td>26580.000000</td>\n",
       "    </tr>\n",
       "    <tr>\n",
       "      <th>2</th>\n",
       "      <td>Payless ShoeSource</td>\n",
       "      <td>46580.0</td>\n",
       "      <td>3320.00</td>\n",
       "      <td>60760.000000</td>\n",
       "      <td>704.807626</td>\n",
       "    </tr>\n",
       "    <tr>\n",
       "      <th>3</th>\n",
       "      <td>PANCO</td>\n",
       "      <td>13060.0</td>\n",
       "      <td>13060.00</td>\n",
       "      <td>28479.880000</td>\n",
       "      <td>3499.000000</td>\n",
       "    </tr>\n",
       "    <tr>\n",
       "      <th>5</th>\n",
       "      <td>Golden Oxygen Fashion</td>\n",
       "      <td>2752.0</td>\n",
       "      <td>2234.00</td>\n",
       "      <td>103230.061285</td>\n",
       "      <td>701.743248</td>\n",
       "    </tr>\n",
       "    <tr>\n",
       "      <th>...</th>\n",
       "      <td>...</td>\n",
       "      <td>...</td>\n",
       "      <td>...</td>\n",
       "      <td>...</td>\n",
       "      <td>...</td>\n",
       "    </tr>\n",
       "    <tr>\n",
       "      <th>2529</th>\n",
       "      <td>COVA</td>\n",
       "      <td>6280.0</td>\n",
       "      <td>5148.00</td>\n",
       "      <td>23180.583333</td>\n",
       "      <td>1497.673748</td>\n",
       "    </tr>\n",
       "    <tr>\n",
       "      <th>2531</th>\n",
       "      <td>House of Joy</td>\n",
       "      <td>11620.0</td>\n",
       "      <td>3571.06</td>\n",
       "      <td>30297.760000</td>\n",
       "      <td>582.698760</td>\n",
       "    </tr>\n",
       "    <tr>\n",
       "      <th>2532</th>\n",
       "      <td>Health Planet Co.</td>\n",
       "      <td>27020.0</td>\n",
       "      <td>6524.00</td>\n",
       "      <td>40268.000000</td>\n",
       "      <td>1083.708247</td>\n",
       "    </tr>\n",
       "    <tr>\n",
       "      <th>2533</th>\n",
       "      <td>Chillo Cafe</td>\n",
       "      <td>29026.0</td>\n",
       "      <td>26390.00</td>\n",
       "      <td>33583.222222</td>\n",
       "      <td>2919.814518</td>\n",
       "    </tr>\n",
       "    <tr>\n",
       "      <th>2534</th>\n",
       "      <td>Queezeen</td>\n",
       "      <td>29554.0</td>\n",
       "      <td>8566.00</td>\n",
       "      <td>39563.723463</td>\n",
       "      <td>19664.557779</td>\n",
       "    </tr>\n",
       "  </tbody>\n",
       "</table>\n",
       "<p>1493 rows × 5 columns</p>\n",
       "</div>"
      ],
      "text/plain": [
       "                        _id  max_actual  min_actual  max_generated  \\\n",
       "0                   Trolley    186276.0     1716.00  278561.899335   \n",
       "1                  Giolitti      7840.0     6480.00   42465.555556   \n",
       "2        Payless ShoeSource     46580.0     3320.00   60760.000000   \n",
       "3                     PANCO     13060.0    13060.00   28479.880000   \n",
       "5     Golden Oxygen Fashion      2752.0     2234.00  103230.061285   \n",
       "...                     ...         ...         ...            ...   \n",
       "2529                   COVA      6280.0     5148.00   23180.583333   \n",
       "2531           House of Joy     11620.0     3571.06   30297.760000   \n",
       "2532      Health Planet Co.     27020.0     6524.00   40268.000000   \n",
       "2533            Chillo Cafe     29026.0    26390.00   33583.222222   \n",
       "2534               Queezeen     29554.0     8566.00   39563.723463   \n",
       "\n",
       "      min_generated  \n",
       "0        620.000000  \n",
       "1      26580.000000  \n",
       "2        704.807626  \n",
       "3       3499.000000  \n",
       "5        701.743248  \n",
       "...             ...  \n",
       "2529    1497.673748  \n",
       "2531     582.698760  \n",
       "2532    1083.708247  \n",
       "2533    2919.814518  \n",
       "2534   19664.557779  \n",
       "\n",
       "[1493 rows x 5 columns]"
      ]
     },
     "metadata": {},
     "output_type": "display_data"
    }
   ],
   "source": [
    "display(df)\n",
    "display(df[df[\"max_generated\"] > df[\"max_actual\"]])"
   ]
  },
  {
   "cell_type": "code",
   "execution_count": 2,
   "metadata": {},
   "outputs": [
    {
     "data": {
      "text/plain": [
       "{'_id': 'Foodservice 6828', 'fieldN': 69}"
      ]
     },
     "metadata": {},
     "output_type": "display_data"
    },
    {
     "data": {
      "text/plain": [
       "'The Gathering Bistro'"
      ]
     },
     "metadata": {},
     "output_type": "display_data"
    },
    {
     "data": {
      "text/plain": [
       "'Generated'"
      ]
     },
     "metadata": {},
     "output_type": "display_data"
    },
    {
     "data": {
      "text/plain": [
       "65291.016"
      ]
     },
     "metadata": {},
     "output_type": "display_data"
    },
    {
     "data": {
      "text/plain": [
       "'Actual'"
      ]
     },
     "metadata": {},
     "output_type": "display_data"
    },
    {
     "data": {
      "text/plain": [
       "68534.0"
      ]
     },
     "metadata": {},
     "output_type": "display_data"
    },
    {
     "data": {
      "text/plain": [
       "<Axes: xlabel='Sales_Period'>"
      ]
     },
     "execution_count": 2,
     "metadata": {},
     "output_type": "execute_result"
    },
    {
     "data": {
      "image/png": "[encoded data removed]",
      "text/plain": [
       "<Figure size 640x480 with 1 Axes>"
      ]
     },
     "metadata": {},
     "output_type": "display_data"
    },
    {
     "data": {
      "image/png": "[encoded data removed]",
      "text/plain": [
       "<Figure size 640x480 with 1 Axes>"
      ]
     },
     "metadata": {},
     "output_type": "display_data"
    },
    {
     "data": {
      "image/png": "[encoded data removed]",
      "text/plain": [
       "<Figure size 640x480 with 1 Axes>"
      ]
     },
     "metadata": {},
     "output_type": "display_data"
    }
   ],
   "source": [
    "reference_ids = list(new_sales_refenrece_ids_with_sales_count())\n",
    "id = random.choice(reference_ids)\n",
    "# id = {'_id': 'Retail 170023', 'fieldN': 36}\n",
    "sales = new_sales_collection.find({\"Reference_Full_ID\": id[\"_id\"]})\n",
    "sales = list(sales)\n",
    "display(id, sales[0][\"Brand\"])\n",
    "sales = pd.DataFrame(sales)\n",
    "generated_filter = (\n",
    "    (sales[\"Study\"] == \"Generated\")\n",
    "    & (sales[\"Researcher\"] == \"Mahmoud\")\n",
    "    & (sales[\"Source\"] == \"Generated\")\n",
    "    & (sales[\"Monthly_Sales\"].notna())\n",
    ")\n",
    "actual_filter = (\n",
    "    (sales[\"Study\"] != \"generated\")\n",
    "    & (sales[\"Source\"] != \"Generated\")\n",
    "    & (sales[\"Monthly_Sales\"].notna())\n",
    ")\n",
    "display(\"Generated\", sales[generated_filter][\"Monthly_Sales\"].max())\n",
    "display(\"Actual\", sales[actual_filter][\"Monthly_Sales\"].max())\n",
    "sales[sales[\"Source\"] != \"Generated\"].plot(x=\"Sales_Period\", y=\"Monthly_Sales\")\n",
    "sales[sales[\"Source\"] == \"Generated\"].plot(x=\"Sales_Period\", y=\"Monthly_Sales\")\n",
    "sales.plot(x=\"Sales_Period\", y=\"Monthly_Sales\")\n",
    "# sales['Monthly_Sales'] = sales['Monthly_Sales'].interpolate(limit_area='inside')\n",
    "# display(sales['Monthly_Sales'])\n",
    "# sales.plot(x='Sales_Period',y='Monthly_Sales')"
   ]
  },
  {
   "cell_type": "code",
   "execution_count": 3,
   "metadata": {},
   "outputs": [
    {
     "data": {
      "text/plain": [
       "{'_id': 'Retail 170023', 'fieldN': 36}"
      ]
     },
     "metadata": {},
     "output_type": "display_data"
    },
    {
     "data": {
      "text/html": [
       "<div>\n",
       "<style scoped>\n",
       "    .dataframe tbody tr th:only-of-type {\n",
       "        vertical-align: middle;\n",
       "    }\n",
       "\n",
       "    .dataframe tbody tr th {\n",
       "        vertical-align: top;\n",
       "    }\n",
       "\n",
       "    .dataframe thead th {\n",
       "        text-align: right;\n",
       "    }\n",
       "</style>\n",
       "<table border=\"1\" class=\"dataframe\">\n",
       "  <thead>\n",
       "    <tr style=\"text-align: right;\">\n",
       "      <th></th>\n",
       "    </tr>\n",
       "  </thead>\n",
       "  <tbody>\n",
       "  </tbody>\n",
       "</table>\n",
       "</div>"
      ],
      "text/plain": [
       "Empty DataFrame\n",
       "Columns: []\n",
       "Index: []"
      ]
     },
     "metadata": {},
     "output_type": "display_data"
    }
   ],
   "source": [
    "id = {\"_id\": \"Retail 170023\", \"fieldN\": 36}\n",
    "display(id)\n",
    "sales = new_sales_collection.find(\n",
    "    {\"Reference_Full_ID\": id[\"_id\"], \"Monthly_Sales\": None}\n",
    ")\n",
    "df = pd.DataFrame(sales)\n",
    "display(df.tail())"
   ]
  },
  {
   "cell_type": "code",
   "execution_count": 4,
   "metadata": {},
   "outputs": [],
   "source": [
    "import pandas as pd\n",
    "\n",
    "df = pd.DataFrame(new_sales_collection.find({}))"
   ]
  },
  {
   "cell_type": "code",
   "execution_count": 12,
   "metadata": {},
   "outputs": [
    {
     "data": {
      "text/html": [
       "<div>\n",
       "<style scoped>\n",
       "    .dataframe tbody tr th:only-of-type {\n",
       "        vertical-align: middle;\n",
       "    }\n",
       "\n",
       "    .dataframe tbody tr th {\n",
       "        vertical-align: top;\n",
       "    }\n",
       "\n",
       "    .dataframe thead th {\n",
       "        text-align: right;\n",
       "    }\n",
       "</style>\n",
       "<table border=\"1\" class=\"dataframe\">\n",
       "  <thead>\n",
       "    <tr style=\"text-align: right;\">\n",
       "      <th></th>\n",
       "      <th>Monthly_Sales</th>\n",
       "    </tr>\n",
       "  </thead>\n",
       "  <tbody>\n",
       "    <tr>\n",
       "      <th>count</th>\n",
       "      <td>41.000000</td>\n",
       "    </tr>\n",
       "    <tr>\n",
       "      <th>mean</th>\n",
       "      <td>7329.906889</td>\n",
       "    </tr>\n",
       "    <tr>\n",
       "      <th>std</th>\n",
       "      <td>5672.558381</td>\n",
       "    </tr>\n",
       "    <tr>\n",
       "      <th>min</th>\n",
       "      <td>1168.087742</td>\n",
       "    </tr>\n",
       "    <tr>\n",
       "      <th>25%</th>\n",
       "      <td>3907.167629</td>\n",
       "    </tr>\n",
       "    <tr>\n",
       "      <th>50%</th>\n",
       "      <td>4239.926954</td>\n",
       "    </tr>\n",
       "    <tr>\n",
       "      <th>75%</th>\n",
       "      <td>9720.976593</td>\n",
       "    </tr>\n",
       "    <tr>\n",
       "      <th>max</th>\n",
       "      <td>22726.750968</td>\n",
       "    </tr>\n",
       "  </tbody>\n",
       "</table>\n",
       "</div>"
      ],
      "text/plain": [
       "       Monthly_Sales\n",
       "count      41.000000\n",
       "mean     7329.906889\n",
       "std      5672.558381\n",
       "min      1168.087742\n",
       "25%      3907.167629\n",
       "50%      4239.926954\n",
       "75%      9720.976593\n",
       "max     22726.750968"
      ]
     },
     "metadata": {},
     "output_type": "display_data"
    },
    {
     "data": {
      "text/html": [
       "<div>\n",
       "<style scoped>\n",
       "    .dataframe tbody tr th:only-of-type {\n",
       "        vertical-align: middle;\n",
       "    }\n",
       "\n",
       "    .dataframe tbody tr th {\n",
       "        vertical-align: top;\n",
       "    }\n",
       "\n",
       "    .dataframe thead th {\n",
       "        text-align: right;\n",
       "    }\n",
       "</style>\n",
       "<table border=\"1\" class=\"dataframe\">\n",
       "  <thead>\n",
       "    <tr style=\"text-align: right;\">\n",
       "      <th></th>\n",
       "      <th>Monthly_Sales</th>\n",
       "    </tr>\n",
       "  </thead>\n",
       "  <tbody>\n",
       "    <tr>\n",
       "      <th>count</th>\n",
       "      <td>27.000000</td>\n",
       "    </tr>\n",
       "    <tr>\n",
       "      <th>mean</th>\n",
       "      <td>46871.511817</td>\n",
       "    </tr>\n",
       "    <tr>\n",
       "      <th>std</th>\n",
       "      <td>28399.792518</td>\n",
       "    </tr>\n",
       "    <tr>\n",
       "      <th>min</th>\n",
       "      <td>0.000000</td>\n",
       "    </tr>\n",
       "    <tr>\n",
       "      <th>25%</th>\n",
       "      <td>24439.000000</td>\n",
       "    </tr>\n",
       "    <tr>\n",
       "      <th>50%</th>\n",
       "      <td>54557.933333</td>\n",
       "    </tr>\n",
       "    <tr>\n",
       "      <th>75%</th>\n",
       "      <td>64452.500000</td>\n",
       "    </tr>\n",
       "    <tr>\n",
       "      <th>max</th>\n",
       "      <td>92265.000000</td>\n",
       "    </tr>\n",
       "  </tbody>\n",
       "</table>\n",
       "</div>"
      ],
      "text/plain": [
       "       Monthly_Sales\n",
       "count      27.000000\n",
       "mean    46871.511817\n",
       "std     28399.792518\n",
       "min         0.000000\n",
       "25%     24439.000000\n",
       "50%     54557.933333\n",
       "75%     64452.500000\n",
       "max     92265.000000"
      ]
     },
     "metadata": {},
     "output_type": "display_data"
    },
    {
     "data": {
      "text/plain": [
       "<Axes: title={'center': 'Retail 5214'}, xlabel='Sales_Period'>"
      ]
     },
     "execution_count": 12,
     "metadata": {},
     "output_type": "execute_result"
    },
    {
     "data": {
      "image/png": "[encoded data removed]",
      "text/plain": [
       "<Figure size 640x480 with 1 Axes>"
      ]
     },
     "metadata": {},
     "output_type": "display_data"
    }
   ],
   "source": [
    "import pandas as pd\n",
    "\n",
    "unique_rids = df[\"Reference_Full_ID\"].unique()\n",
    "id = random.choice(unique_rids)\n",
    "id = \"Retail 5214\"\n",
    "\n",
    "tmp = df[df[\"Reference_Full_ID\"] == id].copy()\n",
    "generated_df = tmp[tmp[\"Researcher\"] == \"Mahmoud\"]\n",
    "actual_df = tmp[tmp[\"Researcher\"] != \"Mahmoud\"]\n",
    "display(generated_df[[\"Monthly_Sales\"]].describe())\n",
    "display(actual_df[[\"Monthly_Sales\"]].describe())\n",
    "tmp.plot(title=id, x=\"Sales_Period\", y=\"Monthly_Sales\")"
   ]
  },
  {
   "cell_type": "code",
   "execution_count": 8,
   "metadata": {},
   "outputs": [
    {
     "name": "stderr",
     "output_type": "stream",
     "text": [
      "12:06:20 - cmdstanpy - INFO - Chain [1] start processing\n",
      "12:06:21 - cmdstanpy - INFO - Chain [1] done processing\n",
      "/home/rageq8/.local/lib/python3.10/site-packages/_plotly_utils/basevalidators.py:105: FutureWarning:\n",
      "\n",
      "The behavior of DatetimeProperties.to_pydatetime is deprecated, in a future version this will return a Series containing python datetime objects instead of an ndarray. To retain the old behavior, call `np.array` on the result\n",
      "\n"
     ]
    },
    {
     "data": {
      "application/vnd.plotly.v1+json": {
       "config": {
        "plotlyServerURL": "https://plot.ly"
       },
       "data": [
        {
         "marker": {
          "color": "black",
          "size": 4
         },
         "mode": "markers",
         "name": "Actual",
         "type": "scatter",
         "x": [
          "2018-04-30T00:00:00",
          "2018-05-31T00:00:00",
          "2018-06-30T00:00:00",
          "2018-07-31T00:00:00",
          "2018-08-31T00:00:00",
          "2018-09-30T00:00:00",
          "2018-10-31T00:00:00",
          "2018-11-30T00:00:00",
          "2018-12-31T00:00:00",
          "2019-01-31T00:00:00",
          "2019-02-28T00:00:00",
          "2019-03-31T00:00:00",
          "2019-04-30T00:00:00",
          "2019-05-31T00:00:00",
          "2019-06-30T00:00:00",
          "2019-07-31T00:00:00",
          "2019-08-31T00:00:00",
          "2019-09-30T00:00:00",
          "2019-10-31T00:00:00",
          "2019-11-30T00:00:00",
          "2019-12-31T00:00:00",
          "2020-01-31T00:00:00",
          "2020-02-29T00:00:00",
          "2020-03-31T00:00:00",
          "2020-04-30T00:00:00",
          "2020-05-31T00:00:00",
          "2020-06-30T00:00:00",
          "2020-07-31T00:00:00",
          "2020-08-31T00:00:00",
          "2020-09-30T00:00:00",
          "2020-10-31T00:00:00",
          "2020-11-30T00:00:00",
          "2020-12-31T00:00:00",
          "2021-01-31T00:00:00",
          "2021-02-28T00:00:00",
          "2021-03-31T00:00:00",
          "2021-04-30T00:00:00",
          "2021-05-31T00:00:00",
          "2021-06-30T00:00:00",
          "2021-07-31T00:00:00",
          "2021-08-31T00:00:00",
          "2021-09-30T00:00:00",
          "2021-10-31T00:00:00",
          "2021-11-30T00:00:00",
          "2021-12-31T00:00:00",
          "2022-01-31T00:00:00",
          "2022-02-28T00:00:00",
          "2022-03-31T00:00:00",
          "2022-04-30T00:00:00",
          "2022-05-31T00:00:00",
          "2022-06-30T00:00:00",
          "2022-07-31T00:00:00",
          "2022-08-31T00:00:00",
          "2022-09-30T00:00:00",
          "2022-10-31T00:00:00",
          "2022-11-30T00:00:00",
          "2022-12-31T00:00:00",
          "2023-01-31T00:00:00",
          "2023-02-28T00:00:00",
          "2023-03-31T00:00:00",
          "2023-04-30T00:00:00",
          "2023-05-31T00:00:00",
          "2023-06-30T00:00:00",
          "2023-07-31T00:00:00",
          "2023-08-31T00:00:00",
          "2023-09-30T00:00:00",
          "2023-10-31T00:00:00",
          "2023-11-30T00:00:00"
         ],
         "y": [
          1168.0877419354838,
          8354.308817204303,
          15540.529892473118,
          22726.750967741937,
          17804.531612903225,
          17264.277333333335,
          12401.36258064516,
          9751.317333333334,
          20616.89737634409,
          64658,
          58421.71428571429,
          15852,
          7445.326451612904,
          0,
          7946.333333333333,
          77322.00000000001,
          92265,
          54557.933333333334,
          48850,
          60561.600000000006,
          33026,
          64658,
          58421.71428571429,
          15852,
          0,
          0,
          7946.333333333333,
          77322.00000000001,
          92265,
          54557.933333333334,
          48850,
          60561.600000000006,
          33026,
          79903,
          58893.357142857145,
          64247,
          35566.3,
          18704.44148148148,
          15709.953185185186,
          12715.46488888889,
          9720.976592592593,
          6726.488296296297,
          3732,
          4268,
          4888,
          3206.8119689879377,
          3322.1819440948684,
          3341.5737392015403,
          4075.6805716945482,
          4246.727675890384,
          4286.617482116778,
          4272.28740911613,
          4211.570024435516,
          3970.540108036373,
          4161.178478228429,
          4301.179607796214,
          4239.9269542999145,
          4045.948903835126,
          4095.3904764992576,
          4146.484587907085,
          3907.167628981842,
          4044.250760255155,
          4223.413434321079,
          3652.2909639974223,
          3810.1845235704736,
          3809.4368753315193,
          3808.687473536486,
          3807.9363146040437
         ]
        },
        {
         "hoverinfo": "skip",
         "line": {
          "width": 0
         },
         "mode": "lines",
         "type": "scatter",
         "x": [
          "2018-04-30T00:00:00",
          "2018-05-31T00:00:00",
          "2018-06-30T00:00:00",
          "2018-07-31T00:00:00",
          "2018-08-31T00:00:00",
          "2018-09-30T00:00:00",
          "2018-10-31T00:00:00",
          "2018-11-30T00:00:00",
          "2018-12-31T00:00:00",
          "2019-01-31T00:00:00",
          "2019-02-28T00:00:00",
          "2019-03-31T00:00:00",
          "2019-04-30T00:00:00",
          "2019-05-31T00:00:00",
          "2019-06-30T00:00:00",
          "2019-07-31T00:00:00",
          "2019-08-31T00:00:00",
          "2019-09-30T00:00:00",
          "2019-10-31T00:00:00",
          "2019-11-30T00:00:00",
          "2019-12-31T00:00:00",
          "2020-01-31T00:00:00",
          "2020-02-29T00:00:00",
          "2020-03-31T00:00:00",
          "2020-04-30T00:00:00",
          "2020-05-31T00:00:00",
          "2020-06-30T00:00:00",
          "2020-07-31T00:00:00",
          "2020-08-31T00:00:00",
          "2020-09-30T00:00:00",
          "2020-10-31T00:00:00",
          "2020-11-30T00:00:00",
          "2020-12-31T00:00:00",
          "2021-01-31T00:00:00",
          "2021-02-28T00:00:00",
          "2021-03-31T00:00:00",
          "2021-04-30T00:00:00",
          "2021-05-31T00:00:00",
          "2021-06-30T00:00:00",
          "2021-07-31T00:00:00",
          "2021-08-31T00:00:00",
          "2021-09-30T00:00:00",
          "2021-10-31T00:00:00",
          "2021-11-30T00:00:00",
          "2021-12-31T00:00:00",
          "2022-01-31T00:00:00",
          "2022-02-28T00:00:00",
          "2022-03-31T00:00:00",
          "2022-04-30T00:00:00",
          "2022-05-31T00:00:00",
          "2022-06-30T00:00:00",
          "2022-07-31T00:00:00",
          "2022-08-31T00:00:00",
          "2022-09-30T00:00:00",
          "2022-10-31T00:00:00",
          "2022-11-30T00:00:00",
          "2022-12-31T00:00:00",
          "2023-01-31T00:00:00",
          "2023-02-28T00:00:00",
          "2023-03-31T00:00:00",
          "2023-04-30T00:00:00",
          "2023-05-31T00:00:00",
          "2023-06-30T00:00:00",
          "2023-07-31T00:00:00",
          "2023-08-31T00:00:00",
          "2023-09-30T00:00:00",
          "2023-10-31T00:00:00",
          "2023-11-30T00:00:00",
          "2023-12-01T00:00:00"
         ],
         "y": [
          -2355.3585277697575,
          -3452.794851271899,
          -627.1515952666799,
          21325.023928813283,
          25551.136851673567,
          14647.378706883674,
          9550.35355621673,
          12351.349186879384,
          7071.229402178913,
          30560.173629847486,
          15650.633082437593,
          3191.237899819861,
          -6147.176565508109,
          -5126.918555400982,
          -7749.578429053997,
          11618.463166148122,
          17362.26782517805,
          7887.849989261387,
          5585.803183482618,
          7481.921463914605,
          4815.048298134585,
          25485.492092116227,
          25153.54608591803,
          4874.333132412665,
          -20245.833869628466,
          -23330.03035686588,
          -21409.00821908849,
          15716.72825432827,
          22187.90657426523,
          -502.8343179602312,
          -6591.485239150727,
          233.75839023050756,
          -12737.67148077036,
          12834.359600263038,
          12400.413536296526,
          -3571.1475687533734,
          -21634.927847076746,
          -26951.433041699416,
          -22458.714361432907,
          3800.038995074632,
          9237.115096654545,
          -7704.015469630716,
          -9782.739528515847,
          -8645.18646634146,
          -16839.479728275062,
          11248.373550048924,
          1240.0170282960814,
          -13939.860144564556,
          -28593.525733239807,
          -28669.996183487572,
          -25975.53805020093,
          -2102.636655769587,
          -598.4866606859313,
          -14085.756544380949,
          -14999.87508239464,
          -12971.935718770543,
          -16624.822724063204,
          3525.6759619274717,
          -8326.400434279698,
          -24715.836943509818,
          -32802.82604780832,
          -32032.631168252068,
          -30389.335020248916,
          -11950.716914228444,
          -10901.848276071969,
          -19802.8992053076,
          -20964.526158088578,
          -19113.961477161516,
          -19929.30365443024
         ]
        },
        {
         "fill": "tonexty",
         "fillcolor": "rgba(0, 114, 178, 0.2)",
         "line": {
          "color": "#0072B2",
          "width": 2
         },
         "mode": "lines",
         "name": "Predicted",
         "type": "scatter",
         "x": [
          "2018-04-30T00:00:00",
          "2018-05-31T00:00:00",
          "2018-06-30T00:00:00",
          "2018-07-31T00:00:00",
          "2018-08-31T00:00:00",
          "2018-09-30T00:00:00",
          "2018-10-31T00:00:00",
          "2018-11-30T00:00:00",
          "2018-12-31T00:00:00",
          "2019-01-31T00:00:00",
          "2019-02-28T00:00:00",
          "2019-03-31T00:00:00",
          "2019-04-30T00:00:00",
          "2019-05-31T00:00:00",
          "2019-06-30T00:00:00",
          "2019-07-31T00:00:00",
          "2019-08-31T00:00:00",
          "2019-09-30T00:00:00",
          "2019-10-31T00:00:00",
          "2019-11-30T00:00:00",
          "2019-12-31T00:00:00",
          "2020-01-31T00:00:00",
          "2020-02-29T00:00:00",
          "2020-03-31T00:00:00",
          "2020-04-30T00:00:00",
          "2020-05-31T00:00:00",
          "2020-06-30T00:00:00",
          "2020-07-31T00:00:00",
          "2020-08-31T00:00:00",
          "2020-09-30T00:00:00",
          "2020-10-31T00:00:00",
          "2020-11-30T00:00:00",
          "2020-12-31T00:00:00",
          "2021-01-31T00:00:00",
          "2021-02-28T00:00:00",
          "2021-03-31T00:00:00",
          "2021-04-30T00:00:00",
          "2021-05-31T00:00:00",
          "2021-06-30T00:00:00",
          "2021-07-31T00:00:00",
          "2021-08-31T00:00:00",
          "2021-09-30T00:00:00",
          "2021-10-31T00:00:00",
          "2021-11-30T00:00:00",
          "2021-12-31T00:00:00",
          "2022-01-31T00:00:00",
          "2022-02-28T00:00:00",
          "2022-03-31T00:00:00",
          "2022-04-30T00:00:00",
          "2022-05-31T00:00:00",
          "2022-06-30T00:00:00",
          "2022-07-31T00:00:00",
          "2022-08-31T00:00:00",
          "2022-09-30T00:00:00",
          "2022-10-31T00:00:00",
          "2022-11-30T00:00:00",
          "2022-12-31T00:00:00",
          "2023-01-31T00:00:00",
          "2023-02-28T00:00:00",
          "2023-03-31T00:00:00",
          "2023-04-30T00:00:00",
          "2023-05-31T00:00:00",
          "2023-06-30T00:00:00",
          "2023-07-31T00:00:00",
          "2023-08-31T00:00:00",
          "2023-09-30T00:00:00",
          "2023-10-31T00:00:00",
          "2023-11-30T00:00:00",
          "2023-12-01T00:00:00"
         ],
         "y": [
          25704.559240416715,
          23078.820124987476,
          26479.728749781978,
          49163.57681347519,
          52664.99559150772,
          40166.5575466658,
          37167.407065089996,
          40566.78304398603,
          33670.19045118643,
          57197.75077316741,
          44378.85290622377,
          31167.43364967219,
          21590.237046505383,
          19639.102285208824,
          22569.29080024828,
          39036.666979414345,
          42128.55261334776,
          34046.461098521584,
          31944.38745680097,
          34177.6568019323,
          29937.81045620761,
          51766.57493910168,
          51674.70849676002,
          31750.534986096503,
          7630.0609887575665,
          3345.8779562659074,
          7283.803731125212,
          42390.00980662317,
          47173.6697510762,
          26051.83175700762,
          21094.316260946696,
          26765.55222847361,
          14442.659940211372,
          41038.231159366595,
          40394.851996108344,
          22557.77487207726,
          3283.1670172604427,
          -121.10054159560605,
          3616.308640145351,
          32515.56531888571,
          36581.3984029142,
          19734.529490779572,
          15782.729314528115,
          20328.016958123528,
          10736.228453834297,
          35853.52481176777,
          29076.52170249108,
          13477.875444070003,
          -946.5590111177116,
          -3572.377469780824,
          -171.5456287381785,
          22512.223091270593,
          26013.562525234353,
          13515.047695262072,
          10515.817868665205,
          13915.117061601148,
          7018.445123302575,
          30545.92609946533,
          17726.956565313856,
          4515.457962911171,
          -5061.815426662059,
          -7013.029533995012,
          -4082.917805311372,
          12384.37902791052,
          15476.185315846662,
          7394.01701465121,
          5291.864126436316,
          7525.05678142281,
          6576.207010127982
         ]
        },
        {
         "fill": "tonexty",
         "fillcolor": "rgba(0, 114, 178, 0.2)",
         "hoverinfo": "skip",
         "line": {
          "width": 0
         },
         "mode": "lines",
         "type": "scatter",
         "x": [
          "2018-04-30T00:00:00",
          "2018-05-31T00:00:00",
          "2018-06-30T00:00:00",
          "2018-07-31T00:00:00",
          "2018-08-31T00:00:00",
          "2018-09-30T00:00:00",
          "2018-10-31T00:00:00",
          "2018-11-30T00:00:00",
          "2018-12-31T00:00:00",
          "2019-01-31T00:00:00",
          "2019-02-28T00:00:00",
          "2019-03-31T00:00:00",
          "2019-04-30T00:00:00",
          "2019-05-31T00:00:00",
          "2019-06-30T00:00:00",
          "2019-07-31T00:00:00",
          "2019-08-31T00:00:00",
          "2019-09-30T00:00:00",
          "2019-10-31T00:00:00",
          "2019-11-30T00:00:00",
          "2019-12-31T00:00:00",
          "2020-01-31T00:00:00",
          "2020-02-29T00:00:00",
          "2020-03-31T00:00:00",
          "2020-04-30T00:00:00",
          "2020-05-31T00:00:00",
          "2020-06-30T00:00:00",
          "2020-07-31T00:00:00",
          "2020-08-31T00:00:00",
          "2020-09-30T00:00:00",
          "2020-10-31T00:00:00",
          "2020-11-30T00:00:00",
          "2020-12-31T00:00:00",
          "2021-01-31T00:00:00",
          "2021-02-28T00:00:00",
          "2021-03-31T00:00:00",
          "2021-04-30T00:00:00",
          "2021-05-31T00:00:00",
          "2021-06-30T00:00:00",
          "2021-07-31T00:00:00",
          "2021-08-31T00:00:00",
          "2021-09-30T00:00:00",
          "2021-10-31T00:00:00",
          "2021-11-30T00:00:00",
          "2021-12-31T00:00:00",
          "2022-01-31T00:00:00",
          "2022-02-28T00:00:00",
          "2022-03-31T00:00:00",
          "2022-04-30T00:00:00",
          "2022-05-31T00:00:00",
          "2022-06-30T00:00:00",
          "2022-07-31T00:00:00",
          "2022-08-31T00:00:00",
          "2022-09-30T00:00:00",
          "2022-10-31T00:00:00",
          "2022-11-30T00:00:00",
          "2022-12-31T00:00:00",
          "2023-01-31T00:00:00",
          "2023-02-28T00:00:00",
          "2023-03-31T00:00:00",
          "2023-04-30T00:00:00",
          "2023-05-31T00:00:00",
          "2023-06-30T00:00:00",
          "2023-07-31T00:00:00",
          "2023-08-31T00:00:00",
          "2023-09-30T00:00:00",
          "2023-10-31T00:00:00",
          "2023-11-30T00:00:00",
          "2023-12-01T00:00:00"
         ],
         "y": [
          53116.320536808744,
          50273.980105140596,
          51819.8808338413,
          78252.79060861726,
          78288.63298557996,
          66747.99074420596,
          62699.68941626487,
          67350.04749608145,
          61398.846183326146,
          84568.23322123002,
          70921.09098526525,
          57858.95909601099,
          47355.76776555872,
          45822.2409071687,
          49642.27824059661,
          63621.60546379921,
          67985.61643545108,
          62059.045103598924,
          59812.44576895103,
          59452.356665740226,
          57394.80107634413,
          78022.75852481344,
          76448.81051967152,
          58289.008756573065,
          35519.94637333077,
          29096.308474073427,
          34644.22730468864,
          68120.77303058477,
          73701.80360903087,
          55366.7725753059,
          47204.37192225347,
          53534.49962609513,
          40311.798700315885,
          66982.35493802809,
          65665.82464809515,
          49776.976026785225,
          30566.015759809132,
          26463.745007133683,
          30422.263161711282,
          59577.60206498205,
          63511.880747711075,
          45532.89720602379,
          40719.47735172638,
          48845.78620224316,
          36295.26005931271,
          62938.95379558135,
          57698.97746316142,
          38485.644731985645,
          23935.056989569282,
          24994.811381964748,
          26253.511401281707,
          47035.91559540636,
          52968.14574704528,
          41328.72120220058,
          36006.595261856244,
          39611.43818552802,
          35328.894344474626,
          57626.4302088335,
          45318.01720737256,
          30677.70327575533,
          21642.516493265524,
          21959.192533958678,
          23191.15968848161,
          38365.90124788837,
          42206.75726537921,
          33817.31078778003,
          33540.32931475585,
          34111.674856068814,
          32836.18685987655
         ]
        }
       ],
       "layout": {
        "height": 600,
        "showlegend": false,
        "template": {
         "data": {
          "bar": [
           {
            "error_x": {
             "color": "#2a3f5f"
            },
            "error_y": {
             "color": "#2a3f5f"
            },
            "marker": {
             "line": {
              "color": "#E5ECF6",
              "width": 0.5
             },
             "pattern": {
              "fillmode": "overlay",
              "size": 10,
              "solidity": 0.2
             }
            },
            "type": "bar"
           }
          ],
          "barpolar": [
           {
            "marker": {
             "line": {
              "color": "#E5ECF6",
              "width": 0.5
             },
             "pattern": {
              "fillmode": "overlay",
              "size": 10,
              "solidity": 0.2
             }
            },
            "type": "barpolar"
           }
          ],
          "carpet": [
           {
            "aaxis": {
             "endlinecolor": "#2a3f5f",
             "gridcolor": "white",
             "linecolor": "white",
             "minorgridcolor": "white",
             "startlinecolor": "#2a3f5f"
            },
            "baxis": {
             "endlinecolor": "#2a3f5f",
             "gridcolor": "white",
             "linecolor": "white",
             "minorgridcolor": "white",
             "startlinecolor": "#2a3f5f"
            },
            "type": "carpet"
           }
          ],
          "choropleth": [
           {
            "colorbar": {
             "outlinewidth": 0,
             "ticks": ""
            },
            "type": "choropleth"
           }
          ],
          "contour": [
           {
            "colorbar": {
             "outlinewidth": 0,
             "ticks": ""
            },
            "colorscale": [
             [
              0,
              "#0d0887"
             ],
             [
              0.1111111111111111,
              "#46039f"
             ],
             [
              0.2222222222222222,
              "#7201a8"
             ],
             [
              0.3333333333333333,
              "#9c179e"
             ],
             [
              0.4444444444444444,
              "#bd3786"
             ],
             [
              0.5555555555555556,
              "#d8576b"
             ],
             [
              0.6666666666666666,
              "#ed7953"
             ],
             [
              0.7777777777777778,
              "#fb9f3a"
             ],
             [
              0.8888888888888888,
              "#fdca26"
             ],
             [
              1,
              "#f0f921"
             ]
            ],
            "type": "contour"
           }
          ],
          "contourcarpet": [
           {
            "colorbar": {
             "outlinewidth": 0,
             "ticks": ""
            },
            "type": "contourcarpet"
           }
          ],
          "heatmap": [
           {
            "colorbar": {
             "outlinewidth": 0,
             "ticks": ""
            },
            "colorscale": [
             [
              0,
              "#0d0887"
             ],
             [
              0.1111111111111111,
              "#46039f"
             ],
             [
              0.2222222222222222,
              "#7201a8"
             ],
             [
              0.3333333333333333,
              "#9c179e"
             ],
             [
              0.4444444444444444,
              "#bd3786"
             ],
             [
              0.5555555555555556,
              "#d8576b"
             ],
             [
              0.6666666666666666,
              "#ed7953"
             ],
             [
              0.7777777777777778,
              "#fb9f3a"
             ],
             [
              0.8888888888888888,
              "#fdca26"
             ],
             [
              1,
              "#f0f921"
             ]
            ],
            "type": "heatmap"
           }
          ],
          "heatmapgl": [
           {
            "colorbar": {
             "outlinewidth": 0,
             "ticks": ""
            },
            "colorscale": [
             [
              0,
              "#0d0887"
             ],
             [
              0.1111111111111111,
              "#46039f"
             ],
             [
              0.2222222222222222,
              "#7201a8"
             ],
             [
              0.3333333333333333,
              "#9c179e"
             ],
             [
              0.4444444444444444,
              "#bd3786"
             ],
             [
              0.5555555555555556,
              "#d8576b"
             ],
             [
              0.6666666666666666,
              "#ed7953"
             ],
             [
              0.7777777777777778,
              "#fb9f3a"
             ],
             [
              0.8888888888888888,
              "#fdca26"
             ],
             [
              1,
              "#f0f921"
             ]
            ],
            "type": "heatmapgl"
           }
          ],
          "histogram": [
           {
            "marker": {
             "pattern": {
              "fillmode": "overlay",
              "size": 10,
              "solidity": 0.2
             }
            },
            "type": "histogram"
           }
          ],
          "histogram2d": [
           {
            "colorbar": {
             "outlinewidth": 0,
             "ticks": ""
            },
            "colorscale": [
             [
              0,
              "#0d0887"
             ],
             [
              0.1111111111111111,
              "#46039f"
             ],
             [
              0.2222222222222222,
              "#7201a8"
             ],
             [
              0.3333333333333333,
              "#9c179e"
             ],
             [
              0.4444444444444444,
              "#bd3786"
             ],
             [
              0.5555555555555556,
              "#d8576b"
             ],
             [
              0.6666666666666666,
              "#ed7953"
             ],
             [
              0.7777777777777778,
              "#fb9f3a"
             ],
             [
              0.8888888888888888,
              "#fdca26"
             ],
             [
              1,
              "#f0f921"
             ]
            ],
            "type": "histogram2d"
           }
          ],
          "histogram2dcontour": [
           {
            "colorbar": {
             "outlinewidth": 0,
             "ticks": ""
            },
            "colorscale": [
             [
              0,
              "#0d0887"
             ],
             [
              0.1111111111111111,
              "#46039f"
             ],
             [
              0.2222222222222222,
              "#7201a8"
             ],
             [
              0.3333333333333333,
              "#9c179e"
             ],
             [
              0.4444444444444444,
              "#bd3786"
             ],
             [
              0.5555555555555556,
              "#d8576b"
             ],
             [
              0.6666666666666666,
              "#ed7953"
             ],
             [
              0.7777777777777778,
              "#fb9f3a"
             ],
             [
              0.8888888888888888,
              "#fdca26"
             ],
             [
              1,
              "#f0f921"
             ]
            ],
            "type": "histogram2dcontour"
           }
          ],
          "mesh3d": [
           {
            "colorbar": {
             "outlinewidth": 0,
             "ticks": ""
            },
            "type": "mesh3d"
           }
          ],
          "parcoords": [
           {
            "line": {
             "colorbar": {
              "outlinewidth": 0,
              "ticks": ""
             }
            },
            "type": "parcoords"
           }
          ],
          "pie": [
           {
            "automargin": true,
            "type": "pie"
           }
          ],
          "scatter": [
           {
            "fillpattern": {
             "fillmode": "overlay",
             "size": 10,
             "solidity": 0.2
            },
            "type": "scatter"
           }
          ],
          "scatter3d": [
           {
            "line": {
             "colorbar": {
              "outlinewidth": 0,
              "ticks": ""
             }
            },
            "marker": {
             "colorbar": {
              "outlinewidth": 0,
              "ticks": ""
             }
            },
            "type": "scatter3d"
           }
          ],
          "scattercarpet": [
           {
            "marker": {
             "colorbar": {
              "outlinewidth": 0,
              "ticks": ""
             }
            },
            "type": "scattercarpet"
           }
          ],
          "scattergeo": [
           {
            "marker": {
             "colorbar": {
              "outlinewidth": 0,
              "ticks": ""
             }
            },
            "type": "scattergeo"
           }
          ],
          "scattergl": [
           {
            "marker": {
             "colorbar": {
              "outlinewidth": 0,
              "ticks": ""
             }
            },
            "type": "scattergl"
           }
          ],
          "scattermapbox": [
           {
            "marker": {
             "colorbar": {
              "outlinewidth": 0,
              "ticks": ""
             }
            },
            "type": "scattermapbox"
           }
          ],
          "scatterpolar": [
           {
            "marker": {
             "colorbar": {
              "outlinewidth": 0,
              "ticks": ""
             }
            },
            "type": "scatterpolar"
           }
          ],
          "scatterpolargl": [
           {
            "marker": {
             "colorbar": {
              "outlinewidth": 0,
              "ticks": ""
             }
            },
            "type": "scatterpolargl"
           }
          ],
          "scatterternary": [
           {
            "marker": {
             "colorbar": {
              "outlinewidth": 0,
              "ticks": ""
             }
            },
            "type": "scatterternary"
           }
          ],
          "surface": [
           {
            "colorbar": {
             "outlinewidth": 0,
             "ticks": ""
            },
            "colorscale": [
             [
              0,
              "#0d0887"
             ],
             [
              0.1111111111111111,
              "#46039f"
             ],
             [
              0.2222222222222222,
              "#7201a8"
             ],
             [
              0.3333333333333333,
              "#9c179e"
             ],
             [
              0.4444444444444444,
              "#bd3786"
             ],
             [
              0.5555555555555556,
              "#d8576b"
             ],
             [
              0.6666666666666666,
              "#ed7953"
             ],
             [
              0.7777777777777778,
              "#fb9f3a"
             ],
             [
              0.8888888888888888,
              "#fdca26"
             ],
             [
              1,
              "#f0f921"
             ]
            ],
            "type": "surface"
           }
          ],
          "table": [
           {
            "cells": {
             "fill": {
              "color": "#EBF0F8"
             },
             "line": {
              "color": "white"
             }
            },
            "header": {
             "fill": {
              "color": "#C8D4E3"
             },
             "line": {
              "color": "white"
             }
            },
            "type": "table"
           }
          ]
         },
         "layout": {
          "annotationdefaults": {
           "arrowcolor": "#2a3f5f",
           "arrowhead": 0,
           "arrowwidth": 1
          },
          "autotypenumbers": "strict",
          "coloraxis": {
           "colorbar": {
            "outlinewidth": 0,
            "ticks": ""
           }
          },
          "colorscale": {
           "diverging": [
            [
             0,
             "#8e0152"
            ],
            [
             0.1,
             "#c51b7d"
            ],
            [
             0.2,
             "#de77ae"
            ],
            [
             0.3,
             "#f1b6da"
            ],
            [
             0.4,
             "#fde0ef"
            ],
            [
             0.5,
             "#f7f7f7"
            ],
            [
             0.6,
             "#e6f5d0"
            ],
            [
             0.7,
             "#b8e186"
            ],
            [
             0.8,
             "#7fbc41"
            ],
            [
             0.9,
             "#4d9221"
            ],
            [
             1,
             "#276419"
            ]
           ],
           "sequential": [
            [
             0,
             "#0d0887"
            ],
            [
             0.1111111111111111,
             "#46039f"
            ],
            [
             0.2222222222222222,
             "#7201a8"
            ],
            [
             0.3333333333333333,
             "#9c179e"
            ],
            [
             0.4444444444444444,
             "#bd3786"
            ],
            [
             0.5555555555555556,
             "#d8576b"
            ],
            [
             0.6666666666666666,
             "#ed7953"
            ],
            [
             0.7777777777777778,
             "#fb9f3a"
            ],
            [
             0.8888888888888888,
             "#fdca26"
            ],
            [
             1,
             "#f0f921"
            ]
           ],
           "sequentialminus": [
            [
             0,
             "#0d0887"
            ],
            [
             0.1111111111111111,
             "#46039f"
            ],
            [
             0.2222222222222222,
             "#7201a8"
            ],
            [
             0.3333333333333333,
             "#9c179e"
            ],
            [
             0.4444444444444444,
             "#bd3786"
            ],
            [
             0.5555555555555556,
             "#d8576b"
            ],
            [
             0.6666666666666666,
             "#ed7953"
            ],
            [
             0.7777777777777778,
             "#fb9f3a"
            ],
            [
             0.8888888888888888,
             "#fdca26"
            ],
            [
             1,
             "#f0f921"
            ]
           ]
          },
          "colorway": [
           "#636efa",
           "#EF553B",
           "#00cc96",
           "#ab63fa",
           "#FFA15A",
           "#19d3f3",
           "#FF6692",
           "#B6E880",
           "#FF97FF",
           "#FECB52"
          ],
          "font": {
           "color": "#2a3f5f"
          },
          "geo": {
           "bgcolor": "white",
           "lakecolor": "white",
           "landcolor": "#E5ECF6",
           "showlakes": true,
           "showland": true,
           "subunitcolor": "white"
          },
          "hoverlabel": {
           "align": "left"
          },
          "hovermode": "closest",
          "mapbox": {
           "style": "light"
          },
          "paper_bgcolor": "white",
          "plot_bgcolor": "#E5ECF6",
          "polar": {
           "angularaxis": {
            "gridcolor": "white",
            "linecolor": "white",
            "ticks": ""
           },
           "bgcolor": "#E5ECF6",
           "radialaxis": {
            "gridcolor": "white",
            "linecolor": "white",
            "ticks": ""
           }
          },
          "scene": {
           "xaxis": {
            "backgroundcolor": "#E5ECF6",
            "gridcolor": "white",
            "gridwidth": 2,
            "linecolor": "white",
            "showbackground": true,
            "ticks": "",
            "zerolinecolor": "white"
           },
           "yaxis": {
            "backgroundcolor": "#E5ECF6",
            "gridcolor": "white",
            "gridwidth": 2,
            "linecolor": "white",
            "showbackground": true,
            "ticks": "",
            "zerolinecolor": "white"
           },
           "zaxis": {
            "backgroundcolor": "#E5ECF6",
            "gridcolor": "white",
            "gridwidth": 2,
            "linecolor": "white",
            "showbackground": true,
            "ticks": "",
            "zerolinecolor": "white"
           }
          },
          "shapedefaults": {
           "line": {
            "color": "#2a3f5f"
           }
          },
          "ternary": {
           "aaxis": {
            "gridcolor": "white",
            "linecolor": "white",
            "ticks": ""
           },
           "baxis": {
            "gridcolor": "white",
            "linecolor": "white",
            "ticks": ""
           },
           "bgcolor": "#E5ECF6",
           "caxis": {
            "gridcolor": "white",
            "linecolor": "white",
            "ticks": ""
           }
          },
          "title": {
           "x": 0.05
          },
          "xaxis": {
           "automargin": true,
           "gridcolor": "white",
           "linecolor": "white",
           "ticks": "",
           "title": {
            "standoff": 15
           },
           "zerolinecolor": "white",
           "zerolinewidth": 2
          },
          "yaxis": {
           "automargin": true,
           "gridcolor": "white",
           "linecolor": "white",
           "ticks": "",
           "title": {
            "standoff": 15
           },
           "zerolinecolor": "white",
           "zerolinewidth": 2
          }
         }
        },
        "width": 900,
        "xaxis": {
         "rangeselector": {
          "buttons": [
           {
            "count": 7,
            "label": "1w",
            "step": "day",
            "stepmode": "backward"
           },
           {
            "count": 1,
            "label": "1m",
            "step": "month",
            "stepmode": "backward"
           },
           {
            "count": 6,
            "label": "6m",
            "step": "month",
            "stepmode": "backward"
           },
           {
            "count": 1,
            "label": "1y",
            "step": "year",
            "stepmode": "backward"
           },
           {
            "step": "all"
           }
          ]
         },
         "rangeslider": {
          "visible": true
         },
         "title": {
          "text": "ds"
         },
         "type": "date"
        },
        "yaxis": {
         "title": {
          "text": "y"
         }
        }
       }
      }
     },
     "metadata": {},
     "output_type": "display_data"
    }
   ],
   "source": [
    "from prophet.plot import plot_plotly\n",
    "import pandas as pd\n",
    "from prophet import Prophet\n",
    "\n",
    "\n",
    "def prophet_forecast_model(df: pd.DataFrame, key):\n",
    "    tmp = df[[key, \"Sales_Period\"]].copy()\n",
    "    tmp = tmp.set_index(\"Sales_Period\")\n",
    "    tmp = tmp.reset_index()[[\"Sales_Period\", key]].rename(\n",
    "        columns={\"Sales_Period\": \"ds\", key: \"y\"}\n",
    "    )\n",
    "    model = Prophet(\n",
    "        # seasonality_mode=\"multiplicative\",\n",
    "        # weekly_seasonality=True,\n",
    "        # yearly_seasonality=25,\n",
    "        # seasonality_prior_scale=30,\n",
    "    )\n",
    "    return model.fit(tmp)\n",
    "\n",
    "\n",
    "def get_prediction(model: Prophet, number_of_months):\n",
    "    future_dates = model.make_future_dataframe(periods=number_of_months, freq=\"MS\")\n",
    "    predictions = model.predict(future_dates)\n",
    "    return predictions\n",
    "\n",
    "\n",
    "model = prophet_forecast_model(tmp, \"Monthly_Sales\")\n",
    "forecast = get_prediction(model, 1)\n",
    "plot_plotly(model, forecast)"
   ]
  }
 ],
 "metadata": {
  "kernelspec": {
   "display_name": "Python 3",
   "language": "python",
   "name": "python3"
  },
  "language_info": {
   "codemirror_mode": {
    "name": "ipython",
    "version": 3
   },
   "file_extension": ".py",
   "mimetype": "text/x-python",
   "name": "python",
   "nbconvert_exporter": "python",
   "pygments_lexer": "ipython3",
   "version": "3.10.12"
  }
 },
 "nbformat": 4,
 "nbformat_minor": 2
}
