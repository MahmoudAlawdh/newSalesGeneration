{
 "cells": [
  {
   "cell_type": "code",
   "execution_count": 1,
   "metadata": {},
   "outputs": [
    {
     "name": "stderr",
     "output_type": "stream",
     "text": [
      "/home/rageq8/.local/lib/python3.10/site-packages/tqdm/auto.py:21: TqdmWarning: IProgress not found. Please update jupyter and ipywidgets. See https://ipywidgets.readthedocs.io/en/stable/user_install.html\n",
      "  from .autonotebook import tqdm as notebook_tqdm\n"
     ]
    }
   ],
   "source": [
    "import pandas as pd\n",
    "from prophet import Prophet\n",
    "from prophet.plot import plot_plotly, plot_components_plotly\n",
    "import random"
   ]
  },
  {
   "cell_type": "code",
   "execution_count": 2,
   "metadata": {},
   "outputs": [],
   "source": [
    "ddf = pd.read_excel('./Generated Sales 29.12.2023.xlsx')"
   ]
  },
  {
   "cell_type": "code",
   "execution_count": 5,
   "metadata": {},
   "outputs": [
    {
     "ename": "KeyError",
     "evalue": "'Weekend Store Sales'",
     "output_type": "error",
     "traceback": [
      "\u001b[0;31m---------------------------------------------------------------------------\u001b[0m",
      "\u001b[0;31mKeyError\u001b[0m                                  Traceback (most recent call last)",
      "Cell \u001b[0;32mIn[5], line 11\u001b[0m\n\u001b[1;32m      4\u001b[0m keys \u001b[38;5;241m=\u001b[39m [\n\u001b[1;32m      5\u001b[0m         \u001b[38;5;124m\"\u001b[39m\u001b[38;5;124mWeekend Delivery Sales\u001b[39m\u001b[38;5;124m\"\u001b[39m,\n\u001b[1;32m      6\u001b[0m         \u001b[38;5;124m\"\u001b[39m\u001b[38;5;124mWeekend Store Sales\u001b[39m\u001b[38;5;124m\"\u001b[39m,\n\u001b[1;32m      7\u001b[0m         \u001b[38;5;124m\"\u001b[39m\u001b[38;5;124mWeekday Delivery Sales\u001b[39m\u001b[38;5;124m\"\u001b[39m,\n\u001b[1;32m      8\u001b[0m         \u001b[38;5;124m\"\u001b[39m\u001b[38;5;124mWeekday Store Sales\u001b[39m\u001b[38;5;124m\"\u001b[39m,\n\u001b[1;32m      9\u001b[0m     ]\n\u001b[1;32m     10\u001b[0m df \u001b[38;5;241m=\u001b[39m df[keys[\u001b[38;5;241m0\u001b[39m]]\u001b[38;5;241m.\u001b[39mfillna(\u001b[38;5;241m0\u001b[39m)\n\u001b[0;32m---> 11\u001b[0m df \u001b[38;5;241m=\u001b[39m \u001b[43mdf\u001b[49m\u001b[43m[\u001b[49m\u001b[43mkeys\u001b[49m\u001b[43m[\u001b[49m\u001b[38;5;241;43m1\u001b[39;49m\u001b[43m]\u001b[49m\u001b[43m]\u001b[49m\u001b[38;5;241m.\u001b[39mfillna(\u001b[38;5;241m0\u001b[39m)\n\u001b[1;32m     12\u001b[0m df \u001b[38;5;241m=\u001b[39m df[keys[\u001b[38;5;241m2\u001b[39m]]\u001b[38;5;241m.\u001b[39mfillna(\u001b[38;5;241m0\u001b[39m)\n\u001b[1;32m     13\u001b[0m df \u001b[38;5;241m=\u001b[39m df[keys[\u001b[38;5;241m3\u001b[39m]]\u001b[38;5;241m.\u001b[39mfillna(\u001b[38;5;241m0\u001b[39m)\n",
      "File \u001b[0;32m~/.local/lib/python3.10/site-packages/pandas/core/series.py:1040\u001b[0m, in \u001b[0;36mSeries.__getitem__\u001b[0;34m(self, key)\u001b[0m\n\u001b[1;32m   1037\u001b[0m     \u001b[38;5;28;01mreturn\u001b[39;00m \u001b[38;5;28mself\u001b[39m\u001b[38;5;241m.\u001b[39m_values[key]\n\u001b[1;32m   1039\u001b[0m \u001b[38;5;28;01melif\u001b[39;00m key_is_scalar:\n\u001b[0;32m-> 1040\u001b[0m     \u001b[38;5;28;01mreturn\u001b[39;00m \u001b[38;5;28;43mself\u001b[39;49m\u001b[38;5;241;43m.\u001b[39;49m\u001b[43m_get_value\u001b[49m\u001b[43m(\u001b[49m\u001b[43mkey\u001b[49m\u001b[43m)\u001b[49m\n\u001b[1;32m   1042\u001b[0m \u001b[38;5;66;03m# Convert generator to list before going through hashable part\u001b[39;00m\n\u001b[1;32m   1043\u001b[0m \u001b[38;5;66;03m# (We will iterate through the generator there to check for slices)\u001b[39;00m\n\u001b[1;32m   1044\u001b[0m \u001b[38;5;28;01mif\u001b[39;00m is_iterator(key):\n",
      "File \u001b[0;32m~/.local/lib/python3.10/site-packages/pandas/core/series.py:1156\u001b[0m, in \u001b[0;36mSeries._get_value\u001b[0;34m(self, label, takeable)\u001b[0m\n\u001b[1;32m   1153\u001b[0m     \u001b[38;5;28;01mreturn\u001b[39;00m \u001b[38;5;28mself\u001b[39m\u001b[38;5;241m.\u001b[39m_values[label]\n\u001b[1;32m   1155\u001b[0m \u001b[38;5;66;03m# Similar to Index.get_value, but we do not fall back to positional\u001b[39;00m\n\u001b[0;32m-> 1156\u001b[0m loc \u001b[38;5;241m=\u001b[39m \u001b[38;5;28;43mself\u001b[39;49m\u001b[38;5;241;43m.\u001b[39;49m\u001b[43mindex\u001b[49m\u001b[38;5;241;43m.\u001b[39;49m\u001b[43mget_loc\u001b[49m\u001b[43m(\u001b[49m\u001b[43mlabel\u001b[49m\u001b[43m)\u001b[49m\n\u001b[1;32m   1158\u001b[0m \u001b[38;5;28;01mif\u001b[39;00m is_integer(loc):\n\u001b[1;32m   1159\u001b[0m     \u001b[38;5;28;01mreturn\u001b[39;00m \u001b[38;5;28mself\u001b[39m\u001b[38;5;241m.\u001b[39m_values[loc]\n",
      "File \u001b[0;32m~/.local/lib/python3.10/site-packages/pandas/core/indexes/range.py:418\u001b[0m, in \u001b[0;36mRangeIndex.get_loc\u001b[0;34m(self, key)\u001b[0m\n\u001b[1;32m    416\u001b[0m         \u001b[38;5;28;01mraise\u001b[39;00m \u001b[38;5;167;01mKeyError\u001b[39;00m(key) \u001b[38;5;28;01mfrom\u001b[39;00m \u001b[38;5;21;01merr\u001b[39;00m\n\u001b[1;32m    417\u001b[0m \u001b[38;5;28;01mif\u001b[39;00m \u001b[38;5;28misinstance\u001b[39m(key, Hashable):\n\u001b[0;32m--> 418\u001b[0m     \u001b[38;5;28;01mraise\u001b[39;00m \u001b[38;5;167;01mKeyError\u001b[39;00m(key)\n\u001b[1;32m    419\u001b[0m \u001b[38;5;28mself\u001b[39m\u001b[38;5;241m.\u001b[39m_check_indexing_error(key)\n\u001b[1;32m    420\u001b[0m \u001b[38;5;28;01mraise\u001b[39;00m \u001b[38;5;167;01mKeyError\u001b[39;00m(key)\n",
      "\u001b[0;31mKeyError\u001b[0m: 'Weekend Store Sales'"
     ]
    }
   ],
   "source": [
    "df = ddf.copy()\n",
    "df['Sales Period'] = pd.to_datetime(df[['YEAR', 'MONTH']].assign(day=1))\n",
    "\n",
    "keys = [\n",
    "        \"Weekend Delivery Sales\",\n",
    "        \"Weekend Store Sales\",\n",
    "        \"Weekday Delivery Sales\",\n",
    "        \"Weekday Store Sales\",\n",
    "    ]\n",
    "df = df[keys[0]].fillna(0)\n",
    "df = df[keys[1]].fillna(0)\n",
    "df = df[keys[2]].fillna(0)\n",
    "df = df[keys[3]].fillna(0)\n",
    "\n",
    "df = df.astype({\n",
    "        keys[0]:'int64',\n",
    "        # keys[1]:'int64',\n",
    "        keys[2]:'int64',\n",
    "        keys[3]:'int64',\n",
    "    })\n",
    "for j in keys :\n",
    "        df[j] = df[j].fillna(0)\n",
    "df[\"Weekday Total Sales\"] = df[\"Weekday Delivery Sales\"] + df[\"Weekday Store Sales\"]\n",
    "df[\"Weekend Total Sales\"] = df[\"Weekend Delivery Sales\"] + df[\"Weekend Store Sales\"]\n",
    "df[\"Monthly Store Sales\"] = (\n",
    "    df[\"Weekday Store Sales\"] * 20 + df[\"Weekend Store Sales\"] * 8\n",
    ")\n",
    "df[\"Monthly Delivery Sales\"] = (\n",
    "    df[\"Weekday Delivery Sales\"] * 20 + df[\"Weekend Delivery Sales\"] * 8\n",
    ")\n",
    "df[\"Monthly Sales\"] = df[\"Monthly Store Sales\"] + df[\"Monthly Delivery Sales\"]"
   ]
  },
  {
   "cell_type": "code",
   "execution_count": null,
   "metadata": {},
   "outputs": [],
   "source": [
    "def prophet_forecast_model(df: pd.DataFrame):\n",
    "    tmp = df[[\"Monthly Sales\", \"Sales Period\"]].copy()\n",
    "    tmp.dropna(inplace=True)\n",
    "    tmp = tmp.set_index(\"Sales Period\")\n",
    "    tmp = tmp.reset_index()[[\"Sales Period\", \"Monthly Sales\"]].rename(\n",
    "        columns={\"Sales Period\": \"ds\", \"Monthly Sales\": \"y\"}\n",
    "    )\n",
    "    model = Prophet(\n",
    "        seasonality_mode = 'multiplicative'\n",
    "        # yearly_seasonality=True,\n",
    "        )\n",
    "\n",
    "    return model.fit(tmp)\n",
    "\n",
    "\n",
    "def get_prediction(model: Prophet, number_of_months):\n",
    "    future_dates = model.make_future_dataframe(periods=number_of_months, freq=\"M\")\n",
    "    predictions = model.predict(future_dates)\n",
    "    return predictions\n",
    "\n"
   ]
  },
  {
   "cell_type": "code",
   "execution_count": null,
   "metadata": {},
   "outputs": [
    {
     "data": {
      "text/plain": [
       "Unnamed: 0                         int64\n",
       "RID                                int64\n",
       "MONTH                              int64\n",
       "YEAR                               int64\n",
       "Level 2 Area                      object\n",
       "Level 3 Area                      object\n",
       "Product Focus                     object\n",
       "Location Type                     object\n",
       "Store Opening Month                int64\n",
       "Store Opening Year                 int64\n",
       "Store Closing Month                int64\n",
       "Store Closing Year                 int64\n",
       "Weekday Store Sales               object\n",
       "Weekday Delivery Sales            object\n",
       "Weekend Store Sales               object\n",
       "Weekend Delivery Sales            object\n",
       "original                           int64\n",
       "Sales Period              datetime64[ns]\n",
       "Weekday Total Sales               object\n",
       "Weekend Total Sales               object\n",
       "Monthly Store Sales               object\n",
       "Monthly Delivery Sales            object\n",
       "Monthly Sales                     object\n",
       "dtype: object"
      ]
     },
     "metadata": {},
     "output_type": "display_data"
    },
    {
     "name": "stdout",
     "output_type": "stream",
     "text": [
      "hi\n"
     ]
    },
    {
     "ename": "ValueError",
     "evalue": "Unable to parse string \"1061    0.0\nName: Weekday Store Sales, dtype: float641061    0.0\nName: Weekday Store Sales, dtype: float641061    0.0\nName: Weekday Store Sales, dtype: float641061    0.0\nName: Weekday Store Sales, dtype: float641061    0.0\nName: Weekday Store Sales, dtype: float641061    0.0\nName: Weekday Store Sales, dtype: float641061    0.0\nName: Weekday Store Sales, dtype: float641061    0.0\nName: Weekday Store Sales, dtype: float641061    0.0\nName: Weekday Store Sales, dtype: float641061    0.0\nName: Weekday Store Sales, dtype: float641061    0.0\nName: Weekday Store Sales, dtype: float641061    0.0\nName: Weekday Store Sales, dtype: float641061    0.0\nName: Weekday Store Sales, dtype: float641061    0.0\nName: Weekday Store Sales, dtype: float641061    0.0\nName: Weekday Store Sales, dtype: float641061    0.0\nName: Weekday Store Sales, dtype: float641061    0.0\nName: Weekday Store Sales, dtype: float641061    0.0\nName: Weekday Store Sales, dtype: float641061    0.0\nName: Weekday Store Sales, dtype: float641061    0.0\nName: Weekday Store Sales, dtype: float641061    0.0\nName: Weekend Store Sales, dtype: float641061    0.0\nName: Weekend Store Sales, dtype: float641061    0.0\nName: Weekend Store Sales, dtype: float641061    0.0\nName: Weekend Store Sales, dtype: float641061    0.0\nName: Weekend Store Sales, dtype: float641061    0.0\nName: Weekend Store Sales, dtype: float641061    0.0\nName: Weekend Store Sales, dtype: float641061    0.0\nName: Weekend Store Sales, dtype: float641061    0.0\nName: Weekday Delivery Sales, dtype: float641061    0.0\nName: Weekday Delivery Sales, dtype: float641061    0.0\nName: Weekday Delivery Sales, dtype: float641061    0.0\nName: Weekday Delivery Sales, dtype: float641061    0.0\nName: Weekday Delivery Sales, dtype: float641061    0.0\nName: Weekday Delivery Sales, dtype: float641061    0.0\nName: Weekday Delivery Sales, dtype: float641061    0.0\nName: Weekday Delivery Sales, dtype: float641061    0.0\nName: Weekday Delivery Sales, dtype: float641061    0.0\nName: Weekday Delivery Sales, dtype: float641061    0.0\nName: Weekday Delivery Sales, dtype: float641061    0.0\nName: Weekday Delivery Sales, dtype: float641061    0.0\nName: Weekday Delivery Sales, dtype: float641061    0.0\nName: Weekday Delivery Sales, dtype: float641061    0.0\nName: Weekday Delivery Sales, dtype: float641061    0.0\nName: Weekday Delivery Sales, dtype: float641061    0.0\nName: Weekday Delivery Sales, dtype: float641061    0.0\nName: Weekday Delivery Sales, dtype: float641061    0.0\nName: Weekday Delivery Sales, dtype: float641061    0.0\nName: Weekday Delivery Sales, dtype: float641061    0.0\nName: Weekend Delivery Sales, dtype: float641061    0.0\nName: Weekend Delivery Sales, dtype: float641061    0.0\nName: Weekend Delivery Sales, dtype: float641061    0.0\nName: Weekend Delivery Sales, dtype: float641061    0.0\nName: Weekend Delivery Sales, dtype: float641061    0.0\nName: Weekend Delivery Sales, dtype: float641061    0.0\nName: Weekend Delivery Sales, dtype: float641061    0.0\nName: Weekend Delivery Sales, dtype: float64\" at position 97116",
     "output_type": "error",
     "traceback": [
      "\u001b[0;31m---------------------------------------------------------------------------\u001b[0m",
      "\u001b[0;31mValueError\u001b[0m                                Traceback (most recent call last)",
      "File \u001b[0;32mlib.pyx:2368\u001b[0m, in \u001b[0;36mpandas._libs.lib.maybe_convert_numeric\u001b[0;34m()\u001b[0m\n",
      "\u001b[0;31mValueError\u001b[0m: Unable to parse string \"1061    0.0\nName: Weekday Store Sales, dtype: float641061    0.0\nName: Weekday Store Sales, dtype: float641061    0.0\nName: Weekday Store Sales, dtype: float641061    0.0\nName: Weekday Store Sales, dtype: float641061    0.0\nName: Weekday Store Sales, dtype: float641061    0.0\nName: Weekday Store Sales, dtype: float641061    0.0\nName: Weekday Store Sales, dtype: float641061    0.0\nName: Weekday Store Sales, dtype: float641061    0.0\nName: Weekday Store Sales, dtype: float641061    0.0\nName: Weekday Store Sales, dtype: float641061    0.0\nName: Weekday Store Sales, dtype: float641061    0.0\nName: Weekday Store Sales, dtype: float641061    0.0\nName: Weekday Store Sales, dtype: float641061    0.0\nName: Weekday Store Sales, dtype: float641061    0.0\nName: Weekday Store Sales, dtype: float641061    0.0\nName: Weekday Store Sales, dtype: float641061    0.0\nName: Weekday Store Sales, dtype: float641061    0.0\nName: Weekday Store Sales, dtype: float641061    0.0\nName: Weekday Store Sales, dtype: float641061    0.0\nName: Weekday Store Sales, dtype: float641061    0.0\nName: Weekend Store Sales, dtype: float641061    0.0\nName: Weekend Store Sales, dtype: float641061    0.0\nName: Weekend Store Sales, dtype: float641061    0.0\nName: Weekend Store Sales, dtype: float641061    0.0\nName: Weekend Store Sales, dtype: float641061    0.0\nName: Weekend Store Sales, dtype: float641061    0.0\nName: Weekend Store Sales, dtype: float641061    0.0\nName: Weekend Store Sales, dtype: float641061    0.0\nName: Weekday Delivery Sales, dtype: float641061    0.0\nName: Weekday Delivery Sales, dtype: float641061    0.0\nName: Weekday Delivery Sales, dtype: float641061    0.0\nName: Weekday Delivery Sales, dtype: float641061    0.0\nName: Weekday Delivery Sales, dtype: float641061    0.0\nName: Weekday Delivery Sales, dtype: float641061    0.0\nName: Weekday Delivery Sales, dtype: float641061    0.0\nName: Weekday Delivery Sales, dtype: float641061    0.0\nName: Weekday Delivery Sales, dtype: float641061    0.0\nName: Weekday Delivery Sales, dtype: float641061    0.0\nName: Weekday Delivery Sales, dtype: float641061    0.0\nName: Weekday Delivery Sales, dtype: float641061    0.0\nName: Weekday Delivery Sales, dtype: float641061    0.0\nName: Weekday Delivery Sales, dtype: float641061    0.0\nName: Weekday Delivery Sales, dtype: float641061    0.0\nName: Weekday Delivery Sales, dtype: float641061    0.0\nName: Weekday Delivery Sales, dtype: float641061    0.0\nName: Weekday Delivery Sales, dtype: float641061    0.0\nName: Weekday Delivery Sales, dtype: float641061    0.0\nName: Weekday Delivery Sales, dtype: float641061    0.0\nName: Weekend Delivery Sales, dtype: float641061    0.0\nName: Weekend Delivery Sales, dtype: float641061    0.0\nName: Weekend Delivery Sales, dtype: float641061    0.0\nName: Weekend Delivery Sales, dtype: float641061    0.0\nName: Weekend Delivery Sales, dtype: float641061    0.0\nName: Weekend Delivery Sales, dtype: float641061    0.0\nName: Weekend Delivery Sales, dtype: float641061    0.0\nName: Weekend Delivery Sales, dtype: float64\"",
      "\nDuring handling of the above exception, another exception occurred:\n",
      "\u001b[0;31mValueError\u001b[0m                                Traceback (most recent call last)",
      "Cell \u001b[0;32mIn[34], line 5\u001b[0m\n\u001b[1;32m      3\u001b[0m \u001b[38;5;28mid\u001b[39m \u001b[38;5;241m=\u001b[39m random\u001b[38;5;241m.\u001b[39mchoice(all_ids)\n\u001b[1;32m      4\u001b[0m sales_df \u001b[38;5;241m=\u001b[39m df[df[\u001b[38;5;124m'\u001b[39m\u001b[38;5;124mRID\u001b[39m\u001b[38;5;124m'\u001b[39m] \u001b[38;5;241m==\u001b[39m \u001b[38;5;28mid\u001b[39m]\n\u001b[0;32m----> 5\u001b[0m m \u001b[38;5;241m=\u001b[39m \u001b[43mprophet_forecast_model\u001b[49m\u001b[43m(\u001b[49m\u001b[43mdf\u001b[49m\u001b[43m)\u001b[49m\n\u001b[1;32m      6\u001b[0m \u001b[38;5;66;03m# forcast = get_prediction(m,12)\u001b[39;00m\n\u001b[1;32m      7\u001b[0m \u001b[38;5;66;03m# plot_plotly(m,forcast)\u001b[39;00m\n",
      "Cell \u001b[0;32mIn[29], line 14\u001b[0m, in \u001b[0;36mprophet_forecast_model\u001b[0;34m(df)\u001b[0m\n\u001b[1;32m      8\u001b[0m model \u001b[38;5;241m=\u001b[39m Prophet(\n\u001b[1;32m      9\u001b[0m     seasonality_mode \u001b[38;5;241m=\u001b[39m \u001b[38;5;124m'\u001b[39m\u001b[38;5;124mmultiplicative\u001b[39m\u001b[38;5;124m'\u001b[39m\n\u001b[1;32m     10\u001b[0m     \u001b[38;5;66;03m# yearly_seasonality=True,\u001b[39;00m\n\u001b[1;32m     11\u001b[0m     )\n\u001b[1;32m     13\u001b[0m \u001b[38;5;28mprint\u001b[39m(\u001b[38;5;124m\"\u001b[39m\u001b[38;5;124mhi\u001b[39m\u001b[38;5;124m\"\u001b[39m)\n\u001b[0;32m---> 14\u001b[0m \u001b[38;5;28;01mreturn\u001b[39;00m \u001b[43mmodel\u001b[49m\u001b[38;5;241;43m.\u001b[39;49m\u001b[43mfit\u001b[49m\u001b[43m(\u001b[49m\u001b[43mtmp\u001b[49m\u001b[43m)\u001b[49m\n",
      "File \u001b[0;32m~/.local/lib/python3.10/site-packages/prophet/forecaster.py:1126\u001b[0m, in \u001b[0;36mProphet.fit\u001b[0;34m(self, df, **kwargs)\u001b[0m\n\u001b[1;32m   1123\u001b[0m     \u001b[38;5;28;01mraise\u001b[39;00m \u001b[38;5;167;01mValueError\u001b[39;00m(\u001b[38;5;124m'\u001b[39m\u001b[38;5;124mDataframe has less than 2 non-NaN rows.\u001b[39m\u001b[38;5;124m'\u001b[39m)\n\u001b[1;32m   1124\u001b[0m \u001b[38;5;28mself\u001b[39m\u001b[38;5;241m.\u001b[39mhistory_dates \u001b[38;5;241m=\u001b[39m pd\u001b[38;5;241m.\u001b[39mto_datetime(pd\u001b[38;5;241m.\u001b[39mSeries(df[\u001b[38;5;124m'\u001b[39m\u001b[38;5;124mds\u001b[39m\u001b[38;5;124m'\u001b[39m]\u001b[38;5;241m.\u001b[39munique(), name\u001b[38;5;241m=\u001b[39m\u001b[38;5;124m'\u001b[39m\u001b[38;5;124mds\u001b[39m\u001b[38;5;124m'\u001b[39m))\u001b[38;5;241m.\u001b[39msort_values()\n\u001b[0;32m-> 1126\u001b[0m history \u001b[38;5;241m=\u001b[39m \u001b[38;5;28;43mself\u001b[39;49m\u001b[38;5;241;43m.\u001b[39;49m\u001b[43msetup_dataframe\u001b[49m\u001b[43m(\u001b[49m\u001b[43mhistory\u001b[49m\u001b[43m,\u001b[49m\u001b[43m \u001b[49m\u001b[43minitialize_scales\u001b[49m\u001b[38;5;241;43m=\u001b[39;49m\u001b[38;5;28;43;01mTrue\u001b[39;49;00m\u001b[43m)\u001b[49m\n\u001b[1;32m   1127\u001b[0m \u001b[38;5;28mself\u001b[39m\u001b[38;5;241m.\u001b[39mhistory \u001b[38;5;241m=\u001b[39m history\n\u001b[1;32m   1128\u001b[0m \u001b[38;5;28mself\u001b[39m\u001b[38;5;241m.\u001b[39mset_auto_seasonalities()\n",
      "File \u001b[0;32m~/.local/lib/python3.10/site-packages/prophet/forecaster.py:266\u001b[0m, in \u001b[0;36mProphet.setup_dataframe\u001b[0;34m(self, df, initialize_scales)\u001b[0m\n\u001b[1;32m    249\u001b[0m \u001b[38;5;250m\u001b[39m\u001b[38;5;124;03m\"\"\"Prepare dataframe for fitting or predicting.\u001b[39;00m\n\u001b[1;32m    250\u001b[0m \n\u001b[1;32m    251\u001b[0m \u001b[38;5;124;03mAdds a time index and scales y. Creates auxiliary columns 't', 't_ix',\u001b[39;00m\n\u001b[0;32m   (...)\u001b[0m\n\u001b[1;32m    263\u001b[0m \u001b[38;5;124;03mpd.DataFrame prepared for fitting or predicting.\u001b[39;00m\n\u001b[1;32m    264\u001b[0m \u001b[38;5;124;03m\"\"\"\u001b[39;00m\n\u001b[1;32m    265\u001b[0m \u001b[38;5;28;01mif\u001b[39;00m \u001b[38;5;124m'\u001b[39m\u001b[38;5;124my\u001b[39m\u001b[38;5;124m'\u001b[39m \u001b[38;5;129;01min\u001b[39;00m df:  \u001b[38;5;66;03m# 'y' will be in training data\u001b[39;00m\n\u001b[0;32m--> 266\u001b[0m     df[\u001b[38;5;124m'\u001b[39m\u001b[38;5;124my\u001b[39m\u001b[38;5;124m'\u001b[39m] \u001b[38;5;241m=\u001b[39m \u001b[43mpd\u001b[49m\u001b[38;5;241;43m.\u001b[39;49m\u001b[43mto_numeric\u001b[49m\u001b[43m(\u001b[49m\u001b[43mdf\u001b[49m\u001b[43m[\u001b[49m\u001b[38;5;124;43m'\u001b[39;49m\u001b[38;5;124;43my\u001b[39;49m\u001b[38;5;124;43m'\u001b[39;49m\u001b[43m]\u001b[49m\u001b[43m)\u001b[49m\n\u001b[1;32m    267\u001b[0m     \u001b[38;5;28;01mif\u001b[39;00m np\u001b[38;5;241m.\u001b[39misinf(df[\u001b[38;5;124m'\u001b[39m\u001b[38;5;124my\u001b[39m\u001b[38;5;124m'\u001b[39m]\u001b[38;5;241m.\u001b[39mvalues)\u001b[38;5;241m.\u001b[39many():\n\u001b[1;32m    268\u001b[0m         \u001b[38;5;28;01mraise\u001b[39;00m \u001b[38;5;167;01mValueError\u001b[39;00m(\u001b[38;5;124m'\u001b[39m\u001b[38;5;124mFound infinity in column y.\u001b[39m\u001b[38;5;124m'\u001b[39m)\n",
      "File \u001b[0;32m~/.local/lib/python3.10/site-packages/pandas/core/tools/numeric.py:222\u001b[0m, in \u001b[0;36mto_numeric\u001b[0;34m(arg, errors, downcast, dtype_backend)\u001b[0m\n\u001b[1;32m    220\u001b[0m coerce_numeric \u001b[38;5;241m=\u001b[39m errors \u001b[38;5;129;01mnot\u001b[39;00m \u001b[38;5;129;01min\u001b[39;00m (\u001b[38;5;124m\"\u001b[39m\u001b[38;5;124mignore\u001b[39m\u001b[38;5;124m\"\u001b[39m, \u001b[38;5;124m\"\u001b[39m\u001b[38;5;124mraise\u001b[39m\u001b[38;5;124m\"\u001b[39m)\n\u001b[1;32m    221\u001b[0m \u001b[38;5;28;01mtry\u001b[39;00m:\n\u001b[0;32m--> 222\u001b[0m     values, new_mask \u001b[38;5;241m=\u001b[39m \u001b[43mlib\u001b[49m\u001b[38;5;241;43m.\u001b[39;49m\u001b[43mmaybe_convert_numeric\u001b[49m\u001b[43m(\u001b[49m\u001b[43m  \u001b[49m\u001b[38;5;66;43;03m# type: ignore[call-overload]  # noqa: E501\u001b[39;49;00m\n\u001b[1;32m    223\u001b[0m \u001b[43m        \u001b[49m\u001b[43mvalues\u001b[49m\u001b[43m,\u001b[49m\n\u001b[1;32m    224\u001b[0m \u001b[43m        \u001b[49m\u001b[38;5;28;43mset\u001b[39;49m\u001b[43m(\u001b[49m\u001b[43m)\u001b[49m\u001b[43m,\u001b[49m\n\u001b[1;32m    225\u001b[0m \u001b[43m        \u001b[49m\u001b[43mcoerce_numeric\u001b[49m\u001b[38;5;241;43m=\u001b[39;49m\u001b[43mcoerce_numeric\u001b[49m\u001b[43m,\u001b[49m\n\u001b[1;32m    226\u001b[0m \u001b[43m        \u001b[49m\u001b[43mconvert_to_masked_nullable\u001b[49m\u001b[38;5;241;43m=\u001b[39;49m\u001b[43mdtype_backend\u001b[49m\u001b[43m \u001b[49m\u001b[38;5;129;43;01mis\u001b[39;49;00m\u001b[43m \u001b[49m\u001b[38;5;129;43;01mnot\u001b[39;49;00m\u001b[43m \u001b[49m\u001b[43mlib\u001b[49m\u001b[38;5;241;43m.\u001b[39;49m\u001b[43mno_default\u001b[49m\n\u001b[1;32m    227\u001b[0m \u001b[43m        \u001b[49m\u001b[38;5;129;43;01mor\u001b[39;49;00m\u001b[43m \u001b[49m\u001b[38;5;28;43misinstance\u001b[39;49m\u001b[43m(\u001b[49m\u001b[43mvalues_dtype\u001b[49m\u001b[43m,\u001b[49m\u001b[43m \u001b[49m\u001b[43mStringDtype\u001b[49m\u001b[43m)\u001b[49m\u001b[43m,\u001b[49m\n\u001b[1;32m    228\u001b[0m \u001b[43m    \u001b[49m\u001b[43m)\u001b[49m\n\u001b[1;32m    229\u001b[0m \u001b[38;5;28;01mexcept\u001b[39;00m (\u001b[38;5;167;01mValueError\u001b[39;00m, \u001b[38;5;167;01mTypeError\u001b[39;00m):\n\u001b[1;32m    230\u001b[0m     \u001b[38;5;28;01mif\u001b[39;00m errors \u001b[38;5;241m==\u001b[39m \u001b[38;5;124m\"\u001b[39m\u001b[38;5;124mraise\u001b[39m\u001b[38;5;124m\"\u001b[39m:\n",
      "File \u001b[0;32mlib.pyx:2410\u001b[0m, in \u001b[0;36mpandas._libs.lib.maybe_convert_numeric\u001b[0;34m()\u001b[0m\n",
      "\u001b[0;31mValueError\u001b[0m: Unable to parse string \"1061    0.0\nName: Weekday Store Sales, dtype: float641061    0.0\nName: Weekday Store Sales, dtype: float641061    0.0\nName: Weekday Store Sales, dtype: float641061    0.0\nName: Weekday Store Sales, dtype: float641061    0.0\nName: Weekday Store Sales, dtype: float641061    0.0\nName: Weekday Store Sales, dtype: float641061    0.0\nName: Weekday Store Sales, dtype: float641061    0.0\nName: Weekday Store Sales, dtype: float641061    0.0\nName: Weekday Store Sales, dtype: float641061    0.0\nName: Weekday Store Sales, dtype: float641061    0.0\nName: Weekday Store Sales, dtype: float641061    0.0\nName: Weekday Store Sales, dtype: float641061    0.0\nName: Weekday Store Sales, dtype: float641061    0.0\nName: Weekday Store Sales, dtype: float641061    0.0\nName: Weekday Store Sales, dtype: float641061    0.0\nName: Weekday Store Sales, dtype: float641061    0.0\nName: Weekday Store Sales, dtype: float641061    0.0\nName: Weekday Store Sales, dtype: float641061    0.0\nName: Weekday Store Sales, dtype: float641061    0.0\nName: Weekday Store Sales, dtype: float641061    0.0\nName: Weekend Store Sales, dtype: float641061    0.0\nName: Weekend Store Sales, dtype: float641061    0.0\nName: Weekend Store Sales, dtype: float641061    0.0\nName: Weekend Store Sales, dtype: float641061    0.0\nName: Weekend Store Sales, dtype: float641061    0.0\nName: Weekend Store Sales, dtype: float641061    0.0\nName: Weekend Store Sales, dtype: float641061    0.0\nName: Weekend Store Sales, dtype: float641061    0.0\nName: Weekday Delivery Sales, dtype: float641061    0.0\nName: Weekday Delivery Sales, dtype: float641061    0.0\nName: Weekday Delivery Sales, dtype: float641061    0.0\nName: Weekday Delivery Sales, dtype: float641061    0.0\nName: Weekday Delivery Sales, dtype: float641061    0.0\nName: Weekday Delivery Sales, dtype: float641061    0.0\nName: Weekday Delivery Sales, dtype: float641061    0.0\nName: Weekday Delivery Sales, dtype: float641061    0.0\nName: Weekday Delivery Sales, dtype: float641061    0.0\nName: Weekday Delivery Sales, dtype: float641061    0.0\nName: Weekday Delivery Sales, dtype: float641061    0.0\nName: Weekday Delivery Sales, dtype: float641061    0.0\nName: Weekday Delivery Sales, dtype: float641061    0.0\nName: Weekday Delivery Sales, dtype: float641061    0.0\nName: Weekday Delivery Sales, dtype: float641061    0.0\nName: Weekday Delivery Sales, dtype: float641061    0.0\nName: Weekday Delivery Sales, dtype: float641061    0.0\nName: Weekday Delivery Sales, dtype: float641061    0.0\nName: Weekday Delivery Sales, dtype: float641061    0.0\nName: Weekday Delivery Sales, dtype: float641061    0.0\nName: Weekend Delivery Sales, dtype: float641061    0.0\nName: Weekend Delivery Sales, dtype: float641061    0.0\nName: Weekend Delivery Sales, dtype: float641061    0.0\nName: Weekend Delivery Sales, dtype: float641061    0.0\nName: Weekend Delivery Sales, dtype: float641061    0.0\nName: Weekend Delivery Sales, dtype: float641061    0.0\nName: Weekend Delivery Sales, dtype: float641061    0.0\nName: Weekend Delivery Sales, dtype: float64\" at position 97116"
     ]
    }
   ],
   "source": [
    "all_ids = df['RID'].unique()\n",
    "id = random.choice(all_ids)\n",
    "sales_df = df[df['RID'] == id]\n",
    "m = prophet_forecast_model(df)\n",
    "# forcast = get_prediction(m,12)\n",
    "# plot_plotly(m,forcast)"
   ]
  }
 ],
 "metadata": {
  "kernelspec": {
   "display_name": "Python 3",
   "language": "python",
   "name": "python3"
  },
  "language_info": {
   "codemirror_mode": {
    "name": "ipython",
    "version": 3
   },
   "file_extension": ".py",
   "mimetype": "text/x-python",
   "name": "python",
   "nbconvert_exporter": "python",
   "pygments_lexer": "ipython3",
   "version": "3.10.12"
  }
 },
 "nbformat": 4,
 "nbformat_minor": 2
}
